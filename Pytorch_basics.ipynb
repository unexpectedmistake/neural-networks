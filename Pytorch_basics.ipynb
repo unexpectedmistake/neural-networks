{
 "cells": [
  {
   "cell_type": "markdown",
   "metadata": {
    "id": "-Iv1eX2mYJ8v"
   },
   "source": [
    "<p style=\"align: center;\"><img src=\"https://upload.wikimedia.org/wikipedia/commons/9/96/Pytorch_logo.png\" width=400 height=100></p>"
   ]
  },
  {
   "cell_type": "markdown",
   "metadata": {},
   "source": [
    "За основу был взят ноутбук из курса [Deep Learning](https://stepik.org/course/101691/syllabus)"
   ]
  },
  {
   "cell_type": "markdown",
   "metadata": {
    "id": "JwiKExhuYJ8w"
   },
   "source": [
    "Этот ноутбук посвящён основам  библиотеки PyTorch."
   ]
  },
  {
   "cell_type": "markdown",
   "metadata": {
    "id": "70_JTnaRbdPD"
   },
   "source": [
    "<h3 style=\"text-align: center;\"><b>Введение</b></h3>"
   ]
  },
  {
   "cell_type": "markdown",
   "metadata": {
    "id": "tQoex-sZYJ8x"
   },
   "source": [
    "В настоящее время существует множество фреймворков глубокого обучения. Разница между ними заключается во внутренних принципах вычислений. Например, в **[Caffe](http://caffe.berkeleyvision.org/)** и **[Caffe2](https://caffe2.ai/)** вы пишете код, используя некоторые «готовые блоки» \"(как и $ LEGO ^ {TM} $ :). В **[TensorFlow](https://www.tensorflow.org/)** и **[Theano](http://deeplearning.net/software/theano/)** вы сначала объявляете граф вычислений, затем компилируйте его и используйте для вывода / обучения (`tf.session ()`). Кстати, теперь в TensorFlow (начиная с версии 1.10) есть функция [Eager Execution](https://www.tensorflow.org/guide/eager), которая может быть полезна для быстрого прототипирования и отладки. **[Keras](https://keras.io/)** - очень популярный и полезный фреймворк DL, который позволяет быстро реализовывать нейронный сети и имеет множество полезных функций.\n"
   ]
  },
  {
   "cell_type": "markdown",
   "metadata": {
    "id": "97MX7yrBYJ8y"
   },
   "source": [
    "<p style=\"align: center;\"><img src=\"https://habrastorage.org/web/e3e/c3e/b78/e3ec3eb78d714a7993a6b922911c0866.png\" width=500 height=500></p>  \n",
    "<p style=\"text-align: center;\"><i>Image credit: https://habr.com/post/334380/</i><p>"
   ]
  },
  {
   "cell_type": "markdown",
   "metadata": {
    "id": "h5yBQj7EbdPJ"
   },
   "source": [
    "Мы будем использовать **PyTorch**, поскольку он активно развивается и поддерживается AI-сообществом "
   ]
  },
  {
   "cell_type": "markdown",
   "metadata": {
    "id": "J74O-qdJYJ80"
   },
   "source": [
    "<h3 style=\"text-align: center;\"><b>Установка</b></h3>"
   ]
  },
  {
   "cell_type": "markdown",
   "metadata": {
    "id": "WpXxZ4-4YJ83"
   },
   "source": [
    "Подробную инструкцию по установке PyTorch вы можете найти на [официальном сайте PyTorch](https://pytorch.org/)."
   ]
  },
  {
   "cell_type": "markdown",
   "metadata": {
    "id": "uxdjjnqIYJ86"
   },
   "source": [
    "## Синтаксис Фреймворка"
   ]
  },
  {
   "cell_type": "code",
   "execution_count": 1,
   "metadata": {
    "ExecuteTime": {
     "end_time": "2022-09-02T07:09:38.580004Z",
     "start_time": "2022-09-02T07:09:26.772680Z"
    },
    "id": "RtyozNmmYJ89"
   },
   "outputs": [],
   "source": [
    "import torch"
   ]
  },
  {
   "cell_type": "markdown",
   "metadata": {
    "id": "zjfLQzEPYJ9B"
   },
   "source": [
    "Несколько фактов о PyTorch:\n",
    "- динамический граф вычислений\n",
    "- удобные модули `torch.nn` и `torchvision` для быстрого прототипирования нейронных сетей\n",
    "- даже быстрее, чем TensorFlow на некоторых задачах\n",
    "- позволяет легко использовать **GPU**"
   ]
  },
  {
   "cell_type": "markdown",
   "metadata": {
    "id": "44AAEPIpu8Mq"
   },
   "source": [
    "По своей сути PyTorch предоставляет две основные функции:\n",
    "\n",
    "- n-мерный тензор, похожий на **numpy**, но может работать на графических процессорах\n",
    "- Автоматическая дифференциация для построения и обучения нейронных сетей"
   ]
  },
  {
   "cell_type": "markdown",
   "metadata": {
    "id": "0AL-T8TMYJ9D"
   },
   "source": [
    "Если бы PyTorch был формулой, она была бы такой:\n",
    "\n",
    "$$PyTorch = NumPy + CUDA + Autograd$$"
   ]
  },
  {
   "cell_type": "markdown",
   "metadata": {
    "id": "X_O59VXWYJ9E"
   },
   "source": [
    "(CUDA - [wiki](https://en.wikipedia.org/wiki/CUDA))"
   ]
  },
  {
   "cell_type": "markdown",
   "metadata": {
    "id": "lWIeTFxSYJ9F"
   },
   "source": [
    "Давайте посмотрим, как мы можем использовать PyTorch для работы с векторами и тензорами.\n",
    "\n",
    "Напомним, что **тензор** - это многомерный вектор, например :\n",
    "\n",
    "`x = np.array ([1,2,3])` - вектор = тензор с 1 размерностью (точнее: `(3,)`)\n",
    "\n",
    "`y = np.array ([[1, 2, 3], [4, 5, 6]])` - матрица = тензор с двумя измерениями (`(2, 3)` в данном случае)\n",
    "\n",
    "`z = np.array ([[[1, 2, 3], [4, 5, 6], [7, 8, 9]]],\n",
    "               [[1, 2, 3], [4, 5, 6], [7, 8, 9]],\n",
    "               [[1, 2, 3], [4, 5, 6], [7, 8, 9]]]) `-\" куб \"(3, 3, 3) = тензор с тремя измерениями (` ( 3, 3, 3) `в этом случае)\n"
   ]
  },
  {
   "cell_type": "markdown",
   "metadata": {
    "id": "hS97vo7mYJ9G"
   },
   "source": [
    "Одним из реальных примеров трехмерного тензора является **изображение**, оно имеет 3 измерения: `высота`, `ширина` и `глубина канала` (глубина канала = 3 для цветных изображений, 1 для оттенков серого). Вы можете думать об этом как о параллелепипеде, состоящем из действительных чисел.\n"
   ]
  },
  {
   "cell_type": "markdown",
   "metadata": {
    "id": "byu7xZtLYJ9J"
   },
   "source": [
    "### Типы Тензоров"
   ]
  },
  {
   "cell_type": "markdown",
   "metadata": {
    "id": "tEeGGtRiYJ9H"
   },
   "source": [
    "В PyTorch мы будем использовать `torch.Tensor` (`FloatTensor`, `IntTensor`, `ByteTensor`) для всех вычислений.\n",
    "\n",
    "Все типы:"
   ]
  },
  {
   "cell_type": "code",
   "execution_count": 2,
   "metadata": {
    "ExecuteTime": {
     "end_time": "2022-09-02T07:09:38.595184Z",
     "start_time": "2022-09-02T07:09:38.582081Z"
    },
    "colab": {
     "base_uri": "https://localhost:8080/"
    },
    "executionInfo": {
     "elapsed": 60,
     "status": "ok",
     "timestamp": 1634457927378,
     "user": {
      "displayName": "Александр Анатольевич Миленькин",
      "photoUrl": "https://lh3.googleusercontent.com/a-/AOh14Gh1yB_mGyNeEBrnQ_bFdA3CLdWCnTPdtAORppSkYg=s64",
      "userId": "12111341805146772458"
     },
     "user_tz": -180
    },
    "id": "zilSktmEGgAv",
    "outputId": "07dd7d1e-e151-4ee0-eccd-618ebb747fe1"
   },
   "outputs": [
    {
     "data": {
      "text/plain": [
       "torch.ByteTensor"
      ]
     },
     "execution_count": 2,
     "metadata": {},
     "output_type": "execute_result"
    }
   ],
   "source": [
    "torch.HalfTensor      # 16 бит, floating point\n",
    "torch.FloatTensor     # 32 бита, floating point\n",
    "torch.DoubleTensor    # 64 бита, floating point\n",
    "\n",
    "torch.ShortTensor     # 16 бит, integer, signed\n",
    "torch.IntTensor       # 32 бита, integer, signed\n",
    "torch.LongTensor      # 64 бита, integer, signed\n",
    "\n",
    "torch.CharTensor      # 8 бит, integer, signed\n",
    "torch.ByteTensor      # 8 бит, integer, unsigned"
   ]
  },
  {
   "cell_type": "markdown",
   "metadata": {
    "id": "NWk2gidNYJ9P"
   },
   "source": [
    "Мы будем использовать только `torch.FloatTensor()` и `torch.IntTensor()`."
   ]
  },
  {
   "cell_type": "markdown",
   "metadata": {
    "id": "CllyEKvVYJ9Q"
   },
   "source": [
    "Начнем уже что-нибудь писать!"
   ]
  },
  {
   "cell_type": "markdown",
   "metadata": {
    "id": "R4HEetsxYJ9Q"
   },
   "source": [
    "### Создание тензора"
   ]
  },
  {
   "cell_type": "code",
   "execution_count": 3,
   "metadata": {
    "ExecuteTime": {
     "end_time": "2022-09-02T07:09:38.620891Z",
     "start_time": "2022-09-02T07:09:38.608645Z"
    },
    "colab": {
     "base_uri": "https://localhost:8080/"
    },
    "executionInfo": {
     "elapsed": 379,
     "status": "ok",
     "timestamp": 1634745421544,
     "user": {
      "displayName": "Александр Анатольевич Миленькин",
      "photoUrl": "https://lh3.googleusercontent.com/a-/AOh14Gh1yB_mGyNeEBrnQ_bFdA3CLdWCnTPdtAORppSkYg=s64",
      "userId": "12111341805146772458"
     },
     "user_tz": -180
    },
    "id": "MVawE9lRYJ9R",
    "outputId": "abbf6a24-fff3-426d-8dfe-1190e4d568d5"
   },
   "outputs": [
    {
     "data": {
      "text/plain": [
       "tensor([1., 2.])"
      ]
     },
     "execution_count": 3,
     "metadata": {},
     "output_type": "execute_result"
    }
   ],
   "source": [
    "a = torch.FloatTensor([1, 2])\n",
    "a\n"
   ]
  },
  {
   "cell_type": "code",
   "execution_count": 4,
   "metadata": {
    "ExecuteTime": {
     "end_time": "2022-09-02T07:09:38.643411Z",
     "start_time": "2022-09-02T07:09:38.632544Z"
    },
    "colab": {
     "base_uri": "https://localhost:8080/"
    },
    "executionInfo": {
     "elapsed": 663,
     "status": "ok",
     "timestamp": 1634745439181,
     "user": {
      "displayName": "Александр Анатольевич Миленькин",
      "photoUrl": "https://lh3.googleusercontent.com/a-/AOh14Gh1yB_mGyNeEBrnQ_bFdA3CLdWCnTPdtAORppSkYg=s64",
      "userId": "12111341805146772458"
     },
     "user_tz": -180
    },
    "id": "ARjaPS_GYJ9W",
    "outputId": "ebdd325d-7bad-4724-c82e-67783414abb0"
   },
   "outputs": [
    {
     "data": {
      "text/plain": [
       "torch.Size([2])"
      ]
     },
     "execution_count": 4,
     "metadata": {},
     "output_type": "execute_result"
    }
   ],
   "source": [
    "a.shape"
   ]
  },
  {
   "cell_type": "code",
   "execution_count": 5,
   "metadata": {
    "ExecuteTime": {
     "end_time": "2022-09-02T07:09:38.656424Z",
     "start_time": "2022-09-02T07:09:38.647362Z"
    },
    "colab": {
     "base_uri": "https://localhost:8080/"
    },
    "executionInfo": {
     "elapsed": 677,
     "status": "ok",
     "timestamp": 1634745452466,
     "user": {
      "displayName": "Александр Анатольевич Миленькин",
      "photoUrl": "https://lh3.googleusercontent.com/a-/AOh14Gh1yB_mGyNeEBrnQ_bFdA3CLdWCnTPdtAORppSkYg=s64",
      "userId": "12111341805146772458"
     },
     "user_tz": -180
    },
    "id": "4gXf0akDYJ9Z",
    "outputId": "ee382869-6c7c-49b2-e7e2-a0c07b1f0c50"
   },
   "outputs": [
    {
     "data": {
      "text/plain": [
       "tensor([[1., 2., 3.],\n",
       "        [4., 5., 6.]])"
      ]
     },
     "execution_count": 5,
     "metadata": {},
     "output_type": "execute_result"
    }
   ],
   "source": [
    "b = torch.FloatTensor([[1,2,3], [4,5,6]])\n",
    "b"
   ]
  },
  {
   "cell_type": "code",
   "execution_count": 6,
   "metadata": {
    "ExecuteTime": {
     "end_time": "2022-09-02T07:09:38.674405Z",
     "start_time": "2022-09-02T07:09:38.665000Z"
    },
    "colab": {
     "base_uri": "https://localhost:8080/"
    },
    "executionInfo": {
     "elapsed": 14,
     "status": "ok",
     "timestamp": 1634745454565,
     "user": {
      "displayName": "Александр Анатольевич Миленькин",
      "photoUrl": "https://lh3.googleusercontent.com/a-/AOh14Gh1yB_mGyNeEBrnQ_bFdA3CLdWCnTPdtAORppSkYg=s64",
      "userId": "12111341805146772458"
     },
     "user_tz": -180
    },
    "id": "0HTkoIzpYJ9e",
    "outputId": "5ac34d30-bf04-4839-8858-53074d509450"
   },
   "outputs": [
    {
     "data": {
      "text/plain": [
       "torch.Size([2, 3])"
      ]
     },
     "execution_count": 6,
     "metadata": {},
     "output_type": "execute_result"
    }
   ],
   "source": [
    "b.shape"
   ]
  },
  {
   "cell_type": "code",
   "execution_count": 7,
   "metadata": {
    "ExecuteTime": {
     "end_time": "2022-09-02T07:09:38.683117Z",
     "start_time": "2022-09-02T07:09:38.678843Z"
    },
    "id": "WYJ9L-yFYJ9j"
   },
   "outputs": [],
   "source": [
    "x = torch.FloatTensor(2,3,4)"
   ]
  },
  {
   "cell_type": "code",
   "execution_count": 8,
   "metadata": {
    "ExecuteTime": {
     "end_time": "2022-09-02T07:09:38.695050Z",
     "start_time": "2022-09-02T07:09:38.687960Z"
    },
    "colab": {
     "base_uri": "https://localhost:8080/"
    },
    "executionInfo": {
     "elapsed": 6,
     "status": "ok",
     "timestamp": 1634745476788,
     "user": {
      "displayName": "Александр Анатольевич Миленькин",
      "photoUrl": "https://lh3.googleusercontent.com/a-/AOh14Gh1yB_mGyNeEBrnQ_bFdA3CLdWCnTPdtAORppSkYg=s64",
      "userId": "12111341805146772458"
     },
     "user_tz": -180
    },
    "id": "qWAEP27IYJ9m",
    "outputId": "f20995ad-4a57-4b02-e362-2b3104271f37"
   },
   "outputs": [
    {
     "data": {
      "text/plain": [
       "tensor([[[0.0000e+00, 0.0000e+00, 3.5733e-43, 0.0000e+00],\n",
       "         [0.0000e+00, 0.0000e+00, 0.0000e+00, 0.0000e+00],\n",
       "         [0.0000e+00, 0.0000e+00, 0.0000e+00, 0.0000e+00]],\n",
       "\n",
       "        [[3.5733e-43, 0.0000e+00, 0.0000e+00, 0.0000e+00],\n",
       "         [0.0000e+00, 0.0000e+00, 0.0000e+00, 0.0000e+00],\n",
       "         [0.0000e+00, 0.0000e+00, 0.0000e+00, 0.0000e+00]]])"
      ]
     },
     "execution_count": 8,
     "metadata": {},
     "output_type": "execute_result"
    }
   ],
   "source": [
    "x"
   ]
  },
  {
   "cell_type": "code",
   "execution_count": 9,
   "metadata": {
    "ExecuteTime": {
     "end_time": "2022-09-02T07:09:38.705099Z",
     "start_time": "2022-09-02T07:09:38.697320Z"
    },
    "colab": {
     "base_uri": "https://localhost:8080/"
    },
    "executionInfo": {
     "elapsed": 406,
     "status": "ok",
     "timestamp": 1634745511126,
     "user": {
      "displayName": "Александр Анатольевич Миленькин",
      "photoUrl": "https://lh3.googleusercontent.com/a-/AOh14Gh1yB_mGyNeEBrnQ_bFdA3CLdWCnTPdtAORppSkYg=s64",
      "userId": "12111341805146772458"
     },
     "user_tz": -180
    },
    "id": "o5CsOJ_xYJ9s",
    "outputId": "ca4147d0-1cd0-4ada-cef3-76770e887dc0",
    "scrolled": true
   },
   "outputs": [
    {
     "data": {
      "text/plain": [
       "tensor([ 4.2039e-44,  0.0000e+00,  0.0000e+00,  0.0000e+00,  3.4700e-37,\n",
       "         1.4013e-45,  0.0000e+00,  0.0000e+00,  0.0000e+00,  0.0000e+00,\n",
       "         0.0000e+00,  0.0000e+00,  0.0000e+00,  0.0000e+00,  0.0000e+00,\n",
       "         0.0000e+00,  0.0000e+00,  0.0000e+00,  0.0000e+00,  0.0000e+00,\n",
       "         0.0000e+00,  0.0000e+00,  0.0000e+00,  0.0000e+00,  0.0000e+00,\n",
       "         0.0000e+00,  0.0000e+00,  0.0000e+00,  9.1835e-41,  0.0000e+00,\n",
       "         0.0000e+00,  0.0000e+00,  0.0000e+00,  0.0000e+00,  0.0000e+00,\n",
       "         0.0000e+00,  0.0000e+00,  0.0000e+00,  0.0000e+00,  0.0000e+00,\n",
       "         0.0000e+00,  0.0000e+00,  0.0000e+00,  0.0000e+00,  0.0000e+00,\n",
       "         0.0000e+00,  0.0000e+00,  0.0000e+00,  1.4013e-45,  0.0000e+00,\n",
       "         0.0000e+00,  0.0000e+00,  3.4700e-37,  1.4013e-45,  0.0000e+00,\n",
       "         0.0000e+00,  0.0000e+00,  0.0000e+00,  0.0000e+00,  0.0000e+00,\n",
       "         0.0000e+00,  0.0000e+00,  0.0000e+00,  0.0000e+00,  0.0000e+00,\n",
       "         0.0000e+00,  0.0000e+00,  0.0000e+00,  0.0000e+00,  0.0000e+00,\n",
       "         0.0000e+00,  0.0000e+00,  0.0000e+00,  0.0000e+00,  0.0000e+00,\n",
       "         0.0000e+00,  0.0000e+00,  0.0000e+00,  1.3802e-09,  4.5883e-41,\n",
       "         7.4735e-13,  4.5883e-41,  0.0000e+00,  0.0000e+00,  0.0000e+00,\n",
       "         0.0000e+00,  0.0000e+00,  0.0000e+00,  0.0000e+00,  2.8026e-45,\n",
       "         0.0000e+00,  0.0000e+00,  9.7284e+30,  1.5849e+29,  1.0778e+31,\n",
       "        -1.0845e-19,  1.3388e-09,  4.5883e-41,  1.3415e-09,  4.5883e-41])"
      ]
     },
     "execution_count": 9,
     "metadata": {},
     "output_type": "execute_result"
    }
   ],
   "source": [
    "x = torch.FloatTensor(100)\n",
    "x"
   ]
  },
  {
   "cell_type": "code",
   "execution_count": 10,
   "metadata": {
    "ExecuteTime": {
     "end_time": "2022-09-02T07:09:38.717994Z",
     "start_time": "2022-09-02T07:09:38.712702Z"
    },
    "colab": {
     "base_uri": "https://localhost:8080/"
    },
    "executionInfo": {
     "elapsed": 437,
     "status": "ok",
     "timestamp": 1634745523805,
     "user": {
      "displayName": "Александр Анатольевич Миленькин",
      "photoUrl": "https://lh3.googleusercontent.com/a-/AOh14Gh1yB_mGyNeEBrnQ_bFdA3CLdWCnTPdtAORppSkYg=s64",
      "userId": "12111341805146772458"
     },
     "user_tz": -180
    },
    "id": "uIVhvmzZYJ91",
    "outputId": "68747815-c3b2-4328-ca38-ce32b7321f0b"
   },
   "outputs": [
    {
     "data": {
      "text/plain": [
       "torch.Size([45, 57, 14, 2])"
      ]
     },
     "execution_count": 10,
     "metadata": {},
     "output_type": "execute_result"
    }
   ],
   "source": [
    "x = torch.IntTensor(45, 57, 14, 2)\n",
    "x.shape"
   ]
  },
  {
   "cell_type": "markdown",
   "metadata": {
    "id": "cUzl8DFRYJ95"
   },
   "source": [
    "**Примечание:** если вы создаете `torch.Tensor` с помощью следующего конструктора, он будет заполнен мусором из \"случайных номеров\":"
   ]
  },
  {
   "cell_type": "code",
   "execution_count": 11,
   "metadata": {
    "ExecuteTime": {
     "end_time": "2022-09-02T07:09:38.727071Z",
     "start_time": "2022-09-02T07:09:38.720608Z"
    },
    "colab": {
     "base_uri": "https://localhost:8080/"
    },
    "executionInfo": {
     "elapsed": 387,
     "status": "ok",
     "timestamp": 1634745537404,
     "user": {
      "displayName": "Александр Анатольевич Миленькин",
      "photoUrl": "https://lh3.googleusercontent.com/a-/AOh14Gh1yB_mGyNeEBrnQ_bFdA3CLdWCnTPdtAORppSkYg=s64",
      "userId": "12111341805146772458"
     },
     "user_tz": -180
    },
    "id": "QX0QcIOzYJ96",
    "outputId": "396c0956-a2f3-4d76-a697-5837aaa7385b"
   },
   "outputs": [
    {
     "data": {
      "text/plain": [
       "tensor([[[  0,   0, 255,   0],\n",
       "         [  0,   0,   0,   0]],\n",
       "\n",
       "        [[  0,   0,   0,   0],\n",
       "         [255,   0,   0,   0]],\n",
       "\n",
       "        [[  0,   0,   0,   0],\n",
       "         [  0,   0,   0,   0]]], dtype=torch.int32)"
      ]
     },
     "execution_count": 11,
     "metadata": {},
     "output_type": "execute_result"
    }
   ],
   "source": [
    "x = torch.IntTensor(3, 2, 4)\n",
    "x"
   ]
  },
  {
   "cell_type": "markdown",
   "metadata": {
    "id": "utra2t4SbdQR"
   },
   "source": [
    "### Инициализации тензоров"
   ]
  },
  {
   "cell_type": "code",
   "execution_count": 12,
   "metadata": {
    "ExecuteTime": {
     "end_time": "2022-09-02T07:09:38.738568Z",
     "start_time": "2022-09-02T07:09:38.730207Z"
    },
    "id": "XV3w9lVwYJ-A"
   },
   "outputs": [],
   "source": [
    "x1 = torch.FloatTensor(3, 2, 4)\n",
    "x1.zero_()\n",
    "x2 = torch.zeros(3, 2, 4)\n",
    "x3 = torch.zeros_like(x1)\n",
    "\n",
    "assert torch.allclose(x1, x2) and torch.allclose(x1, x3)"
   ]
  },
  {
   "cell_type": "markdown",
   "metadata": {
    "id": "G3el1HwZd9wJ"
   },
   "source": [
    "Инициализация случайного распределения"
   ]
  },
  {
   "cell_type": "code",
   "execution_count": 13,
   "metadata": {
    "ExecuteTime": {
     "end_time": "2022-09-02T07:09:38.759606Z",
     "start_time": "2022-09-02T07:09:38.743140Z"
    },
    "colab": {
     "base_uri": "https://localhost:8080/"
    },
    "executionInfo": {
     "elapsed": 5,
     "status": "ok",
     "timestamp": 1634745664576,
     "user": {
      "displayName": "Александр Анатольевич Миленькин",
      "photoUrl": "https://lh3.googleusercontent.com/a-/AOh14Gh1yB_mGyNeEBrnQ_bFdA3CLdWCnTPdtAORppSkYg=s64",
      "userId": "12111341805146772458"
     },
     "user_tz": -180
    },
    "id": "-ahnCFMXe_9I",
    "outputId": "e2882741-a8c3-451e-ed56-b8b1a64c14dc"
   },
   "outputs": [
    {
     "data": {
      "text/plain": [
       "tensor([[ 0.6199,  0.1082, -0.8436],\n",
       "        [-1.3286, -0.7345, -0.6850]])"
      ]
     },
     "execution_count": 13,
     "metadata": {},
     "output_type": "execute_result"
    }
   ],
   "source": [
    "x = torch.randn((2,3))                # Normal(0, 1) с размером (2, 3)\n",
    "x"
   ]
  },
  {
   "cell_type": "code",
   "execution_count": 14,
   "metadata": {
    "ExecuteTime": {
     "end_time": "2022-09-02T07:09:38.775189Z",
     "start_time": "2022-09-02T07:09:38.764192Z"
    },
    "colab": {
     "base_uri": "https://localhost:8080/"
    },
    "executionInfo": {
     "elapsed": 12,
     "status": "ok",
     "timestamp": 1634457939916,
     "user": {
      "displayName": "Александр Анатольевич Миленькин",
      "photoUrl": "https://lh3.googleusercontent.com/a-/AOh14Gh1yB_mGyNeEBrnQ_bFdA3CLdWCnTPdtAORppSkYg=s64",
      "userId": "12111341805146772458"
     },
     "user_tz": -180
    },
    "id": "FhIy_yuRd9Kf",
    "outputId": "2f6e8b9f-1495-4b61-89f4-cd490c69aed3"
   },
   "outputs": [
    {
     "data": {
      "text/plain": [
       "tensor([[0., 0., 1.],\n",
       "        [0., 0., 0.]])"
      ]
     },
     "execution_count": 14,
     "metadata": {},
     "output_type": "execute_result"
    }
   ],
   "source": [
    "x.random_(0, 10)                      # Дискретное равномерно U[0, 10]\n",
    "x.uniform_(0, 1)                      # Равномерно U[0, 1]\n",
    "x.normal_(mean=0, std=1)              # Нормальное со средним 0 и дисперсией 1\n",
    "x.bernoulli_(p=0.5)                   # bernoulli with parameter p"
   ]
  },
  {
   "cell_type": "markdown",
   "metadata": {
    "id": "bzq1klQuzXA9"
   },
   "source": [
    "## Функции в Torch \n",
    "\n",
    "У всех функций Numpy есть своя пара в Torch! Осталось теперь вспомнить numpy 🙂\n",
    "\n",
    "https://github.com/torch/torch7/wiki/Torch-for-Numpy-users"
   ]
  },
  {
   "cell_type": "markdown",
   "metadata": {
    "id": "SAAmLRwzYJ-E"
   },
   "source": [
    "### Изменение формы\n",
    "`np.reshape()` == `torch.view()`:"
   ]
  },
  {
   "cell_type": "code",
   "execution_count": 15,
   "metadata": {
    "ExecuteTime": {
     "end_time": "2022-09-02T07:09:38.784795Z",
     "start_time": "2022-09-02T07:09:38.777464Z"
    },
    "colab": {
     "base_uri": "https://localhost:8080/"
    },
    "executionInfo": {
     "elapsed": 861,
     "status": "ok",
     "timestamp": 1634745732019,
     "user": {
      "displayName": "Александр Анатольевич Миленькин",
      "photoUrl": "https://lh3.googleusercontent.com/a-/AOh14Gh1yB_mGyNeEBrnQ_bFdA3CLdWCnTPdtAORppSkYg=s64",
      "userId": "12111341805146772458"
     },
     "user_tz": -180
    },
    "id": "LLOoLEMDl8Cl",
    "outputId": "316ed447-b240-4fee-a3cf-cd0b86dd22a1"
   },
   "outputs": [
    {
     "data": {
      "text/plain": [
       "tensor([[1., 2., 3.],\n",
       "        [4., 5., 6.]])"
      ]
     },
     "execution_count": 15,
     "metadata": {},
     "output_type": "execute_result"
    }
   ],
   "source": [
    "b"
   ]
  },
  {
   "cell_type": "code",
   "execution_count": 16,
   "metadata": {
    "ExecuteTime": {
     "end_time": "2022-09-02T07:09:38.799381Z",
     "start_time": "2022-09-02T07:09:38.787798Z"
    },
    "colab": {
     "base_uri": "https://localhost:8080/"
    },
    "executionInfo": {
     "elapsed": 530,
     "status": "ok",
     "timestamp": 1634745738208,
     "user": {
      "displayName": "Александр Анатольевич Миленькин",
      "photoUrl": "https://lh3.googleusercontent.com/a-/AOh14Gh1yB_mGyNeEBrnQ_bFdA3CLdWCnTPdtAORppSkYg=s64",
      "userId": "12111341805146772458"
     },
     "user_tz": -180
    },
    "id": "vLu6QvQihvGA",
    "outputId": "b65aedab-36a9-4a91-86fc-32435c7b1a4d"
   },
   "outputs": [
    {
     "data": {
      "text/plain": [
       "torch.Size([3, 2])"
      ]
     },
     "execution_count": 16,
     "metadata": {},
     "output_type": "execute_result"
    }
   ],
   "source": [
    "b.view(3, 2).shape"
   ]
  },
  {
   "cell_type": "code",
   "execution_count": 17,
   "metadata": {
    "ExecuteTime": {
     "end_time": "2022-09-02T07:09:38.812461Z",
     "start_time": "2022-09-02T07:09:38.805075Z"
    },
    "colab": {
     "base_uri": "https://localhost:8080/"
    },
    "executionInfo": {
     "elapsed": 5,
     "status": "ok",
     "timestamp": 1634745742585,
     "user": {
      "displayName": "Александр Анатольевич Миленькин",
      "photoUrl": "https://lh3.googleusercontent.com/a-/AOh14Gh1yB_mGyNeEBrnQ_bFdA3CLdWCnTPdtAORppSkYg=s64",
      "userId": "12111341805146772458"
     },
     "user_tz": -180
    },
    "id": "BAET_xQhl_2f",
    "outputId": "ddc7d4a9-eb01-4c47-b7f6-83ac3830651c"
   },
   "outputs": [
    {
     "data": {
      "text/plain": [
       "tensor([[1., 2., 3.],\n",
       "        [4., 5., 6.]])"
      ]
     },
     "execution_count": 17,
     "metadata": {},
     "output_type": "execute_result"
    }
   ],
   "source": [
    "b"
   ]
  },
  {
   "cell_type": "code",
   "execution_count": 18,
   "metadata": {
    "ExecuteTime": {
     "end_time": "2022-09-02T07:09:38.824858Z",
     "start_time": "2022-09-02T07:09:38.815047Z"
    },
    "colab": {
     "base_uri": "https://localhost:8080/"
    },
    "executionInfo": {
     "elapsed": 1226,
     "status": "ok",
     "timestamp": 1634745760597,
     "user": {
      "displayName": "Александр Анатольевич Миленькин",
      "photoUrl": "https://lh3.googleusercontent.com/a-/AOh14Gh1yB_mGyNeEBrnQ_bFdA3CLdWCnTPdtAORppSkYg=s64",
      "userId": "12111341805146772458"
     },
     "user_tz": -180
    },
    "id": "spMYG2xXYJ-L",
    "outputId": "9465bbfa-8121-4471-bc6c-81557b80ca86"
   },
   "outputs": [
    {
     "data": {
      "text/plain": [
       "(tensor([[1., 2., 3.],\n",
       "         [4., 5., 6.]]),\n",
       " (3, 1))"
      ]
     },
     "execution_count": 18,
     "metadata": {},
     "output_type": "execute_result"
    }
   ],
   "source": [
    "b, b.stride()"
   ]
  },
  {
   "cell_type": "code",
   "execution_count": 19,
   "metadata": {
    "ExecuteTime": {
     "end_time": "2022-09-02T07:09:38.836882Z",
     "start_time": "2022-09-02T07:09:38.828421Z"
    },
    "colab": {
     "base_uri": "https://localhost:8080/"
    },
    "executionInfo": {
     "elapsed": 343,
     "status": "ok",
     "timestamp": 1634648052721,
     "user": {
      "displayName": "Александр Анатольевич Миленькин",
      "photoUrl": "https://lh3.googleusercontent.com/a-/AOh14Gh1yB_mGyNeEBrnQ_bFdA3CLdWCnTPdtAORppSkYg=s64",
      "userId": "12111341805146772458"
     },
     "user_tz": -180
    },
    "id": "ePjL3X3GYJ-H",
    "outputId": "a0e06364-61e9-475d-ca36-5b9c28b01387"
   },
   "outputs": [
    {
     "data": {
      "text/plain": [
       "(tensor([[1., 2.],\n",
       "         [3., 4.],\n",
       "         [5., 6.]]),\n",
       " (2, 1))"
      ]
     },
     "execution_count": 19,
     "metadata": {},
     "output_type": "execute_result"
    }
   ],
   "source": [
    "b.view(3, 2), b.view(3, 2).stride()  "
   ]
  },
  {
   "cell_type": "markdown",
   "metadata": {
    "id": "amVu0N1zYJ-O"
   },
   "source": [
    "**Примечание:** `torch.view ()` создает новый тензор, но старый остается неизменным"
   ]
  },
  {
   "cell_type": "code",
   "execution_count": 20,
   "metadata": {
    "ExecuteTime": {
     "end_time": "2022-09-02T07:09:38.849470Z",
     "start_time": "2022-09-02T07:09:38.841229Z"
    },
    "colab": {
     "base_uri": "https://localhost:8080/"
    },
    "executionInfo": {
     "elapsed": 568,
     "status": "ok",
     "timestamp": 1634746095718,
     "user": {
      "displayName": "Александр Анатольевич Миленькин",
      "photoUrl": "https://lh3.googleusercontent.com/a-/AOh14Gh1yB_mGyNeEBrnQ_bFdA3CLdWCnTPdtAORppSkYg=s64",
      "userId": "12111341805146772458"
     },
     "user_tz": -180
    },
    "id": "hWqyugOSYJ-Q",
    "outputId": "ed94a8d8-41a3-4a7b-b7bf-2c27fe62b569"
   },
   "outputs": [
    {
     "data": {
      "text/plain": [
       "tensor([[1., 2.],\n",
       "        [3., 4.],\n",
       "        [5., 6.]])"
      ]
     },
     "execution_count": 20,
     "metadata": {},
     "output_type": "execute_result"
    }
   ],
   "source": [
    "b.view(-1, 2)"
   ]
  },
  {
   "cell_type": "code",
   "execution_count": 21,
   "metadata": {
    "ExecuteTime": {
     "end_time": "2022-09-02T07:09:38.859382Z",
     "start_time": "2022-09-02T07:09:38.852938Z"
    },
    "colab": {
     "base_uri": "https://localhost:8080/"
    },
    "executionInfo": {
     "elapsed": 552,
     "status": "ok",
     "timestamp": 1634746102667,
     "user": {
      "displayName": "Александр Анатольевич Миленькин",
      "photoUrl": "https://lh3.googleusercontent.com/a-/AOh14Gh1yB_mGyNeEBrnQ_bFdA3CLdWCnTPdtAORppSkYg=s64",
      "userId": "12111341805146772458"
     },
     "user_tz": -180
    },
    "id": "S9CvF56uYJ-U",
    "outputId": "fe2f9279-d516-4c04-ef95-561f1cad5f4b"
   },
   "outputs": [
    {
     "data": {
      "text/plain": [
       "tensor([[1., 2., 3.],\n",
       "        [4., 5., 6.]])"
      ]
     },
     "execution_count": 21,
     "metadata": {},
     "output_type": "execute_result"
    }
   ],
   "source": [
    "b"
   ]
  },
  {
   "cell_type": "code",
   "execution_count": 22,
   "metadata": {
    "ExecuteTime": {
     "end_time": "2022-09-02T07:09:38.870709Z",
     "start_time": "2022-09-02T07:09:38.862419Z"
    },
    "colab": {
     "base_uri": "https://localhost:8080/"
    },
    "executionInfo": {
     "elapsed": 9,
     "status": "ok",
     "timestamp": 1634745895301,
     "user": {
      "displayName": "Александр Анатольевич Миленькин",
      "photoUrl": "https://lh3.googleusercontent.com/a-/AOh14Gh1yB_mGyNeEBrnQ_bFdA3CLdWCnTPdtAORppSkYg=s64",
      "userId": "12111341805146772458"
     },
     "user_tz": -180
    },
    "id": "MVrFVwTNYd3S",
    "outputId": "65a2432b-c5f6-410c-9e22-113864cea1e7"
   },
   "outputs": [
    {
     "data": {
      "text/plain": [
       "((1, 3), True, False)"
      ]
     },
     "execution_count": 22,
     "metadata": {},
     "output_type": "execute_result"
    }
   ],
   "source": [
    "b.T.stride(), b.is_contiguous(), b.T.is_contiguous()"
   ]
  },
  {
   "cell_type": "code",
   "execution_count": null,
   "metadata": {
    "id": "0hZucnNac_x1"
   },
   "outputs": [],
   "source": []
  },
  {
   "cell_type": "markdown",
   "metadata": {
    "id": "IVYx1j_HUl2d"
   },
   "source": [
    "<img src='https://lh3.googleusercontent.com/proxy/pbQ8C9YLVguU2LzlfE2-57lC3KK3yIRsQnpaTOK9S2UPpopvnZ3JhgeMcT6_kqYL56xq18ZFqddzPhszZg1W9YY--y-qDD2-bJrjVYivMdpQgRqiumwh6PpJYU3cL5Mua9RNeVp6xK0'>"
   ]
  },
  {
   "cell_type": "code",
   "execution_count": 23,
   "metadata": {
    "ExecuteTime": {
     "end_time": "2022-09-02T07:09:38.886057Z",
     "start_time": "2022-09-02T07:09:38.876236Z"
    },
    "colab": {
     "base_uri": "https://localhost:8080/"
    },
    "executionInfo": {
     "elapsed": 388,
     "status": "ok",
     "timestamp": 1634746107727,
     "user": {
      "displayName": "Александр Анатольевич Миленькин",
      "photoUrl": "https://lh3.googleusercontent.com/a-/AOh14Gh1yB_mGyNeEBrnQ_bFdA3CLdWCnTPdtAORppSkYg=s64",
      "userId": "12111341805146772458"
     },
     "user_tz": -180
    },
    "id": "mjBCZ1fEJN5B",
    "outputId": "ca03c774-804b-4efd-f395-05e10f61d1e4"
   },
   "outputs": [
    {
     "data": {
      "text/plain": [
       "tensor([1., 2., 3., 4., 5., 6.])"
      ]
     },
     "execution_count": 23,
     "metadata": {},
     "output_type": "execute_result"
    }
   ],
   "source": [
    "b.reshape(-1) # возвращает view или contigues тензор"
   ]
  },
  {
   "cell_type": "code",
   "execution_count": 24,
   "metadata": {
    "ExecuteTime": {
     "end_time": "2022-09-02T07:09:38.898684Z",
     "start_time": "2022-09-02T07:09:38.890192Z"
    },
    "colab": {
     "base_uri": "https://localhost:8080/"
    },
    "executionInfo": {
     "elapsed": 594,
     "status": "ok",
     "timestamp": 1634746115204,
     "user": {
      "displayName": "Александр Анатольевич Миленькин",
      "photoUrl": "https://lh3.googleusercontent.com/a-/AOh14Gh1yB_mGyNeEBrnQ_bFdA3CLdWCnTPdtAORppSkYg=s64",
      "userId": "12111341805146772458"
     },
     "user_tz": -180
    },
    "id": "wet5p_4uJRm6",
    "outputId": "3ff29e31-aa4f-4f3d-bcfd-6ab7f1f0823d"
   },
   "outputs": [
    {
     "data": {
      "text/plain": [
       "tensor([[1., 2., 3.],\n",
       "        [4., 5., 6.]])"
      ]
     },
     "execution_count": 24,
     "metadata": {},
     "output_type": "execute_result"
    }
   ],
   "source": [
    "b"
   ]
  },
  {
   "cell_type": "markdown",
   "metadata": {
    "id": "t401j1E2YJ-Z"
   },
   "source": [
    "### Изменение типа тензора"
   ]
  },
  {
   "cell_type": "code",
   "execution_count": 25,
   "metadata": {
    "ExecuteTime": {
     "end_time": "2022-09-02T07:09:38.907388Z",
     "start_time": "2022-09-02T07:09:38.902157Z"
    },
    "id": "f_iDUEH4YJ-Z"
   },
   "outputs": [],
   "source": [
    "a = torch.FloatTensor([1.5, 3.2, -7])"
   ]
  },
  {
   "cell_type": "code",
   "execution_count": 26,
   "metadata": {
    "ExecuteTime": {
     "end_time": "2022-09-02T07:09:38.917674Z",
     "start_time": "2022-09-02T07:09:38.910472Z"
    },
    "colab": {
     "base_uri": "https://localhost:8080/"
    },
    "executionInfo": {
     "elapsed": 590,
     "status": "ok",
     "timestamp": 1634746135121,
     "user": {
      "displayName": "Александр Анатольевич Миленькин",
      "photoUrl": "https://lh3.googleusercontent.com/a-/AOh14Gh1yB_mGyNeEBrnQ_bFdA3CLdWCnTPdtAORppSkYg=s64",
      "userId": "12111341805146772458"
     },
     "user_tz": -180
    },
    "id": "EzJOrXitYJ-e",
    "outputId": "dd112a82-f363-4831-bf1f-eb612b320804"
   },
   "outputs": [
    {
     "data": {
      "text/plain": [
       "tensor([ 1,  3, -7], dtype=torch.int32)"
      ]
     },
     "execution_count": 26,
     "metadata": {},
     "output_type": "execute_result"
    }
   ],
   "source": [
    "a.type_as(torch.IntTensor())"
   ]
  },
  {
   "cell_type": "code",
   "execution_count": 27,
   "metadata": {
    "ExecuteTime": {
     "end_time": "2022-09-02T07:09:38.928732Z",
     "start_time": "2022-09-02T07:09:38.921377Z"
    },
    "colab": {
     "base_uri": "https://localhost:8080/"
    },
    "executionInfo": {
     "elapsed": 507,
     "status": "ok",
     "timestamp": 1634746146520,
     "user": {
      "displayName": "Александр Анатольевич Миленькин",
      "photoUrl": "https://lh3.googleusercontent.com/a-/AOh14Gh1yB_mGyNeEBrnQ_bFdA3CLdWCnTPdtAORppSkYg=s64",
      "userId": "12111341805146772458"
     },
     "user_tz": -180
    },
    "id": "5LrO73QgJuGb",
    "outputId": "6b3efcd1-9a4f-4cda-ba6f-99eaaac9e1d4"
   },
   "outputs": [
    {
     "data": {
      "text/plain": [
       "tensor([ 1,  3, -7], dtype=torch.int32)"
      ]
     },
     "execution_count": 27,
     "metadata": {},
     "output_type": "execute_result"
    }
   ],
   "source": [
    "a.to(torch.int32)"
   ]
  },
  {
   "cell_type": "code",
   "execution_count": 28,
   "metadata": {
    "ExecuteTime": {
     "end_time": "2022-09-02T07:09:38.947571Z",
     "start_time": "2022-09-02T07:09:38.940767Z"
    },
    "colab": {
     "base_uri": "https://localhost:8080/"
    },
    "executionInfo": {
     "elapsed": 425,
     "status": "ok",
     "timestamp": 1634746160708,
     "user": {
      "displayName": "Александр Анатольевич Миленькин",
      "photoUrl": "https://lh3.googleusercontent.com/a-/AOh14Gh1yB_mGyNeEBrnQ_bFdA3CLdWCnTPdtAORppSkYg=s64",
      "userId": "12111341805146772458"
     },
     "user_tz": -180
    },
    "id": "hAe3OWWUYJ-i",
    "outputId": "86aa0aae-8043-4eeb-a9b7-7c43c5a3aa17"
   },
   "outputs": [
    {
     "data": {
      "text/plain": [
       "tensor([  1,   3, 249], dtype=torch.uint8)"
      ]
     },
     "execution_count": 28,
     "metadata": {},
     "output_type": "execute_result"
    }
   ],
   "source": [
    "a.type_as(torch.ByteTensor())"
   ]
  },
  {
   "cell_type": "code",
   "execution_count": 29,
   "metadata": {
    "ExecuteTime": {
     "end_time": "2022-09-02T07:09:38.957638Z",
     "start_time": "2022-09-02T07:09:38.950236Z"
    },
    "colab": {
     "base_uri": "https://localhost:8080/"
    },
    "executionInfo": {
     "elapsed": 6,
     "status": "ok",
     "timestamp": 1634746162258,
     "user": {
      "displayName": "Александр Анатольевич Миленькин",
      "photoUrl": "https://lh3.googleusercontent.com/a-/AOh14Gh1yB_mGyNeEBrnQ_bFdA3CLdWCnTPdtAORppSkYg=s64",
      "userId": "12111341805146772458"
     },
     "user_tz": -180
    },
    "id": "6rOGMU_xJ450",
    "outputId": "1f24d1ed-4caa-41d4-d35b-81f865fd7f64"
   },
   "outputs": [
    {
     "data": {
      "text/plain": [
       "tensor([  1,   3, 249], dtype=torch.uint8)"
      ]
     },
     "execution_count": 29,
     "metadata": {},
     "output_type": "execute_result"
    }
   ],
   "source": [
    "a.to(torch.uint8)"
   ]
  },
  {
   "cell_type": "markdown",
   "metadata": {
    "id": "4rkatrUeYJ-n"
   },
   "source": [
    "**Note:** `.type_as()` creates a new tensor, the old one remains unchanged"
   ]
  },
  {
   "cell_type": "code",
   "execution_count": 30,
   "metadata": {
    "ExecuteTime": {
     "end_time": "2022-09-02T07:09:38.970727Z",
     "start_time": "2022-09-02T07:09:38.961702Z"
    },
    "colab": {
     "base_uri": "https://localhost:8080/"
    },
    "executionInfo": {
     "elapsed": 469,
     "status": "ok",
     "timestamp": 1634746173278,
     "user": {
      "displayName": "Александр Анатольевич Миленькин",
      "photoUrl": "https://lh3.googleusercontent.com/a-/AOh14Gh1yB_mGyNeEBrnQ_bFdA3CLdWCnTPdtAORppSkYg=s64",
      "userId": "12111341805146772458"
     },
     "user_tz": -180
    },
    "id": "fCgDT14MYJ-o",
    "outputId": "b0bb7f6e-b2a1-4e08-cdc7-308f64106e11"
   },
   "outputs": [
    {
     "data": {
      "text/plain": [
       "tensor([ 1.5000,  3.2000, -7.0000])"
      ]
     },
     "execution_count": 30,
     "metadata": {},
     "output_type": "execute_result"
    }
   ],
   "source": [
    "a"
   ]
  },
  {
   "cell_type": "markdown",
   "metadata": {
    "id": "hG1OwtFBYJ-r"
   },
   "source": [
    "* Indexing is just like in `NumPy`:"
   ]
  },
  {
   "cell_type": "code",
   "execution_count": 33,
   "metadata": {
    "ExecuteTime": {
     "end_time": "2022-09-01T13:43:32.889932Z",
     "start_time": "2022-09-01T13:43:32.880511Z"
    },
    "colab": {
     "base_uri": "https://localhost:8080/"
    },
    "executionInfo": {
     "elapsed": 12,
     "status": "ok",
     "timestamp": 1634746175078,
     "user": {
      "displayName": "Александр Анатольевич Миленькин",
      "photoUrl": "https://lh3.googleusercontent.com/a-/AOh14Gh1yB_mGyNeEBrnQ_bFdA3CLdWCnTPdtAORppSkYg=s64",
      "userId": "12111341805146772458"
     },
     "user_tz": -180
    },
    "id": "prr0EGIYYJ-r",
    "outputId": "f2fdb1bf-991a-4551-e332-66a6a2f38924"
   },
   "outputs": [
    {
     "data": {
      "text/plain": [
       "tensor([[100.,  20.,  35.],\n",
       "        [ 15., 163., 534.],\n",
       "        [ 52.,  90.,  66.]])"
      ]
     },
     "execution_count": 33,
     "metadata": {},
     "output_type": "execute_result"
    }
   ],
   "source": [
    "a = torch.FloatTensor([[100, 20, 35], [15, 163, 534], [52, 90, 66]])\n",
    "a"
   ]
  },
  {
   "cell_type": "code",
   "execution_count": 34,
   "metadata": {
    "ExecuteTime": {
     "end_time": "2022-09-01T13:43:34.660570Z",
     "start_time": "2022-09-01T13:43:34.650182Z"
    },
    "colab": {
     "base_uri": "https://localhost:8080/"
    },
    "executionInfo": {
     "elapsed": 7,
     "status": "ok",
     "timestamp": 1634746175079,
     "user": {
      "displayName": "Александр Анатольевич Миленькин",
      "photoUrl": "https://lh3.googleusercontent.com/a-/AOh14Gh1yB_mGyNeEBrnQ_bFdA3CLdWCnTPdtAORppSkYg=s64",
      "userId": "12111341805146772458"
     },
     "user_tz": -180
    },
    "id": "IBq7JiccYJ-w",
    "outputId": "9fc31169-f3a5-439a-cd3b-3fca1ec0ecbb"
   },
   "outputs": [
    {
     "data": {
      "text/plain": [
       "tensor(100.)"
      ]
     },
     "execution_count": 34,
     "metadata": {},
     "output_type": "execute_result"
    }
   ],
   "source": [
    "a[0, 0]"
   ]
  },
  {
   "cell_type": "code",
   "execution_count": 35,
   "metadata": {
    "ExecuteTime": {
     "end_time": "2022-09-01T13:43:34.838375Z",
     "start_time": "2022-09-01T13:43:34.829627Z"
    },
    "colab": {
     "base_uri": "https://localhost:8080/"
    },
    "executionInfo": {
     "elapsed": 552,
     "status": "ok",
     "timestamp": 1634746200651,
     "user": {
      "displayName": "Александр Анатольевич Миленькин",
      "photoUrl": "https://lh3.googleusercontent.com/a-/AOh14Gh1yB_mGyNeEBrnQ_bFdA3CLdWCnTPdtAORppSkYg=s64",
      "userId": "12111341805146772458"
     },
     "user_tz": -180
    },
    "id": "UUZzx2F_YJ-2",
    "outputId": "7031bbca-c5f6-4fae-a3e3-79294dc7ac50"
   },
   "outputs": [
    {
     "data": {
      "text/plain": [
       "tensor([ 20., 163.])"
      ]
     },
     "execution_count": 35,
     "metadata": {},
     "output_type": "execute_result"
    }
   ],
   "source": [
    "a[0:2, 1]"
   ]
  },
  {
   "cell_type": "markdown",
   "metadata": {
    "id": "KffQsYwWYJ_D"
   },
   "source": [
    "### Арифметические операции\n",
    "\n",
    "| операция | аналоги |\n",
    "|:-:|:-:|\n",
    "|`+`| `torch.add()` |\n",
    "|`-`| `torch.sub()` |\n",
    "|`*`| `torch.mul()` |\n",
    "|`/`| `torch.div()` |"
   ]
  },
  {
   "cell_type": "markdown",
   "metadata": {
    "id": "UMpR8T11YJ_D"
   },
   "source": [
    "#### Сложение"
   ]
  },
  {
   "cell_type": "code",
   "execution_count": 36,
   "metadata": {
    "ExecuteTime": {
     "end_time": "2022-09-01T13:44:29.452742Z",
     "start_time": "2022-09-01T13:44:29.447978Z"
    },
    "id": "1XHkSjEUYJ_D"
   },
   "outputs": [],
   "source": [
    "a = torch.FloatTensor([[1, 2, 3], [10, 20, 30], [100, 200, 300]])\n",
    "b = torch.FloatTensor([[-1, -2, -3], [-10, -20, -30], [100, 200, 300]])"
   ]
  },
  {
   "cell_type": "code",
   "execution_count": 37,
   "metadata": {
    "ExecuteTime": {
     "end_time": "2022-09-01T13:44:29.620319Z",
     "start_time": "2022-09-01T13:44:29.610777Z"
    },
    "colab": {
     "base_uri": "https://localhost:8080/"
    },
    "executionInfo": {
     "elapsed": 5,
     "status": "ok",
     "timestamp": 1634746224091,
     "user": {
      "displayName": "Александр Анатольевич Миленькин",
      "photoUrl": "https://lh3.googleusercontent.com/a-/AOh14Gh1yB_mGyNeEBrnQ_bFdA3CLdWCnTPdtAORppSkYg=s64",
      "userId": "12111341805146772458"
     },
     "user_tz": -180
    },
    "id": "td25tuFKYJ_H",
    "outputId": "e9a45c64-1b54-4606-c2ef-1199105d2d05"
   },
   "outputs": [
    {
     "data": {
      "text/plain": [
       "tensor([[  0.,   0.,   0.],\n",
       "        [  0.,   0.,   0.],\n",
       "        [200., 400., 600.]])"
      ]
     },
     "execution_count": 37,
     "metadata": {},
     "output_type": "execute_result"
    }
   ],
   "source": [
    "a + b"
   ]
  },
  {
   "cell_type": "code",
   "execution_count": 38,
   "metadata": {
    "ExecuteTime": {
     "end_time": "2022-09-01T13:44:29.769974Z",
     "start_time": "2022-09-01T13:44:29.757806Z"
    },
    "colab": {
     "base_uri": "https://localhost:8080/"
    },
    "executionInfo": {
     "elapsed": 5,
     "status": "ok",
     "timestamp": 1634746225884,
     "user": {
      "displayName": "Александр Анатольевич Миленькин",
      "photoUrl": "https://lh3.googleusercontent.com/a-/AOh14Gh1yB_mGyNeEBrnQ_bFdA3CLdWCnTPdtAORppSkYg=s64",
      "userId": "12111341805146772458"
     },
     "user_tz": -180
    },
    "id": "wHka8PxFYJ_N",
    "outputId": "1736d82c-bfdb-4b4a-f9f2-8cf5519394fc"
   },
   "outputs": [
    {
     "data": {
      "text/plain": [
       "tensor([[  0.,   0.,   0.],\n",
       "        [  0.,   0.,   0.],\n",
       "        [200., 400., 600.]])"
      ]
     },
     "execution_count": 38,
     "metadata": {},
     "output_type": "execute_result"
    }
   ],
   "source": [
    "a.add(b)"
   ]
  },
  {
   "cell_type": "code",
   "execution_count": 39,
   "metadata": {
    "ExecuteTime": {
     "end_time": "2022-09-01T13:44:29.915198Z",
     "start_time": "2022-09-01T13:44:29.902477Z"
    },
    "colab": {
     "base_uri": "https://localhost:8080/"
    },
    "executionInfo": {
     "elapsed": 415,
     "status": "ok",
     "timestamp": 1634746232222,
     "user": {
      "displayName": "Александр Анатольевич Миленькин",
      "photoUrl": "https://lh3.googleusercontent.com/a-/AOh14Gh1yB_mGyNeEBrnQ_bFdA3CLdWCnTPdtAORppSkYg=s64",
      "userId": "12111341805146772458"
     },
     "user_tz": -180
    },
    "id": "FHQj4DbBYJ_Q",
    "outputId": "3ec26615-d6cb-4e0f-a2f2-11ed4d229927"
   },
   "outputs": [
    {
     "data": {
      "text/plain": [
       "tensor([[  -1.,   -2.,   -3.],\n",
       "        [ -10.,  -20.,  -30.],\n",
       "        [-100., -200., -300.]])"
      ]
     },
     "execution_count": 39,
     "metadata": {},
     "output_type": "execute_result"
    }
   ],
   "source": [
    "b = -a\n",
    "b"
   ]
  },
  {
   "cell_type": "code",
   "execution_count": 40,
   "metadata": {
    "ExecuteTime": {
     "end_time": "2022-09-01T13:44:30.253470Z",
     "start_time": "2022-09-01T13:44:30.247387Z"
    },
    "colab": {
     "base_uri": "https://localhost:8080/"
    },
    "executionInfo": {
     "elapsed": 463,
     "status": "ok",
     "timestamp": 1634746240098,
     "user": {
      "displayName": "Александр Анатольевич Миленькин",
      "photoUrl": "https://lh3.googleusercontent.com/a-/AOh14Gh1yB_mGyNeEBrnQ_bFdA3CLdWCnTPdtAORppSkYg=s64",
      "userId": "12111341805146772458"
     },
     "user_tz": -180
    },
    "id": "xLCDzO7iYJ_V",
    "outputId": "64ce8d45-4da2-4963-8361-05906f1cf968"
   },
   "outputs": [
    {
     "data": {
      "text/plain": [
       "tensor([[0., 0., 0.],\n",
       "        [0., 0., 0.],\n",
       "        [0., 0., 0.]])"
      ]
     },
     "execution_count": 40,
     "metadata": {},
     "output_type": "execute_result"
    }
   ],
   "source": [
    "a + b"
   ]
  },
  {
   "cell_type": "markdown",
   "metadata": {
    "id": "z_3gVLY3YJ_Z"
   },
   "source": [
    "#### Вычитание"
   ]
  },
  {
   "cell_type": "code",
   "execution_count": 41,
   "metadata": {
    "ExecuteTime": {
     "end_time": "2022-09-01T13:44:31.051183Z",
     "start_time": "2022-09-01T13:44:31.039661Z"
    },
    "colab": {
     "base_uri": "https://localhost:8080/"
    },
    "executionInfo": {
     "elapsed": 5,
     "status": "ok",
     "timestamp": 1634746242061,
     "user": {
      "displayName": "Александр Анатольевич Миленькин",
      "photoUrl": "https://lh3.googleusercontent.com/a-/AOh14Gh1yB_mGyNeEBrnQ_bFdA3CLdWCnTPdtAORppSkYg=s64",
      "userId": "12111341805146772458"
     },
     "user_tz": -180
    },
    "id": "PANHq3eFYJ_a",
    "outputId": "84c62349-b107-45ed-8105-915e7ad2807b"
   },
   "outputs": [
    {
     "data": {
      "text/plain": [
       "tensor([[  2.,   4.,   6.],\n",
       "        [ 20.,  40.,  60.],\n",
       "        [200., 400., 600.]])"
      ]
     },
     "execution_count": 41,
     "metadata": {},
     "output_type": "execute_result"
    }
   ],
   "source": [
    "a - b"
   ]
  },
  {
   "cell_type": "code",
   "execution_count": 42,
   "metadata": {
    "ExecuteTime": {
     "end_time": "2022-09-01T13:44:33.198832Z",
     "start_time": "2022-09-01T13:44:33.191322Z"
    },
    "colab": {
     "base_uri": "https://localhost:8080/"
    },
    "executionInfo": {
     "elapsed": 12,
     "status": "ok",
     "timestamp": 1634746277744,
     "user": {
      "displayName": "Александр Анатольевич Миленькин",
      "photoUrl": "https://lh3.googleusercontent.com/a-/AOh14Gh1yB_mGyNeEBrnQ_bFdA3CLdWCnTPdtAORppSkYg=s64",
      "userId": "12111341805146772458"
     },
     "user_tz": -180
    },
    "id": "AH7xhdkRYJ_i",
    "outputId": "e86f6eda-5117-44a3-b67b-829006f4fff8"
   },
   "outputs": [
    {
     "data": {
      "text/plain": [
       "tensor([[  2.,   4.,   6.],\n",
       "        [ 20.,  40.,  60.],\n",
       "        [200., 400., 600.]])"
      ]
     },
     "execution_count": 42,
     "metadata": {},
     "output_type": "execute_result"
    }
   ],
   "source": [
    "a.sub(b) # copy"
   ]
  },
  {
   "cell_type": "code",
   "execution_count": 43,
   "metadata": {
    "ExecuteTime": {
     "end_time": "2022-09-01T13:44:33.368835Z",
     "start_time": "2022-09-01T13:44:33.362301Z"
    },
    "colab": {
     "base_uri": "https://localhost:8080/"
    },
    "executionInfo": {
     "elapsed": 7,
     "status": "ok",
     "timestamp": 1634746282254,
     "user": {
      "displayName": "Александр Анатольевич Миленькин",
      "photoUrl": "https://lh3.googleusercontent.com/a-/AOh14Gh1yB_mGyNeEBrnQ_bFdA3CLdWCnTPdtAORppSkYg=s64",
      "userId": "12111341805146772458"
     },
     "user_tz": -180
    },
    "id": "v-sls6QjK98V",
    "outputId": "d0098f45-5fd8-43d6-ad50-ad5b01bc7b7b"
   },
   "outputs": [
    {
     "data": {
      "text/plain": [
       "tensor([[  2.,   4.,   6.],\n",
       "        [ 20.,  40.,  60.],\n",
       "        [200., 400., 600.]])"
      ]
     },
     "execution_count": 43,
     "metadata": {},
     "output_type": "execute_result"
    }
   ],
   "source": [
    "a.sub_(b) # inplace"
   ]
  },
  {
   "cell_type": "markdown",
   "metadata": {
    "id": "KOX3dTuZYJ_l"
   },
   "source": [
    "#### Умножение (поэлементное)"
   ]
  },
  {
   "cell_type": "code",
   "execution_count": 44,
   "metadata": {
    "ExecuteTime": {
     "end_time": "2022-09-01T13:44:37.567704Z",
     "start_time": "2022-09-01T13:44:37.556980Z"
    },
    "colab": {
     "base_uri": "https://localhost:8080/"
    },
    "executionInfo": {
     "elapsed": 396,
     "status": "ok",
     "timestamp": 1634746296138,
     "user": {
      "displayName": "Александр Анатольевич Миленькин",
      "photoUrl": "https://lh3.googleusercontent.com/a-/AOh14Gh1yB_mGyNeEBrnQ_bFdA3CLdWCnTPdtAORppSkYg=s64",
      "userId": "12111341805146772458"
     },
     "user_tz": -180
    },
    "id": "J380CvNGYJ_m",
    "outputId": "1c194f31-d53f-4097-e252-a126c7a6d8ea"
   },
   "outputs": [
    {
     "data": {
      "text/plain": [
       "tensor([[-2.0000e+00, -8.0000e+00, -1.8000e+01],\n",
       "        [-2.0000e+02, -8.0000e+02, -1.8000e+03],\n",
       "        [-2.0000e+04, -8.0000e+04, -1.8000e+05]])"
      ]
     },
     "execution_count": 44,
     "metadata": {},
     "output_type": "execute_result"
    }
   ],
   "source": [
    "a * b"
   ]
  },
  {
   "cell_type": "code",
   "execution_count": 45,
   "metadata": {
    "ExecuteTime": {
     "end_time": "2022-09-01T13:44:38.651730Z",
     "start_time": "2022-09-01T13:44:38.645790Z"
    },
    "colab": {
     "base_uri": "https://localhost:8080/"
    },
    "executionInfo": {
     "elapsed": 554,
     "status": "ok",
     "timestamp": 1634746304559,
     "user": {
      "displayName": "Александр Анатольевич Миленькин",
      "photoUrl": "https://lh3.googleusercontent.com/a-/AOh14Gh1yB_mGyNeEBrnQ_bFdA3CLdWCnTPdtAORppSkYg=s64",
      "userId": "12111341805146772458"
     },
     "user_tz": -180
    },
    "id": "cixW0jgdYJ_o",
    "outputId": "5b6e4971-5032-4200-ca63-f7f25bc9dd3c"
   },
   "outputs": [
    {
     "data": {
      "text/plain": [
       "tensor([[-2.0000e+00, -8.0000e+00, -1.8000e+01],\n",
       "        [-2.0000e+02, -8.0000e+02, -1.8000e+03],\n",
       "        [-2.0000e+04, -8.0000e+04, -1.8000e+05]])"
      ]
     },
     "execution_count": 45,
     "metadata": {},
     "output_type": "execute_result"
    }
   ],
   "source": [
    "a.mul(b)"
   ]
  },
  {
   "cell_type": "markdown",
   "metadata": {
    "id": "V-GYTERKYJ_q"
   },
   "source": [
    "#### Деление (поэлементное):"
   ]
  },
  {
   "cell_type": "code",
   "execution_count": 46,
   "metadata": {
    "ExecuteTime": {
     "end_time": "2022-09-01T13:44:38.948332Z",
     "start_time": "2022-09-01T13:44:38.941826Z"
    },
    "id": "fUBQns2SYJ_r"
   },
   "outputs": [],
   "source": [
    "a = torch.FloatTensor([[1, 2, 3], [10, 20, 30], [100, 200, 300]])\n",
    "b = torch.FloatTensor([[-1, -2, -3], [-10, -20, -30], [100, 200, 300]])"
   ]
  },
  {
   "cell_type": "code",
   "execution_count": 47,
   "metadata": {
    "ExecuteTime": {
     "end_time": "2022-09-01T13:44:39.336704Z",
     "start_time": "2022-09-01T13:44:39.329719Z"
    },
    "colab": {
     "base_uri": "https://localhost:8080/"
    },
    "executionInfo": {
     "elapsed": 6,
     "status": "ok",
     "timestamp": 1634746309308,
     "user": {
      "displayName": "Александр Анатольевич Миленькин",
      "photoUrl": "https://lh3.googleusercontent.com/a-/AOh14Gh1yB_mGyNeEBrnQ_bFdA3CLdWCnTPdtAORppSkYg=s64",
      "userId": "12111341805146772458"
     },
     "user_tz": -180
    },
    "id": "2hrKeMjAYJ_v",
    "outputId": "5ef8fab2-da30-406b-b0a6-3aae04de9e1c"
   },
   "outputs": [
    {
     "data": {
      "text/plain": [
       "tensor([[-1., -1., -1.],\n",
       "        [-1., -1., -1.],\n",
       "        [ 1.,  1.,  1.]])"
      ]
     },
     "execution_count": 47,
     "metadata": {},
     "output_type": "execute_result"
    }
   ],
   "source": [
    "a / b"
   ]
  },
  {
   "cell_type": "code",
   "execution_count": 48,
   "metadata": {
    "ExecuteTime": {
     "end_time": "2022-09-01T13:44:39.483584Z",
     "start_time": "2022-09-01T13:44:39.477420Z"
    },
    "colab": {
     "base_uri": "https://localhost:8080/"
    },
    "executionInfo": {
     "elapsed": 7,
     "status": "ok",
     "timestamp": 1634746310061,
     "user": {
      "displayName": "Александр Анатольевич Миленькин",
      "photoUrl": "https://lh3.googleusercontent.com/a-/AOh14Gh1yB_mGyNeEBrnQ_bFdA3CLdWCnTPdtAORppSkYg=s64",
      "userId": "12111341805146772458"
     },
     "user_tz": -180
    },
    "id": "cpg3YFVPYJ_2",
    "outputId": "d7813f61-f134-41a5-eea2-77abd21f7ffb"
   },
   "outputs": [
    {
     "data": {
      "text/plain": [
       "tensor([[-1., -1., -1.],\n",
       "        [-1., -1., -1.],\n",
       "        [ 1.,  1.,  1.]])"
      ]
     },
     "execution_count": 48,
     "metadata": {},
     "output_type": "execute_result"
    }
   ],
   "source": [
    "a.div(b)"
   ]
  },
  {
   "cell_type": "markdown",
   "metadata": {
    "id": "VeLAbx1tYJ_7"
   },
   "source": [
    "**Примечание:** все эти операции создают новые тензоры, старые тензоры остаются неизменными."
   ]
  },
  {
   "cell_type": "code",
   "execution_count": 49,
   "metadata": {
    "ExecuteTime": {
     "end_time": "2022-09-01T13:44:41.280279Z",
     "start_time": "2022-09-01T13:44:41.270558Z"
    },
    "colab": {
     "base_uri": "https://localhost:8080/"
    },
    "executionInfo": {
     "elapsed": 833,
     "status": "ok",
     "timestamp": 1634746318281,
     "user": {
      "displayName": "Александр Анатольевич Миленькин",
      "photoUrl": "https://lh3.googleusercontent.com/a-/AOh14Gh1yB_mGyNeEBrnQ_bFdA3CLdWCnTPdtAORppSkYg=s64",
      "userId": "12111341805146772458"
     },
     "user_tz": -180
    },
    "id": "57BFtnlgYJ_8",
    "outputId": "3b41b3df-8c26-40ba-fd50-ea6d86080d2f"
   },
   "outputs": [
    {
     "data": {
      "text/plain": [
       "tensor([[  1.,   2.,   3.],\n",
       "        [ 10.,  20.,  30.],\n",
       "        [100., 200., 300.]])"
      ]
     },
     "execution_count": 49,
     "metadata": {},
     "output_type": "execute_result"
    }
   ],
   "source": [
    "a"
   ]
  },
  {
   "cell_type": "code",
   "execution_count": 50,
   "metadata": {
    "ExecuteTime": {
     "end_time": "2022-09-01T13:44:41.432647Z",
     "start_time": "2022-09-01T13:44:41.421163Z"
    },
    "colab": {
     "base_uri": "https://localhost:8080/"
    },
    "executionInfo": {
     "elapsed": 10,
     "status": "ok",
     "timestamp": 1634746318282,
     "user": {
      "displayName": "Александр Анатольевич Миленькин",
      "photoUrl": "https://lh3.googleusercontent.com/a-/AOh14Gh1yB_mGyNeEBrnQ_bFdA3CLdWCnTPdtAORppSkYg=s64",
      "userId": "12111341805146772458"
     },
     "user_tz": -180
    },
    "id": "UziXyvtDYJ_-",
    "outputId": "3a77920d-7fbc-4927-f221-5e8f7b1bc2f2"
   },
   "outputs": [
    {
     "data": {
      "text/plain": [
       "tensor([[ -1.,  -2.,  -3.],\n",
       "        [-10., -20., -30.],\n",
       "        [100., 200., 300.]])"
      ]
     },
     "execution_count": 50,
     "metadata": {},
     "output_type": "execute_result"
    }
   ],
   "source": [
    "b"
   ]
  },
  {
   "cell_type": "markdown",
   "metadata": {
    "id": "vLpwZPc3YKAC"
   },
   "source": [
    "### Операторы сравнения"
   ]
  },
  {
   "cell_type": "code",
   "execution_count": 51,
   "metadata": {
    "ExecuteTime": {
     "end_time": "2022-09-01T13:44:42.067027Z",
     "start_time": "2022-09-01T13:44:42.063641Z"
    },
    "id": "FfRzvw_UYKAC"
   },
   "outputs": [],
   "source": [
    "a = torch.FloatTensor([[1, 2, 3], [10, 20, 30], [100, 200, 300]])\n",
    "b = torch.FloatTensor([[-1, -2, -3], [-10, -20, -30], [100, 200, 300]])"
   ]
  },
  {
   "cell_type": "code",
   "execution_count": 52,
   "metadata": {
    "ExecuteTime": {
     "end_time": "2022-09-01T13:44:42.604537Z",
     "start_time": "2022-09-01T13:44:42.587634Z"
    },
    "colab": {
     "base_uri": "https://localhost:8080/"
    },
    "executionInfo": {
     "elapsed": 475,
     "status": "ok",
     "timestamp": 1634746328457,
     "user": {
      "displayName": "Александр Анатольевич Миленькин",
      "photoUrl": "https://lh3.googleusercontent.com/a-/AOh14Gh1yB_mGyNeEBrnQ_bFdA3CLdWCnTPdtAORppSkYg=s64",
      "userId": "12111341805146772458"
     },
     "user_tz": -180
    },
    "id": "o1RUTP2BYKAD",
    "outputId": "4a611a77-f313-48f6-e293-095eb0f76cdf"
   },
   "outputs": [
    {
     "data": {
      "text/plain": [
       "tensor([[False, False, False],\n",
       "        [False, False, False],\n",
       "        [ True,  True,  True]])"
      ]
     },
     "execution_count": 52,
     "metadata": {},
     "output_type": "execute_result"
    }
   ],
   "source": [
    "a == b"
   ]
  },
  {
   "cell_type": "code",
   "execution_count": 53,
   "metadata": {
    "ExecuteTime": {
     "end_time": "2022-09-01T13:44:46.150200Z",
     "start_time": "2022-09-01T13:44:46.143366Z"
    },
    "colab": {
     "base_uri": "https://localhost:8080/"
    },
    "executionInfo": {
     "elapsed": 398,
     "status": "ok",
     "timestamp": 1634746335733,
     "user": {
      "displayName": "Александр Анатольевич Миленькин",
      "photoUrl": "https://lh3.googleusercontent.com/a-/AOh14Gh1yB_mGyNeEBrnQ_bFdA3CLdWCnTPdtAORppSkYg=s64",
      "userId": "12111341805146772458"
     },
     "user_tz": -180
    },
    "id": "JO3HaVIAYKAF",
    "outputId": "49111463-ef42-4067-e354-3eb134338f3d"
   },
   "outputs": [
    {
     "data": {
      "text/plain": [
       "tensor([[ True,  True,  True],\n",
       "        [ True,  True,  True],\n",
       "        [False, False, False]])"
      ]
     },
     "execution_count": 53,
     "metadata": {},
     "output_type": "execute_result"
    }
   ],
   "source": [
    "a != b"
   ]
  },
  {
   "cell_type": "code",
   "execution_count": 54,
   "metadata": {
    "ExecuteTime": {
     "end_time": "2022-09-01T13:44:47.484622Z",
     "start_time": "2022-09-01T13:44:47.473815Z"
    },
    "colab": {
     "base_uri": "https://localhost:8080/"
    },
    "executionInfo": {
     "elapsed": 9,
     "status": "ok",
     "timestamp": 1634746340691,
     "user": {
      "displayName": "Александр Анатольевич Миленькин",
      "photoUrl": "https://lh3.googleusercontent.com/a-/AOh14Gh1yB_mGyNeEBrnQ_bFdA3CLdWCnTPdtAORppSkYg=s64",
      "userId": "12111341805146772458"
     },
     "user_tz": -180
    },
    "id": "DExLBj4VYKAH",
    "outputId": "5d502c89-47b9-4df2-b32f-8f152cfb2a7e"
   },
   "outputs": [
    {
     "data": {
      "text/plain": [
       "tensor([[False, False, False],\n",
       "        [False, False, False],\n",
       "        [False, False, False]])"
      ]
     },
     "execution_count": 54,
     "metadata": {},
     "output_type": "execute_result"
    }
   ],
   "source": [
    "a < b"
   ]
  },
  {
   "cell_type": "code",
   "execution_count": 55,
   "metadata": {
    "ExecuteTime": {
     "end_time": "2022-09-01T13:44:47.634077Z",
     "start_time": "2022-09-01T13:44:47.619792Z"
    },
    "colab": {
     "base_uri": "https://localhost:8080/"
    },
    "executionInfo": {
     "elapsed": 6,
     "status": "ok",
     "timestamp": 1634746341424,
     "user": {
      "displayName": "Александр Анатольевич Миленькин",
      "photoUrl": "https://lh3.googleusercontent.com/a-/AOh14Gh1yB_mGyNeEBrnQ_bFdA3CLdWCnTPdtAORppSkYg=s64",
      "userId": "12111341805146772458"
     },
     "user_tz": -180
    },
    "id": "0_IH_FUNYKAJ",
    "outputId": "92e7db00-81d1-4ad8-d642-ef68cc70bbe7"
   },
   "outputs": [
    {
     "data": {
      "text/plain": [
       "tensor([[ True,  True,  True],\n",
       "        [ True,  True,  True],\n",
       "        [False, False, False]])"
      ]
     },
     "execution_count": 55,
     "metadata": {},
     "output_type": "execute_result"
    }
   ],
   "source": [
    "a > b"
   ]
  },
  {
   "cell_type": "markdown",
   "metadata": {
    "id": "24nzBJR8YKAM"
   },
   "source": [
    "### Использование индексации по логической маске"
   ]
  },
  {
   "cell_type": "code",
   "execution_count": 56,
   "metadata": {
    "ExecuteTime": {
     "end_time": "2022-09-01T13:44:50.431024Z",
     "start_time": "2022-09-01T13:44:50.384168Z"
    },
    "colab": {
     "base_uri": "https://localhost:8080/"
    },
    "executionInfo": {
     "elapsed": 420,
     "status": "ok",
     "timestamp": 1634746368204,
     "user": {
      "displayName": "Александр Анатольевич Миленькин",
      "photoUrl": "https://lh3.googleusercontent.com/a-/AOh14Gh1yB_mGyNeEBrnQ_bFdA3CLdWCnTPdtAORppSkYg=s64",
      "userId": "12111341805146772458"
     },
     "user_tz": -180
    },
    "id": "C-xVDslwYKAN",
    "outputId": "6ef2584b-9233-4573-e391-ad92e199cc11"
   },
   "outputs": [
    {
     "data": {
      "text/plain": [
       "tensor([ 1.,  2.,  3., 10., 20., 30.])"
      ]
     },
     "execution_count": 56,
     "metadata": {},
     "output_type": "execute_result"
    }
   ],
   "source": [
    "a[a > b]"
   ]
  },
  {
   "cell_type": "code",
   "execution_count": 57,
   "metadata": {
    "ExecuteTime": {
     "end_time": "2022-09-01T13:44:50.682151Z",
     "start_time": "2022-09-01T13:44:50.676807Z"
    },
    "colab": {
     "base_uri": "https://localhost:8080/"
    },
    "executionInfo": {
     "elapsed": 474,
     "status": "ok",
     "timestamp": 1634746375052,
     "user": {
      "displayName": "Александр Анатольевич Миленькин",
      "photoUrl": "https://lh3.googleusercontent.com/a-/AOh14Gh1yB_mGyNeEBrnQ_bFdA3CLdWCnTPdtAORppSkYg=s64",
      "userId": "12111341805146772458"
     },
     "user_tz": -180
    },
    "id": "XatDJF5YYKAQ",
    "outputId": "0e4e7c4e-b9be-4363-9425-9092ffa1f873"
   },
   "outputs": [
    {
     "data": {
      "text/plain": [
       "tensor([100., 200., 300.])"
      ]
     },
     "execution_count": 57,
     "metadata": {},
     "output_type": "execute_result"
    }
   ],
   "source": [
    "b[a == b]"
   ]
  },
  {
   "cell_type": "markdown",
   "metadata": {
    "id": "54bQky1bYKAf"
   },
   "source": [
    "### Поэлементное применение **универсальных функций**"
   ]
  },
  {
   "cell_type": "code",
   "execution_count": 58,
   "metadata": {
    "ExecuteTime": {
     "end_time": "2022-09-01T13:44:57.292993Z",
     "start_time": "2022-09-01T13:44:57.286079Z"
    },
    "id": "lWnGSuUhYKAf"
   },
   "outputs": [],
   "source": [
    "a = torch.FloatTensor([[1, 2, 3], [10, 20, 30], [100, 200, 300]])"
   ]
  },
  {
   "cell_type": "code",
   "execution_count": 59,
   "metadata": {
    "ExecuteTime": {
     "end_time": "2022-09-01T13:44:57.761731Z",
     "start_time": "2022-09-01T13:44:57.712259Z"
    },
    "colab": {
     "base_uri": "https://localhost:8080/"
    },
    "executionInfo": {
     "elapsed": 624,
     "status": "ok",
     "timestamp": 1634746396688,
     "user": {
      "displayName": "Александр Анатольевич Миленькин",
      "photoUrl": "https://lh3.googleusercontent.com/a-/AOh14Gh1yB_mGyNeEBrnQ_bFdA3CLdWCnTPdtAORppSkYg=s64",
      "userId": "12111341805146772458"
     },
     "user_tz": -180
    },
    "id": "J6ZyxZBNYKAl",
    "outputId": "f907d445-3a9b-4705-da3d-ea977c3a4caa"
   },
   "outputs": [
    {
     "data": {
      "text/plain": [
       "tensor([[ 0.8415,  0.9093,  0.1411],\n",
       "        [-0.5440,  0.9129, -0.9880],\n",
       "        [-0.5064, -0.8733, -0.9998]])"
      ]
     },
     "execution_count": 59,
     "metadata": {},
     "output_type": "execute_result"
    }
   ],
   "source": [
    "a.sin()"
   ]
  },
  {
   "cell_type": "code",
   "execution_count": 60,
   "metadata": {
    "ExecuteTime": {
     "end_time": "2022-09-01T13:44:59.488576Z",
     "start_time": "2022-09-01T13:44:59.474252Z"
    },
    "colab": {
     "base_uri": "https://localhost:8080/"
    },
    "executionInfo": {
     "elapsed": 391,
     "status": "ok",
     "timestamp": 1634746402161,
     "user": {
      "displayName": "Александр Анатольевич Миленькин",
      "photoUrl": "https://lh3.googleusercontent.com/a-/AOh14Gh1yB_mGyNeEBrnQ_bFdA3CLdWCnTPdtAORppSkYg=s64",
      "userId": "12111341805146772458"
     },
     "user_tz": -180
    },
    "id": "SScTSkJMYKAo",
    "outputId": "1334afb7-570d-4a35-ec5b-164c4ca144f8"
   },
   "outputs": [
    {
     "data": {
      "text/plain": [
       "tensor([[ 0.8415,  0.9093,  0.1411],\n",
       "        [-0.5440,  0.9129, -0.9880],\n",
       "        [-0.5064, -0.8733, -0.9998]])"
      ]
     },
     "execution_count": 60,
     "metadata": {},
     "output_type": "execute_result"
    }
   ],
   "source": [
    "torch.sin(a)"
   ]
  },
  {
   "cell_type": "code",
   "execution_count": 61,
   "metadata": {
    "ExecuteTime": {
     "end_time": "2022-09-01T13:44:59.651315Z",
     "start_time": "2022-09-01T13:44:59.629248Z"
    },
    "colab": {
     "base_uri": "https://localhost:8080/"
    },
    "executionInfo": {
     "elapsed": 6,
     "status": "ok",
     "timestamp": 1634746404047,
     "user": {
      "displayName": "Александр Анатольевич Миленькин",
      "photoUrl": "https://lh3.googleusercontent.com/a-/AOh14Gh1yB_mGyNeEBrnQ_bFdA3CLdWCnTPdtAORppSkYg=s64",
      "userId": "12111341805146772458"
     },
     "user_tz": -180
    },
    "id": "0bYVYVV7YKAr",
    "outputId": "24b7e541-4040-44c9-a520-77bbe3485388"
   },
   "outputs": [
    {
     "data": {
      "text/plain": [
       "tensor([[ 1.5574, -2.1850, -0.1425],\n",
       "        [ 0.6484,  2.2372, -6.4053],\n",
       "        [-0.5872, -1.7925, 45.2447]])"
      ]
     },
     "execution_count": 61,
     "metadata": {},
     "output_type": "execute_result"
    }
   ],
   "source": [
    "a.tan()"
   ]
  },
  {
   "cell_type": "code",
   "execution_count": 62,
   "metadata": {
    "ExecuteTime": {
     "end_time": "2022-09-01T13:44:59.800111Z",
     "start_time": "2022-09-01T13:44:59.785700Z"
    },
    "colab": {
     "base_uri": "https://localhost:8080/"
    },
    "executionInfo": {
     "elapsed": 9,
     "status": "ok",
     "timestamp": 1634746405995,
     "user": {
      "displayName": "Александр Анатольевич Миленькин",
      "photoUrl": "https://lh3.googleusercontent.com/a-/AOh14Gh1yB_mGyNeEBrnQ_bFdA3CLdWCnTPdtAORppSkYg=s64",
      "userId": "12111341805146772458"
     },
     "user_tz": -180
    },
    "id": "c-rYL8HQYKAt",
    "outputId": "f44b9173-efbd-4cc1-c68a-80c4151683d8"
   },
   "outputs": [
    {
     "data": {
      "text/plain": [
       "tensor([[2.7183e+00, 7.3891e+00, 2.0086e+01],\n",
       "        [2.2026e+04, 4.8517e+08, 1.0686e+13],\n",
       "        [       inf,        inf,        inf]])"
      ]
     },
     "execution_count": 62,
     "metadata": {},
     "output_type": "execute_result"
    }
   ],
   "source": [
    "a.exp()"
   ]
  },
  {
   "cell_type": "code",
   "execution_count": 63,
   "metadata": {
    "ExecuteTime": {
     "end_time": "2022-09-01T13:45:01.918228Z",
     "start_time": "2022-09-01T13:45:01.905764Z"
    },
    "colab": {
     "base_uri": "https://localhost:8080/"
    },
    "executionInfo": {
     "elapsed": 8,
     "status": "ok",
     "timestamp": 1634746406468,
     "user": {
      "displayName": "Александр Анатольевич Миленькин",
      "photoUrl": "https://lh3.googleusercontent.com/a-/AOh14Gh1yB_mGyNeEBrnQ_bFdA3CLdWCnTPdtAORppSkYg=s64",
      "userId": "12111341805146772458"
     },
     "user_tz": -180
    },
    "id": "EbiCDYUzYKAw",
    "outputId": "b0a12eb8-24d3-4008-9a87-8c1bc2a37d2f"
   },
   "outputs": [
    {
     "data": {
      "text/plain": [
       "tensor([[0.0000, 0.6931, 1.0986],\n",
       "        [2.3026, 2.9957, 3.4012],\n",
       "        [4.6052, 5.2983, 5.7038]])"
      ]
     },
     "execution_count": 63,
     "metadata": {},
     "output_type": "execute_result"
    }
   ],
   "source": [
    "a.log()"
   ]
  },
  {
   "cell_type": "code",
   "execution_count": 64,
   "metadata": {
    "ExecuteTime": {
     "end_time": "2022-09-01T13:45:02.084048Z",
     "start_time": "2022-09-01T13:45:02.077658Z"
    },
    "colab": {
     "base_uri": "https://localhost:8080/"
    },
    "executionInfo": {
     "elapsed": 387,
     "status": "ok",
     "timestamp": 1634746414880,
     "user": {
      "displayName": "Александр Анатольевич Миленькин",
      "photoUrl": "https://lh3.googleusercontent.com/a-/AOh14Gh1yB_mGyNeEBrnQ_bFdA3CLdWCnTPdtAORppSkYg=s64",
      "userId": "12111341805146772458"
     },
     "user_tz": -180
    },
    "id": "yh1sySpiYKAy",
    "outputId": "71f5fc95-c70b-4037-cfb6-3ecc3d262d03"
   },
   "outputs": [
    {
     "data": {
      "text/plain": [
       "tensor([[  -1.,   -2.,   -3.],\n",
       "        [ -10.,  -20.,  -30.],\n",
       "        [-100., -200., -300.]])"
      ]
     },
     "execution_count": 64,
     "metadata": {},
     "output_type": "execute_result"
    }
   ],
   "source": [
    "b = -a\n",
    "b"
   ]
  },
  {
   "cell_type": "code",
   "execution_count": 65,
   "metadata": {
    "ExecuteTime": {
     "end_time": "2022-09-01T13:45:04.551972Z",
     "start_time": "2022-09-01T13:45:04.542797Z"
    },
    "colab": {
     "base_uri": "https://localhost:8080/"
    },
    "executionInfo": {
     "elapsed": 4,
     "status": "ok",
     "timestamp": 1634746415295,
     "user": {
      "displayName": "Александр Анатольевич Миленькин",
      "photoUrl": "https://lh3.googleusercontent.com/a-/AOh14Gh1yB_mGyNeEBrnQ_bFdA3CLdWCnTPdtAORppSkYg=s64",
      "userId": "12111341805146772458"
     },
     "user_tz": -180
    },
    "id": "PNU0UxqIYKA2",
    "outputId": "17008632-fa44-448a-cc87-fe7b1373d05a"
   },
   "outputs": [
    {
     "data": {
      "text/plain": [
       "tensor([[  1.,   2.,   3.],\n",
       "        [ 10.,  20.,  30.],\n",
       "        [100., 200., 300.]])"
      ]
     },
     "execution_count": 65,
     "metadata": {},
     "output_type": "execute_result"
    }
   ],
   "source": [
    "b.abs()"
   ]
  },
  {
   "cell_type": "markdown",
   "metadata": {
    "id": "eqERQjISYKA9"
   },
   "source": [
    "### Агрегация и работа с осями\n",
    "#### sum, mean, max, min:"
   ]
  },
  {
   "cell_type": "code",
   "execution_count": 66,
   "metadata": {
    "ExecuteTime": {
     "end_time": "2022-09-01T13:45:17.739266Z",
     "start_time": "2022-09-01T13:45:17.723840Z"
    },
    "colab": {
     "base_uri": "https://localhost:8080/"
    },
    "executionInfo": {
     "elapsed": 416,
     "status": "ok",
     "timestamp": 1634746434690,
     "user": {
      "displayName": "Александр Анатольевич Миленькин",
      "photoUrl": "https://lh3.googleusercontent.com/a-/AOh14Gh1yB_mGyNeEBrnQ_bFdA3CLdWCnTPdtAORppSkYg=s64",
      "userId": "12111341805146772458"
     },
     "user_tz": -180
    },
    "id": "HLmJGdl9YKA-",
    "outputId": "a6204bea-32bb-447d-cf8c-7574ebb164ec"
   },
   "outputs": [
    {
     "data": {
      "text/plain": [
       "tensor([  6.,  60., 600.])"
      ]
     },
     "execution_count": 66,
     "metadata": {},
     "output_type": "execute_result"
    }
   ],
   "source": [
    "a.sum(dim=1)"
   ]
  },
  {
   "cell_type": "code",
   "execution_count": 67,
   "metadata": {
    "ExecuteTime": {
     "end_time": "2022-09-01T13:45:21.749380Z",
     "start_time": "2022-09-01T13:45:21.721742Z"
    },
    "colab": {
     "base_uri": "https://localhost:8080/"
    },
    "executionInfo": {
     "elapsed": 851,
     "status": "ok",
     "timestamp": 1634746443510,
     "user": {
      "displayName": "Александр Анатольевич Миленькин",
      "photoUrl": "https://lh3.googleusercontent.com/a-/AOh14Gh1yB_mGyNeEBrnQ_bFdA3CLdWCnTPdtAORppSkYg=s64",
      "userId": "12111341805146772458"
     },
     "user_tz": -180
    },
    "id": "ervIuNGnYKBD",
    "outputId": "ff444bc6-c56e-43eb-9ea1-d4551194e16a"
   },
   "outputs": [
    {
     "data": {
      "text/plain": [
       "tensor(74.)"
      ]
     },
     "execution_count": 67,
     "metadata": {},
     "output_type": "execute_result"
    }
   ],
   "source": [
    "a.mean()"
   ]
  },
  {
   "cell_type": "code",
   "execution_count": 70,
   "metadata": {
    "ExecuteTime": {
     "end_time": "2022-09-01T13:45:37.772254Z",
     "start_time": "2022-09-01T13:45:37.765702Z"
    }
   },
   "outputs": [
    {
     "data": {
      "text/plain": [
       "tensor([111., 222., 333.])"
      ]
     },
     "execution_count": 70,
     "metadata": {},
     "output_type": "execute_result"
    }
   ],
   "source": [
    "a.sum(dim=0)"
   ]
  },
  {
   "cell_type": "markdown",
   "metadata": {
    "id": "1qxkdUQ2YKBF"
   },
   "source": [
    "#### Применение функции вдоль оси"
   ]
  },
  {
   "cell_type": "code",
   "execution_count": 71,
   "metadata": {
    "ExecuteTime": {
     "end_time": "2022-09-01T13:45:48.435982Z",
     "start_time": "2022-09-01T13:45:48.429500Z"
    },
    "colab": {
     "base_uri": "https://localhost:8080/"
    },
    "executionInfo": {
     "elapsed": 441,
     "status": "ok",
     "timestamp": 1634746452721,
     "user": {
      "displayName": "Александр Анатольевич Миленькин",
      "photoUrl": "https://lh3.googleusercontent.com/a-/AOh14Gh1yB_mGyNeEBrnQ_bFdA3CLdWCnTPdtAORppSkYg=s64",
      "userId": "12111341805146772458"
     },
     "user_tz": -180
    },
    "id": "OzU2H7jBbdS-",
    "outputId": "a701fb53-3b9b-435c-cb17-620c69315d7c"
   },
   "outputs": [
    {
     "data": {
      "text/plain": [
       "tensor([[  1.,   2.,   3.],\n",
       "        [ 10.,  20.,  30.],\n",
       "        [100., 200., 300.]])"
      ]
     },
     "execution_count": 71,
     "metadata": {},
     "output_type": "execute_result"
    }
   ],
   "source": [
    "a"
   ]
  },
  {
   "cell_type": "code",
   "execution_count": 72,
   "metadata": {
    "ExecuteTime": {
     "end_time": "2022-09-01T13:45:48.568708Z",
     "start_time": "2022-09-01T13:45:48.562501Z"
    },
    "colab": {
     "base_uri": "https://localhost:8080/"
    },
    "executionInfo": {
     "elapsed": 10,
     "status": "ok",
     "timestamp": 1634746455145,
     "user": {
      "displayName": "Александр Анатольевич Миленькин",
      "photoUrl": "https://lh3.googleusercontent.com/a-/AOh14Gh1yB_mGyNeEBrnQ_bFdA3CLdWCnTPdtAORppSkYg=s64",
      "userId": "12111341805146772458"
     },
     "user_tz": -180
    },
    "id": "cc6RjJYeYKBG",
    "outputId": "78e942a6-5820-4fde-88d2-d5e1ce0665c9"
   },
   "outputs": [
    {
     "data": {
      "text/plain": [
       "tensor([111., 222., 333.])"
      ]
     },
     "execution_count": 72,
     "metadata": {},
     "output_type": "execute_result"
    }
   ],
   "source": [
    "a.sum(dim=0)"
   ]
  },
  {
   "cell_type": "code",
   "execution_count": 73,
   "metadata": {
    "ExecuteTime": {
     "end_time": "2022-09-01T13:45:50.261687Z",
     "start_time": "2022-09-01T13:45:50.251888Z"
    },
    "colab": {
     "base_uri": "https://localhost:8080/"
    },
    "executionInfo": {
     "elapsed": 8,
     "status": "ok",
     "timestamp": 1634746455590,
     "user": {
      "displayName": "Александр Анатольевич Миленькин",
      "photoUrl": "https://lh3.googleusercontent.com/a-/AOh14Gh1yB_mGyNeEBrnQ_bFdA3CLdWCnTPdtAORppSkYg=s64",
      "userId": "12111341805146772458"
     },
     "user_tz": -180
    },
    "id": "Dgi5BmhOYKBJ",
    "outputId": "a6e73d38-78bc-42d2-da86-bccd3f9bb772"
   },
   "outputs": [
    {
     "data": {
      "text/plain": [
       "tensor([  6.,  60., 600.])"
      ]
     },
     "execution_count": 73,
     "metadata": {},
     "output_type": "execute_result"
    }
   ],
   "source": [
    "a.sum(dim=1)"
   ]
  },
  {
   "cell_type": "code",
   "execution_count": 74,
   "metadata": {
    "ExecuteTime": {
     "end_time": "2022-09-01T13:45:54.361272Z",
     "start_time": "2022-09-01T13:45:54.352371Z"
    },
    "colab": {
     "base_uri": "https://localhost:8080/"
    },
    "executionInfo": {
     "elapsed": 10,
     "status": "ok",
     "timestamp": 1634746456110,
     "user": {
      "displayName": "Александр Анатольевич Миленькин",
      "photoUrl": "https://lh3.googleusercontent.com/a-/AOh14Gh1yB_mGyNeEBrnQ_bFdA3CLdWCnTPdtAORppSkYg=s64",
      "userId": "12111341805146772458"
     },
     "user_tz": -180
    },
    "id": "-tIkcTENYKBK",
    "outputId": "bd0f3557-ca04-4c9d-94f5-1c01947f4432"
   },
   "outputs": [
    {
     "data": {
      "text/plain": [
       "tensor(300.)"
      ]
     },
     "execution_count": 74,
     "metadata": {},
     "output_type": "execute_result"
    }
   ],
   "source": [
    "a.max()"
   ]
  },
  {
   "cell_type": "code",
   "execution_count": 75,
   "metadata": {
    "ExecuteTime": {
     "end_time": "2022-09-01T13:45:54.673021Z",
     "start_time": "2022-09-01T13:45:54.661263Z"
    },
    "colab": {
     "base_uri": "https://localhost:8080/"
    },
    "executionInfo": {
     "elapsed": 6,
     "status": "ok",
     "timestamp": 1634746456934,
     "user": {
      "displayName": "Александр Анатольевич Миленькин",
      "photoUrl": "https://lh3.googleusercontent.com/a-/AOh14Gh1yB_mGyNeEBrnQ_bFdA3CLdWCnTPdtAORppSkYg=s64",
      "userId": "12111341805146772458"
     },
     "user_tz": -180
    },
    "id": "V4U_LyyPYKBL",
    "outputId": "b3e7f4e1-2ade-4d73-f3f5-16a9e1af266b"
   },
   "outputs": [
    {
     "data": {
      "text/plain": [
       "torch.return_types.max(\n",
       "values=tensor([100., 200., 300.]),\n",
       "indices=tensor([2, 2, 2]))"
      ]
     },
     "execution_count": 75,
     "metadata": {},
     "output_type": "execute_result"
    }
   ],
   "source": [
    "a.max(0)"
   ]
  },
  {
   "cell_type": "markdown",
   "metadata": {
    "id": "Ys-9hnr4YKBS"
   },
   "source": [
    "**Примечание:** второй тензор, возвращаемый `.max()`, содержит индексы элементов max вдоль этой оси. Например. в этом случае `a.max ()` вернула `(100, 200, 300)`, которые являются минимальными элементами по оси 0 (вдоль столбцов), а их индексы по оси 0 равны `(2, 2, 2)`.\n"
   ]
  },
  {
   "cell_type": "markdown",
   "metadata": {
    "id": "utha2fm_zdmx"
   },
   "source": [
    "#### Фиктивные оси\n",
    "\n",
    "Иногда очень сложно бывает разобраться, как правильно выбрать оси для применения операций с многомерными массивами. Поэтому сейчас мы решим на эту тему пару задач.\n",
    "Сначала посмотрим, как создавать у массивов новые фиктивные оси, это нам пригодится."
   ]
  },
  {
   "cell_type": "code",
   "execution_count": 76,
   "metadata": {
    "ExecuteTime": {
     "end_time": "2022-09-01T13:45:56.802079Z",
     "start_time": "2022-09-01T13:45:56.792911Z"
    },
    "colab": {
     "base_uri": "https://localhost:8080/"
    },
    "executionInfo": {
     "elapsed": 417,
     "status": "ok",
     "timestamp": 1634746522606,
     "user": {
      "displayName": "Александр Анатольевич Миленькин",
      "photoUrl": "https://lh3.googleusercontent.com/a-/AOh14Gh1yB_mGyNeEBrnQ_bFdA3CLdWCnTPdtAORppSkYg=s64",
      "userId": "12111341805146772458"
     },
     "user_tz": -180
    },
    "id": "0E6stC7-0J1r",
    "outputId": "cf60029f-10ab-48b3-9471-8bf54187c7e0"
   },
   "outputs": [
    {
     "data": {
      "text/plain": [
       "torch.Size([3, 1, 3])"
      ]
     },
     "execution_count": 76,
     "metadata": {},
     "output_type": "execute_result"
    }
   ],
   "source": [
    "a = torch.FloatTensor([[1, 2, 3], [10, 20, 30], [100, 200, 300]])\n",
    "\n",
    "a[:, None, :].shape"
   ]
  },
  {
   "cell_type": "code",
   "execution_count": 77,
   "metadata": {
    "ExecuteTime": {
     "end_time": "2022-09-01T13:45:56.972289Z",
     "start_time": "2022-09-01T13:45:56.965003Z"
    },
    "colab": {
     "base_uri": "https://localhost:8080/"
    },
    "executionInfo": {
     "elapsed": 982,
     "status": "ok",
     "timestamp": 1634746633084,
     "user": {
      "displayName": "Александр Анатольевич Миленькин",
      "photoUrl": "https://lh3.googleusercontent.com/a-/AOh14Gh1yB_mGyNeEBrnQ_bFdA3CLdWCnTPdtAORppSkYg=s64",
      "userId": "12111341805146772458"
     },
     "user_tz": -180
    },
    "id": "FgfUrKpk0fLg",
    "outputId": "07a3b509-2385-4e86-b91e-1451349258f2"
   },
   "outputs": [
    {
     "data": {
      "text/plain": [
       "tensor([[[  1.],\n",
       "         [  2.],\n",
       "         [  3.]],\n",
       "\n",
       "        [[ 10.],\n",
       "         [ 20.],\n",
       "         [ 30.]],\n",
       "\n",
       "        [[100.],\n",
       "         [200.],\n",
       "         [300.]]])"
      ]
     },
     "execution_count": 77,
     "metadata": {},
     "output_type": "execute_result"
    }
   ],
   "source": [
    "a[:, :, None]"
   ]
  },
  {
   "cell_type": "markdown",
   "metadata": {
    "id": "vwF56ibrw1Hz"
   },
   "source": [
    "#### Безобидная задача на кумулятивные суммы\n",
    "Дана матрица $M \\times N$. Напишите функцию, которая возвращает вектор средних значений по вертикали. \n",
    "\n"
   ]
  },
  {
   "cell_type": "code",
   "execution_count": null,
   "metadata": {
    "colab": {
     "base_uri": "https://localhost:8080/"
    },
    "executionInfo": {
     "elapsed": 676,
     "status": "ok",
     "timestamp": 1634746904961,
     "user": {
      "displayName": "Александр Анатольевич Миленькин",
      "photoUrl": "https://lh3.googleusercontent.com/a-/AOh14Gh1yB_mGyNeEBrnQ_bFdA3CLdWCnTPdtAORppSkYg=s64",
      "userId": "12111341805146772458"
     },
     "user_tz": -180
    },
    "id": "29X7MxuqxwIU",
    "outputId": "d0e18dc4-f286-427e-f525-15df0998cbfd"
   },
   "outputs": [
    {
     "data": {
      "text/plain": [
       "tensor([1.5000, 5.5000])"
      ]
     },
     "execution_count": 102,
     "metadata": {},
     "output_type": "execute_result"
    }
   ],
   "source": [
    "def vertical_means(A):\n",
    "    \"\"\"\n",
    "    param A: torch.tensor[m,n]\n",
    "    \"\"\"\n",
    "\n",
    "    result = A.mean(dim=0)\n",
    "\n",
    "    return result # <YOUR CODE>\n",
    "\n",
    "A = torch.FloatTensor([[1, 4], \n",
    "                       [2, 7]] )\n",
    "\n",
    "vertical_means(A)"
   ]
  },
  {
   "cell_type": "markdown",
   "metadata": {
    "id": "T6YOmemux0SI"
   },
   "source": [
    "**Проблемы:**\n",
    "\n",
    "* Что такое вертикальная ось? \n",
    "* По какой оси необходимо суммировать?\n",
    "* Как не ошибиться?\n",
    "\n",
    "**Ответ:** Операции всегда производятся по той оси, которая **исчезнет** после применения операции."
   ]
  },
  {
   "cell_type": "markdown",
   "metadata": {
    "id": "5YEpNZ3YyKzi"
   },
   "source": [
    "#### Задача на нормализацию изображения\n",
    "Реализуйте функцию ``normalize_pictures(A)``, которая принимает на вход четырёхмерный тензор --- батч из ``batch_size`` изображений, каждое из которых является трехмерным тензором формы (num_channels, width, height). Нужно стандартизировать изображение по каждому каналу, то есть сделать так, чтобы среднее значение яркости каждого канала (по всем изображениям и всем пикселям) было равно 0, а стандартное отклонение --- 1."
   ]
  },
  {
   "cell_type": "code",
   "execution_count": 78,
   "metadata": {
    "ExecuteTime": {
     "end_time": "2022-09-01T13:49:47.371110Z",
     "start_time": "2022-09-01T13:49:47.361106Z"
    },
    "id": "jNGjlcaVy3WT"
   },
   "outputs": [],
   "source": [
    "def normalize_pictures(A):\n",
    "    \"\"\"\n",
    "    param A: torch.Tensor[batch_size, num_channels, width, height]\n",
    "    \"\"\"\n",
    "\n",
    "    m = A.mean(dim=(2,3))\n",
    "    sigma = A.std(dim =(2, 3))\n",
    "\n",
    "    result = (A - m[:, :, None, None])/sigma[:, :, None, None]\n",
    "\n",
    "\n",
    "    return result"
   ]
  },
  {
   "cell_type": "code",
   "execution_count": 79,
   "metadata": {
    "ExecuteTime": {
     "end_time": "2022-09-01T13:49:47.725559Z",
     "start_time": "2022-09-01T13:49:47.492029Z"
    },
    "colab": {
     "base_uri": "https://localhost:8080/"
    },
    "executionInfo": {
     "elapsed": 11,
     "status": "ok",
     "timestamp": 1634747198671,
     "user": {
      "displayName": "Александр Анатольевич Миленькин",
      "photoUrl": "https://lh3.googleusercontent.com/a-/AOh14Gh1yB_mGyNeEBrnQ_bFdA3CLdWCnTPdtAORppSkYg=s64",
      "userId": "12111341805146772458"
     },
     "user_tz": -180
    },
    "id": "ZFUY4oookJ9i",
    "outputId": "f2b57073-9eca-438b-e773-a7abc258de12"
   },
   "outputs": [
    {
     "data": {
      "text/plain": [
       "torch.Size([64, 3])"
      ]
     },
     "execution_count": 79,
     "metadata": {},
     "output_type": "execute_result"
    }
   ],
   "source": [
    "batch = torch.randint(0, 156, (64, 3, 300, 300), dtype=torch.float32)\n",
    "batch.mean(dim=(2,3)).shape"
   ]
  },
  {
   "cell_type": "code",
   "execution_count": 80,
   "metadata": {
    "ExecuteTime": {
     "end_time": "2022-09-01T13:49:49.818712Z",
     "start_time": "2022-09-01T13:49:49.338737Z"
    },
    "id": "OttmzUHWzOiA"
   },
   "outputs": [],
   "source": [
    "batch = torch.randint(0, 256, (64, 3, 300, 300), dtype=torch.float32)\n",
    "\n",
    "B = normalize_pictures(batch)\n",
    "# print(B.mean(dim=(2,3)).shape)\n",
    "# print(B.std(dim=(2,3)))"
   ]
  },
  {
   "cell_type": "code",
   "execution_count": 83,
   "metadata": {
    "ExecuteTime": {
     "end_time": "2022-09-01T13:50:21.586450Z",
     "start_time": "2022-09-01T13:50:21.568187Z"
    }
   },
   "outputs": [
    {
     "data": {
      "text/plain": [
       "tensor([[[[ 92., 142., 207.,  ..., 138., 205., 225.],\n",
       "          [ 37.,  63.,  20.,  ...,  48., 165., 196.],\n",
       "          [114.,  92.,  68.,  ...,  45., 155., 163.],\n",
       "          ...,\n",
       "          [154.,  93., 220.,  ..., 180.,  63., 234.],\n",
       "          [141., 154., 167.,  ..., 233.,  42.,  92.],\n",
       "          [ 91., 226.,  97.,  ..., 180., 254., 255.]],\n",
       "\n",
       "         [[122.,  48.,  13.,  ..., 241.,   8., 225.],\n",
       "          [ 72.,  28.,  78.,  ...,  51.,  21., 196.],\n",
       "          [230., 168., 242.,  ..., 201.,  71., 156.],\n",
       "          ...,\n",
       "          [154., 196.,  94.,  ...,  60., 238.,  16.],\n",
       "          [194.,  61.,  49.,  ..., 141., 149.,  30.],\n",
       "          [ 42., 116.,  43.,  ..., 186., 234., 133.]],\n",
       "\n",
       "         [[182., 223.,  40.,  ..., 179., 168.,  72.],\n",
       "          [174.,  81., 187.,  ...,   8.,  68.,  24.],\n",
       "          [193., 201., 138.,  ...,  38.,  39.,  27.],\n",
       "          ...,\n",
       "          [  3., 208.,  25.,  ..., 125.,  78.,  59.],\n",
       "          [202., 188.,  67.,  ...,  59., 219., 190.],\n",
       "          [ 56.,  16.,   8.,  ...,  37., 224.,  46.]]],\n",
       "\n",
       "\n",
       "        [[[240., 192.,  71.,  ..., 190., 162.,  26.],\n",
       "          [ 50., 233.,   2.,  ..., 220.,  68., 109.],\n",
       "          [ 86.,  49., 184.,  ..., 217., 245.,  76.],\n",
       "          ...,\n",
       "          [240., 186., 234.,  ..., 238., 129.,  67.],\n",
       "          [157., 122.,  72.,  ...,  32., 177.,  54.],\n",
       "          [107., 251.,  18.,  ...,  78.,  19.,  53.]],\n",
       "\n",
       "         [[212., 230.,  77.,  ..., 101.,  36., 121.],\n",
       "          [ 38.,  27.,  22.,  ..., 231.,  44.,  55.],\n",
       "          [242., 157.,  73.,  ...,  95., 210., 123.],\n",
       "          ...,\n",
       "          [146., 166.,  80.,  ..., 125., 129., 211.],\n",
       "          [110., 143., 205.,  ...,  72., 190.,  98.],\n",
       "          [136.,  72.,  47.,  ..., 188., 229., 163.]],\n",
       "\n",
       "         [[189.,  43., 192.,  ...,  62., 214., 113.],\n",
       "          [ 48., 221., 185.,  ..., 154.,  62.,  57.],\n",
       "          [  3.,  92.,  58.,  ..., 147.,  77., 135.],\n",
       "          ...,\n",
       "          [198., 121.,   0.,  ...,  51.,   9.,  71.],\n",
       "          [165., 118.,  55.,  ..., 219., 179., 102.],\n",
       "          [204., 170., 110.,  ..., 233., 102., 170.]]],\n",
       "\n",
       "\n",
       "        [[[218., 124., 170.,  ..., 255., 227.,  12.],\n",
       "          [220.,  44.,  77.,  ...,  37., 196.,  96.],\n",
       "          [164.,  69.,   0.,  ..., 170., 248.,  15.],\n",
       "          ...,\n",
       "          [103., 147.,  76.,  ..., 234., 248., 176.],\n",
       "          [220.,  82., 203.,  ..., 180., 226., 125.],\n",
       "          [106.,  12., 209.,  ...,  68.,   8.,  51.]],\n",
       "\n",
       "         [[179.,  59., 119.,  ...,  88., 167., 125.],\n",
       "          [171., 129.,  39.,  ...,  22., 242.,  35.],\n",
       "          [147., 252., 213.,  ...,  38.,  71.,  16.],\n",
       "          ...,\n",
       "          [149.,  73.,  81.,  ...,  92., 236.,  64.],\n",
       "          [ 10.,  21.,  83.,  ..., 142., 169., 176.],\n",
       "          [223.,  97., 195.,  ..., 162., 217., 102.]],\n",
       "\n",
       "         [[  1.,  42., 215.,  ..., 152., 209., 214.],\n",
       "          [104., 241., 112.,  ..., 145.,  10.,  50.],\n",
       "          [ 83., 134.,  86.,  ..., 116.,  34.,  31.],\n",
       "          ...,\n",
       "          [ 61., 156.,  99.,  ...,  48., 237., 227.],\n",
       "          [186.,   3.,   6.,  ..., 148., 105.,  82.],\n",
       "          [172.,  68., 170.,  ..., 141.,  66.,  53.]]],\n",
       "\n",
       "\n",
       "        ...,\n",
       "\n",
       "\n",
       "        [[[186., 172.,  84.,  ...,   1., 220., 210.],\n",
       "          [238., 221., 157.,  ..., 137., 215., 168.],\n",
       "          [122., 227.,  82.,  ...,   9.,  52., 220.],\n",
       "          ...,\n",
       "          [ 90.,   9., 149.,  ...,  97.,  28.,  66.],\n",
       "          [ 85.,  56., 172.,  ..., 194., 150.,  93.],\n",
       "          [164., 240., 234.,  ..., 126., 196.,  28.]],\n",
       "\n",
       "         [[189.,  92., 210.,  ..., 124., 228., 162.],\n",
       "          [232., 173.,  22.,  ..., 151.,  89.,   1.],\n",
       "          [176.,  49.,  25.,  ...,  24.,  97., 148.],\n",
       "          ...,\n",
       "          [ 98.,   5., 153.,  ..., 117., 190.,   8.],\n",
       "          [108.,   5., 221.,  ..., 158., 198., 192.],\n",
       "          [254., 166., 152.,  ...,  96., 150., 232.]],\n",
       "\n",
       "         [[207., 244., 216.,  ...,  61., 101., 137.],\n",
       "          [ 22.,  77.,  73.,  ..., 233., 192.,  72.],\n",
       "          [ 75.,  82.,   6.,  ...,   9.,   6.,  91.],\n",
       "          ...,\n",
       "          [161., 247., 195.,  ...,  77.,  79.,  34.],\n",
       "          [ 12., 188., 252.,  ..., 207., 145.,  31.],\n",
       "          [102.,   1., 140.,  ..., 230., 155., 118.]]],\n",
       "\n",
       "\n",
       "        [[[  6.,  26., 148.,  ..., 210., 241.,  90.],\n",
       "          [235.,  69., 123.,  ..., 140.,  88., 152.],\n",
       "          [ 81.,   9., 190.,  ..., 219., 208.,  74.],\n",
       "          ...,\n",
       "          [178.,  70.,  49.,  ...,  61., 188.,  61.],\n",
       "          [ 64.,  65., 153.,  ..., 189.,  94., 140.],\n",
       "          [210., 169., 181.,  ..., 224., 250., 217.]],\n",
       "\n",
       "         [[ 90.,  93., 195.,  ...,  96.,  10., 215.],\n",
       "          [ 70., 116., 228.,  ..., 255., 182., 121.],\n",
       "          [ 46., 191., 207.,  ..., 241., 102., 156.],\n",
       "          ...,\n",
       "          [217., 149., 244.,  ...,  49.,  42.,  32.],\n",
       "          [144.,  46.,  14.,  ..., 205.,  94.,  64.],\n",
       "          [112.,  61.,  43.,  ...,  76., 132., 136.]],\n",
       "\n",
       "         [[159.,  80.,  11.,  ...,  54., 144., 218.],\n",
       "          [ 73.,   4.,  30.,  ...,  59.,   1., 177.],\n",
       "          [ 83.,  47., 218.,  ...,  51., 147., 236.],\n",
       "          ...,\n",
       "          [210., 126., 115.,  ...,  35., 111., 130.],\n",
       "          [175., 226., 198.,  ..., 202., 234., 254.],\n",
       "          [180.,  48.,  80.,  ..., 158., 219.,  97.]]],\n",
       "\n",
       "\n",
       "        [[[236., 241., 183.,  ..., 192., 175., 223.],\n",
       "          [237.,  12.,  58.,  ...,  56.,  16., 179.],\n",
       "          [138., 161., 200.,  ..., 223., 167.,  10.],\n",
       "          ...,\n",
       "          [ 82.,   5., 249.,  ...,  40.,  53.,  47.],\n",
       "          [235.,   7.,  65.,  ...,  70.,  57., 183.],\n",
       "          [ 13.,  34., 236.,  ..., 150., 196., 231.]],\n",
       "\n",
       "         [[226.,  74.,  50.,  ...,  81., 159.,  43.],\n",
       "          [227., 117.,  28.,  ..., 131.,  55., 124.],\n",
       "          [ 68.,  91.,  77.,  ...,  78.,  94.,   9.],\n",
       "          ...,\n",
       "          [ 60., 119., 249.,  ...,  79.,  29., 112.],\n",
       "          [ 22.,  81., 239.,  ..., 215.,  59., 206.],\n",
       "          [115.,  41., 236.,  ..., 240., 208.,  51.]],\n",
       "\n",
       "         [[ 29., 190., 192.,  ...,  55., 212., 199.],\n",
       "          [ 29., 201.,   2.,  ..., 146., 231.,  92.],\n",
       "          [ 74., 132., 196.,  ..., 124., 146., 102.],\n",
       "          ...,\n",
       "          [230.,  28., 108.,  ...,   9., 136.,  14.],\n",
       "          [180.,  42.,   1.,  ...,  61.,  80.,  71.],\n",
       "          [120., 124., 232.,  ..., 124.,  92.,  21.]]]])"
      ]
     },
     "execution_count": 83,
     "metadata": {},
     "output_type": "execute_result"
    }
   ],
   "source": [
    "batch"
   ]
  },
  {
   "cell_type": "code",
   "execution_count": 81,
   "metadata": {
    "ExecuteTime": {
     "end_time": "2022-09-01T13:49:53.325145Z",
     "start_time": "2022-09-01T13:49:53.267629Z"
    },
    "id": "qdubz4LkkCuW"
   },
   "outputs": [
    {
     "data": {
      "text/plain": [
       "tensor([[[[-0.4821,  0.1932,  1.0711,  ...,  0.1392,  1.0441,  1.3142],\n",
       "          [-1.2249, -0.8738, -1.4545,  ..., -1.0764,  0.5039,  0.9226],\n",
       "          [-0.1850, -0.4821, -0.8062,  ..., -1.1169,  0.3688,  0.4768],\n",
       "          ...,\n",
       "          [ 0.3553, -0.4686,  1.2467,  ...,  0.7065, -0.8738,  1.4358],\n",
       "          [ 0.1797,  0.3553,  0.5309,  ...,  1.4223, -1.1574, -0.4821],\n",
       "          [-0.4956,  1.3277, -0.4146,  ...,  0.7065,  1.7059,  1.7194]],\n",
       "\n",
       "         [[-0.0773, -1.0800, -1.5543,  ...,  1.5352, -1.6220,  1.3184],\n",
       "          [-0.7548, -1.3510, -0.6735,  ..., -1.0393, -1.4458,  0.9255],\n",
       "          [ 1.3862,  0.5460,  1.5488,  ...,  0.9932, -0.7683,  0.3834],\n",
       "          ...,\n",
       "          [ 0.3563,  0.9255, -0.4567,  ..., -0.9174,  1.4946, -1.5136],\n",
       "          [ 0.8984, -0.9038, -1.0664,  ...,  0.1802,  0.2886, -1.3239],\n",
       "          [-1.1613, -0.1586, -1.1477,  ...,  0.7900,  1.4404,  0.0718]],\n",
       "\n",
       "         [[ 0.7383,  1.2923, -1.1802,  ...,  0.6978,  0.5492, -0.7479],\n",
       "          [ 0.6303, -0.6263,  0.8059,  ..., -1.6126, -0.8019, -1.3964],\n",
       "          [ 0.8870,  0.9951,  0.1439,  ..., -1.2073, -1.1937, -1.3559],\n",
       "          ...,\n",
       "          [-1.6801,  1.0896, -1.3829,  ..., -0.0318, -0.6668, -0.9235],\n",
       "          [ 1.0086,  0.8194, -0.8154,  ..., -0.9235,  1.2383,  0.8464],\n",
       "          [-0.9641, -1.5045, -1.6126,  ..., -1.2208,  1.3058, -1.0992]]],\n",
       "\n",
       "\n",
       "        [[[ 1.5301,  0.8790, -0.7622,  ...,  0.8519,  0.4721, -1.3726],\n",
       "          [-1.0470,  1.4351, -1.6981,  ...,  1.2588, -0.8029, -0.2468],\n",
       "          [-0.5587, -1.0606,  0.7705,  ...,  1.2181,  1.5979, -0.6944],\n",
       "          ...,\n",
       "          [ 1.5301,  0.7976,  1.4487,  ...,  1.5030,  0.0245, -0.8164],\n",
       "          [ 0.4043, -0.0704, -0.7486,  ..., -1.2912,  0.6756, -0.9928],\n",
       "          [-0.2739,  1.6793, -1.4811,  ..., -0.6672, -1.4675, -1.0063]],\n",
       "\n",
       "         [[ 1.1475,  1.3911, -0.6792,  ..., -0.3544, -1.2339, -0.0838],\n",
       "          [-1.2069, -1.3557, -1.4234,  ...,  1.4046, -1.1257, -0.9768],\n",
       "          [ 1.5535,  0.4033, -0.7333,  ..., -0.4356,  1.1205, -0.0567],\n",
       "          ...,\n",
       "          [ 0.2545,  0.5251, -0.6386,  ..., -0.0297,  0.0245,  1.1340],\n",
       "          [-0.2326,  0.2139,  1.0528,  ..., -0.7468,  0.8499, -0.3950],\n",
       "          [ 0.1192, -0.7468, -1.0851,  ...,  0.8228,  1.3776,  0.4845]],\n",
       "\n",
       "         [[ 0.8282, -1.1461,  0.8687,  ..., -0.8891,  1.1662, -0.1995],\n",
       "          [-1.0785,  1.2609,  0.7741,  ...,  0.3549, -0.8891, -0.9568],\n",
       "          [-1.6870, -0.4835, -0.9432,  ...,  0.2602, -0.6863,  0.0980],\n",
       "          ...,\n",
       "          [ 0.9499, -0.0913, -1.7275,  ..., -1.0379, -1.6058, -0.7674],\n",
       "          [ 0.5036, -0.1319, -0.9838,  ...,  1.2338,  0.6930, -0.3483],\n",
       "          [ 1.0310,  0.5713, -0.2401,  ...,  1.4232, -0.3483,  0.5713]]],\n",
       "\n",
       "\n",
       "        [[[ 1.2266, -0.0459,  0.5768,  ...,  1.7275,  1.3485, -1.5621],\n",
       "          [ 1.2537, -1.1289, -0.6821,  ..., -1.2236,  0.9288, -0.4249],\n",
       "          [ 0.4956, -0.7904, -1.7245,  ...,  0.5768,  1.6327, -1.5215],\n",
       "          ...,\n",
       "          [-0.3302,  0.2655, -0.6957,  ...,  1.4432,  1.6327,  0.6581],\n",
       "          [ 1.2537, -0.6145,  1.0236,  ...,  0.7122,  1.3349, -0.0324],\n",
       "          [-0.2896, -1.5621,  1.1048,  ..., -0.8040, -1.6162, -1.0341]],\n",
       "\n",
       "         [[ 0.6946, -0.9275, -0.1165,  ..., -0.5355,  0.5324, -0.0354],\n",
       "          [ 0.5864,  0.0187, -1.1978,  ..., -1.4276,  1.5462, -1.2519],\n",
       "          [ 0.2620,  1.6813,  1.1542,  ..., -1.2114, -0.7653, -1.5087],\n",
       "          ...,\n",
       "          [ 0.2891, -0.7382, -0.6301,  ..., -0.4814,  1.4651, -0.8599],\n",
       "          [-1.5898, -1.4411, -0.6031,  ...,  0.1944,  0.5594,  0.6540],\n",
       "          [ 1.2893, -0.4138,  0.9109,  ...,  0.4648,  1.2082, -0.3462]],\n",
       "\n",
       "         [[-1.7111, -1.1572,  1.1801,  ...,  0.3289,  1.0990,  1.1666],\n",
       "          [-0.3195,  1.5313, -0.2115,  ...,  0.2344, -1.5895, -1.0491],\n",
       "          [-0.6032,  0.0858, -0.5627,  ..., -0.1574, -1.2652, -1.3058],\n",
       "          ...,\n",
       "          [-0.9005,  0.3830, -0.3871,  ..., -1.0761,  1.4773,  1.3422],\n",
       "          [ 0.7883, -1.6840, -1.6435,  ...,  0.2749, -0.3060, -0.6168],\n",
       "          [ 0.5991, -0.8059,  0.5721,  ...,  0.1803, -0.8329, -1.0085]]],\n",
       "\n",
       "\n",
       "        ...,\n",
       "\n",
       "\n",
       "        [[[ 0.7937,  0.6038, -0.5894,  ..., -1.7149,  1.2547,  1.1191],\n",
       "          [ 1.4988,  1.2683,  0.4004,  ...,  0.1292,  1.1869,  0.5496],\n",
       "          [-0.0742,  1.3496, -0.6166,  ..., -1.6064, -1.0234,  1.2547],\n",
       "          ...,\n",
       "          [-0.5081, -1.6064,  0.2920,  ..., -0.4132, -1.3488, -0.8335],\n",
       "          [-0.5759, -0.9691,  0.6038,  ...,  0.9022,  0.3055, -0.4674],\n",
       "          [ 0.4954,  1.5259,  1.4446,  ..., -0.0199,  0.9293, -1.3488]],\n",
       "\n",
       "         [[ 0.8306, -0.4823,  1.1149,  ..., -0.0492,  1.3585,  0.4651],\n",
       "          [ 1.4126,  0.6140, -1.4298,  ...,  0.3163, -0.5230, -1.7141],\n",
       "          [ 0.6546, -1.0644, -1.3892,  ..., -1.4028, -0.4147,  0.2756],\n",
       "          ...,\n",
       "          [-0.4011, -1.6600,  0.3433,  ..., -0.1440,  0.8441, -1.6193],\n",
       "          [-0.2658, -1.6600,  1.2638,  ...,  0.4110,  0.9524,  0.8712],\n",
       "          [ 1.7104,  0.5193,  0.3298,  ..., -0.4282,  0.3027,  1.4126]],\n",
       "\n",
       "         [[ 1.0803,  1.5820,  1.2023,  ..., -0.8995, -0.3571,  0.1311],\n",
       "          [-1.4284, -0.6826, -0.7368,  ...,  1.4329,  0.8769, -0.7504],\n",
       "          [-0.7097, -0.6148, -1.6454,  ..., -1.6047, -1.6454, -0.4927],\n",
       "          ...,\n",
       "          [ 0.4565,  1.6227,  0.9176,  ..., -0.6826, -0.6554, -1.2657],\n",
       "          [-1.5640,  0.8226,  1.6905,  ...,  1.0803,  0.2395, -1.3064],\n",
       "          [-0.3436, -1.7132,  0.1717,  ...,  1.3922,  0.3751, -0.1266]]],\n",
       "\n",
       "\n",
       "        [[[-1.6342, -1.3641,  0.2837,  ...,  1.1210,  1.5397, -0.4997],\n",
       "          [ 1.4587, -0.7833, -0.0540,  ...,  0.1756, -0.5267,  0.3377],\n",
       "          [-0.6212, -1.5937,  0.8509,  ...,  1.2426,  1.0940, -0.7158],\n",
       "          ...,\n",
       "          [ 0.6888, -0.7698, -1.0534,  ..., -0.8914,  0.8239, -0.8914],\n",
       "          [-0.8509, -0.8373,  0.3512,  ...,  0.8374, -0.4457,  0.1756],\n",
       "          [ 1.1210,  0.5673,  0.7294,  ...,  1.3101,  1.6613,  1.2156]],\n",
       "\n",
       "         [[-0.5087, -0.4682,  0.9105,  ..., -0.4276, -1.5900,  1.1808],\n",
       "          [-0.7790, -0.1573,  1.3565,  ...,  1.7215,  0.7348, -0.0897],\n",
       "          [-1.1034,  0.8564,  1.0727,  ...,  1.5322, -0.3465,  0.3834],\n",
       "          ...,\n",
       "          [ 1.2079,  0.2888,  1.5728,  ..., -1.0629, -1.1575, -1.2927],\n",
       "          [ 0.2212, -1.1034, -1.5359,  ...,  1.0457, -0.4546, -0.8601],\n",
       "          [-0.2114, -0.9007, -1.1440,  ..., -0.6979,  0.0590,  0.1130]],\n",
       "\n",
       "         [[ 0.4338, -0.6377, -1.5736,  ..., -0.9903,  0.2303,  1.2340],\n",
       "          [-0.7326, -1.6685, -1.3159,  ..., -0.9225, -1.7092,  0.6779],\n",
       "          [-0.5970, -1.0853,  1.2340,  ..., -1.0310,  0.2710,  1.4781],\n",
       "          ...,\n",
       "          [ 1.1255, -0.0138, -0.1630,  ..., -1.2480, -0.2173,  0.0404],\n",
       "          [ 0.6508,  1.3425,  0.9627,  ...,  1.0170,  1.4510,  1.7223],\n",
       "          [ 0.7186, -1.0717, -0.6377,  ...,  0.4202,  1.2476, -0.4071]]],\n",
       "\n",
       "\n",
       "        [[[ 1.4676,  1.5353,  0.7507,  ...,  0.8725,  0.6425,  1.2918],\n",
       "          [ 1.4812, -1.5624, -0.9402,  ..., -0.9672, -1.5083,  0.6966],\n",
       "          [ 0.1420,  0.4531,  0.9807,  ...,  1.2918,  0.5343, -1.5895],\n",
       "          ...,\n",
       "          [-0.6155, -1.6571,  1.6435,  ..., -1.1837, -1.0078, -1.0890],\n",
       "          [ 1.4541, -1.6301, -0.8455,  ..., -0.7779, -0.9537,  0.7507],\n",
       "          [-1.5489, -1.2648,  1.4676,  ...,  0.3043,  0.9266,  1.4000]],\n",
       "\n",
       "         [[ 1.3378, -0.7209, -1.0460,  ..., -0.6261,  0.4303, -1.1408],\n",
       "          [ 1.3513, -0.1385, -1.3440,  ...,  0.0511, -0.9783, -0.0437],\n",
       "          [-0.8022, -0.4907, -0.6803,  ..., -0.6668, -0.4500, -1.6013],\n",
       "          ...,\n",
       "          [-0.9105, -0.1114,  1.6493,  ..., -0.6532, -1.3304, -0.2063],\n",
       "          [-1.4252, -0.6261,  1.5138,  ...,  1.1888, -0.9241,  1.0669],\n",
       "          [-0.1656, -1.1679,  1.4732,  ...,  1.5274,  1.0940, -1.0324]],\n",
       "\n",
       "         [[-1.3272,  0.8519,  0.8790,  ..., -0.9753,  1.1497,  0.9737],\n",
       "          [-1.3272,  1.0008, -1.6927,  ...,  0.2564,  1.4069, -0.4745],\n",
       "          [-0.7181,  0.0669,  0.9331,  ..., -0.0414,  0.2564, -0.3392],\n",
       "          ...,\n",
       "          [ 1.3933, -1.3408, -0.2580,  ..., -1.5979,  0.1210, -1.5303],\n",
       "          [ 0.7166, -1.1513, -1.7062,  ..., -0.8941, -0.6369, -0.7588],\n",
       "          [-0.0955, -0.0414,  1.4204,  ..., -0.0414, -0.4745, -1.4355]]]])"
      ]
     },
     "execution_count": 81,
     "metadata": {},
     "output_type": "execute_result"
    }
   ],
   "source": [
    "B"
   ]
  },
  {
   "cell_type": "markdown",
   "metadata": {
    "id": "kepFeTZ0YKBV"
   },
   "source": [
    "## Матричные операции"
   ]
  },
  {
   "cell_type": "markdown",
   "metadata": {
    "id": "7RYm3mdrYKBX"
   },
   "source": [
    "#### Транспонирование тензора"
   ]
  },
  {
   "cell_type": "code",
   "execution_count": 84,
   "metadata": {
    "ExecuteTime": {
     "end_time": "2022-09-01T13:50:51.590590Z",
     "start_time": "2022-09-01T13:50:51.578514Z"
    },
    "colab": {
     "base_uri": "https://localhost:8080/"
    },
    "executionInfo": {
     "elapsed": 442,
     "status": "ok",
     "timestamp": 1634747278434,
     "user": {
      "displayName": "Александр Анатольевич Миленькин",
      "photoUrl": "https://lh3.googleusercontent.com/a-/AOh14Gh1yB_mGyNeEBrnQ_bFdA3CLdWCnTPdtAORppSkYg=s64",
      "userId": "12111341805146772458"
     },
     "user_tz": -180
    },
    "id": "T8-1TSkeYKBY",
    "outputId": "aca565b2-ea0c-4909-964a-05cc5a3e6f68"
   },
   "outputs": [
    {
     "data": {
      "text/plain": [
       "tensor([[  1.,   2.,   3.],\n",
       "        [ 10.,  20.,  30.],\n",
       "        [100., 200., 300.]])"
      ]
     },
     "execution_count": 84,
     "metadata": {},
     "output_type": "execute_result"
    }
   ],
   "source": [
    "a = torch.FloatTensor([[1, 2, 3], [10, 20, 30], [100, 200, 300]])\n",
    "a"
   ]
  },
  {
   "cell_type": "code",
   "execution_count": 85,
   "metadata": {
    "ExecuteTime": {
     "end_time": "2022-09-01T13:50:54.775444Z",
     "start_time": "2022-09-01T13:50:54.752353Z"
    },
    "colab": {
     "base_uri": "https://localhost:8080/"
    },
    "executionInfo": {
     "elapsed": 8,
     "status": "ok",
     "timestamp": 1634747280280,
     "user": {
      "displayName": "Александр Анатольевич Миленькин",
      "photoUrl": "https://lh3.googleusercontent.com/a-/AOh14Gh1yB_mGyNeEBrnQ_bFdA3CLdWCnTPdtAORppSkYg=s64",
      "userId": "12111341805146772458"
     },
     "user_tz": -180
    },
    "id": "HSAZwai7YKBa",
    "outputId": "6506227d-85fc-4b22-e1a9-8b212c742d2b"
   },
   "outputs": [
    {
     "data": {
      "text/plain": [
       "tensor([[  1.,  10., 100.],\n",
       "        [  2.,  20., 200.],\n",
       "        [  3.,  30., 300.]])"
      ]
     },
     "execution_count": 85,
     "metadata": {},
     "output_type": "execute_result"
    }
   ],
   "source": [
    "a.t()"
   ]
  },
  {
   "cell_type": "markdown",
   "metadata": {
    "id": "QqsPkleRYKBd"
   },
   "source": [
    "Это тоже не inplace-операция:"
   ]
  },
  {
   "cell_type": "code",
   "execution_count": 86,
   "metadata": {
    "ExecuteTime": {
     "end_time": "2022-09-01T13:50:55.320491Z",
     "start_time": "2022-09-01T13:50:55.313043Z"
    },
    "colab": {
     "base_uri": "https://localhost:8080/"
    },
    "executionInfo": {
     "elapsed": 652,
     "status": "ok",
     "timestamp": 1634747314054,
     "user": {
      "displayName": "Александр Анатольевич Миленькин",
      "photoUrl": "https://lh3.googleusercontent.com/a-/AOh14Gh1yB_mGyNeEBrnQ_bFdA3CLdWCnTPdtAORppSkYg=s64",
      "userId": "12111341805146772458"
     },
     "user_tz": -180
    },
    "id": "NRPamd2EYKBe",
    "outputId": "6a8d5de2-9753-4b25-a31d-7f3910a235fe"
   },
   "outputs": [
    {
     "data": {
      "text/plain": [
       "tensor([[  1.,   2.,   3.],\n",
       "        [ 10.,  20.,  30.],\n",
       "        [100., 200., 300.]])"
      ]
     },
     "execution_count": 86,
     "metadata": {},
     "output_type": "execute_result"
    }
   ],
   "source": [
    "a"
   ]
  },
  {
   "cell_type": "markdown",
   "metadata": {
    "id": "q8YhoxHPYKBh"
   },
   "source": [
    "#### Скалярное произведение векторов"
   ]
  },
  {
   "cell_type": "code",
   "execution_count": null,
   "metadata": {
    "id": "i1pRtl7HYKBi"
   },
   "outputs": [],
   "source": [
    "a = torch.FloatTensor([1, 2, 3, 4, 5, 6])\n",
    "b = torch.FloatTensor([-1, -2, -4, -6, -8, -10])"
   ]
  },
  {
   "cell_type": "code",
   "execution_count": null,
   "metadata": {
    "colab": {
     "base_uri": "https://localhost:8080/"
    },
    "executionInfo": {
     "elapsed": 7,
     "status": "ok",
     "timestamp": 1634747328572,
     "user": {
      "displayName": "Александр Анатольевич Миленькин",
      "photoUrl": "https://lh3.googleusercontent.com/a-/AOh14Gh1yB_mGyNeEBrnQ_bFdA3CLdWCnTPdtAORppSkYg=s64",
      "userId": "12111341805146772458"
     },
     "user_tz": -180
    },
    "id": "qcS-28dwYKBp",
    "outputId": "9846a5f9-d2bf-4b3f-caf0-056fc0109ee8"
   },
   "outputs": [
    {
     "data": {
      "text/plain": [
       "tensor(-141.)"
      ]
     },
     "execution_count": 116,
     "metadata": {},
     "output_type": "execute_result"
    }
   ],
   "source": [
    "a.dot(b)"
   ]
  },
  {
   "cell_type": "code",
   "execution_count": null,
   "metadata": {
    "colab": {
     "base_uri": "https://localhost:8080/"
    },
    "executionInfo": {
     "elapsed": 7,
     "status": "ok",
     "timestamp": 1634747331486,
     "user": {
      "displayName": "Александр Анатольевич Миленькин",
      "photoUrl": "https://lh3.googleusercontent.com/a-/AOh14Gh1yB_mGyNeEBrnQ_bFdA3CLdWCnTPdtAORppSkYg=s64",
      "userId": "12111341805146772458"
     },
     "user_tz": -180
    },
    "id": "sBiRR1V3LP-r",
    "outputId": "b8b20971-79bb-4da6-b008-5e1a4a387b18"
   },
   "outputs": [
    {
     "data": {
      "text/plain": [
       "(torch.Size([6]), torch.Size([6]))"
      ]
     },
     "execution_count": 117,
     "metadata": {},
     "output_type": "execute_result"
    }
   ],
   "source": [
    "a.shape, b.shape"
   ]
  },
  {
   "cell_type": "code",
   "execution_count": null,
   "metadata": {
    "colab": {
     "base_uri": "https://localhost:8080/"
    },
    "executionInfo": {
     "elapsed": 7,
     "status": "ok",
     "timestamp": 1634747345314,
     "user": {
      "displayName": "Александр Анатольевич Миленькин",
      "photoUrl": "https://lh3.googleusercontent.com/a-/AOh14Gh1yB_mGyNeEBrnQ_bFdA3CLdWCnTPdtAORppSkYg=s64",
      "userId": "12111341805146772458"
     },
     "user_tz": -180
    },
    "id": "MXyhOelQYKBs",
    "outputId": "4f92a038-5f36-43e2-a4be-a50d321e1fdb"
   },
   "outputs": [
    {
     "data": {
      "text/plain": [
       "tensor(-141.)"
      ]
     },
     "execution_count": 118,
     "metadata": {},
     "output_type": "execute_result"
    }
   ],
   "source": [
    "a @ b"
   ]
  },
  {
   "cell_type": "code",
   "execution_count": null,
   "metadata": {
    "colab": {
     "base_uri": "https://localhost:8080/"
    },
    "executionInfo": {
     "elapsed": 621,
     "status": "ok",
     "timestamp": 1634747356649,
     "user": {
      "displayName": "Александр Анатольевич Миленькин",
      "photoUrl": "https://lh3.googleusercontent.com/a-/AOh14Gh1yB_mGyNeEBrnQ_bFdA3CLdWCnTPdtAORppSkYg=s64",
      "userId": "12111341805146772458"
     },
     "user_tz": -180
    },
    "id": "sxqg4xhoYKBt",
    "outputId": "cb1e601e-ecea-42f3-bf10-e12babfe57af"
   },
   "outputs": [
    {
     "data": {
      "text/plain": [
       "torch.Tensor"
      ]
     },
     "execution_count": 119,
     "metadata": {},
     "output_type": "execute_result"
    }
   ],
   "source": [
    "type(a)"
   ]
  },
  {
   "cell_type": "code",
   "execution_count": null,
   "metadata": {
    "colab": {
     "base_uri": "https://localhost:8080/"
    },
    "executionInfo": {
     "elapsed": 6,
     "status": "ok",
     "timestamp": 1634747357122,
     "user": {
      "displayName": "Александр Анатольевич Миленькин",
      "photoUrl": "https://lh3.googleusercontent.com/a-/AOh14Gh1yB_mGyNeEBrnQ_bFdA3CLdWCnTPdtAORppSkYg=s64",
      "userId": "12111341805146772458"
     },
     "user_tz": -180
    },
    "id": "_v2ZjPqDYKBz",
    "outputId": "d524bb4f-caf7-4e39-d681-9850f9fe63ec"
   },
   "outputs": [
    {
     "data": {
      "text/plain": [
       "torch.Tensor"
      ]
     },
     "execution_count": 120,
     "metadata": {},
     "output_type": "execute_result"
    }
   ],
   "source": [
    "type(b)"
   ]
  },
  {
   "cell_type": "code",
   "execution_count": null,
   "metadata": {
    "colab": {
     "base_uri": "https://localhost:8080/"
    },
    "executionInfo": {
     "elapsed": 5,
     "status": "ok",
     "timestamp": 1634747357810,
     "user": {
      "displayName": "Александр Анатольевич Миленькин",
      "photoUrl": "https://lh3.googleusercontent.com/a-/AOh14Gh1yB_mGyNeEBrnQ_bFdA3CLdWCnTPdtAORppSkYg=s64",
      "userId": "12111341805146772458"
     },
     "user_tz": -180
    },
    "id": "UsWB9vTuYKB0",
    "outputId": "37980664-95ee-4852-da62-5ca6772548a0"
   },
   "outputs": [
    {
     "data": {
      "text/plain": [
       "torch.Tensor"
      ]
     },
     "execution_count": 121,
     "metadata": {},
     "output_type": "execute_result"
    }
   ],
   "source": [
    "type(a @ b)"
   ]
  },
  {
   "cell_type": "markdown",
   "metadata": {
    "id": "KSrnLwkGYKB1"
   },
   "source": [
    "#### Матричное произведение"
   ]
  },
  {
   "cell_type": "code",
   "execution_count": null,
   "metadata": {
    "id": "ViurnbjPYKB2"
   },
   "outputs": [],
   "source": [
    "a = torch.FloatTensor([[1, 2, 3], [10, 20, 30], [100, 200, 300]])\n",
    "b = torch.FloatTensor([[-1, -2, -3], [-10, -20, -30], [100, 200, 300]])"
   ]
  },
  {
   "cell_type": "code",
   "execution_count": null,
   "metadata": {
    "colab": {
     "base_uri": "https://localhost:8080/"
    },
    "executionInfo": {
     "elapsed": 233,
     "status": "ok",
     "timestamp": 1634649390097,
     "user": {
      "displayName": "Александр Анатольевич Миленькин",
      "photoUrl": "https://lh3.googleusercontent.com/a-/AOh14Gh1yB_mGyNeEBrnQ_bFdA3CLdWCnTPdtAORppSkYg=s64",
      "userId": "12111341805146772458"
     },
     "user_tz": -180
    },
    "id": "5TrCnfWiYKB3",
    "outputId": "9d920c83-cd01-4207-ea73-3373efed9e9f"
   },
   "outputs": [
    {
     "data": {
      "text/plain": [
       "tensor([[  279.,   558.,   837.],\n",
       "        [ 2790.,  5580.,  8370.],\n",
       "        [27900., 55800., 83700.]])"
      ]
     },
     "execution_count": 111,
     "metadata": {},
     "output_type": "execute_result"
    }
   ],
   "source": [
    "a.mm(b)"
   ]
  },
  {
   "cell_type": "code",
   "execution_count": null,
   "metadata": {
    "colab": {
     "base_uri": "https://localhost:8080/"
    },
    "executionInfo": {
     "elapsed": 452,
     "status": "ok",
     "timestamp": 1634747385383,
     "user": {
      "displayName": "Александр Анатольевич Миленькин",
      "photoUrl": "https://lh3.googleusercontent.com/a-/AOh14Gh1yB_mGyNeEBrnQ_bFdA3CLdWCnTPdtAORppSkYg=s64",
      "userId": "12111341805146772458"
     },
     "user_tz": -180
    },
    "id": "HMzIz-_MYKB4",
    "outputId": "1f41001d-524f-43fe-ce7f-e602d5f54c3c"
   },
   "outputs": [
    {
     "data": {
      "text/plain": [
       "tensor([[  279.,   558.,   837.],\n",
       "        [ 2790.,  5580.,  8370.],\n",
       "        [27900., 55800., 83700.]])"
      ]
     },
     "execution_count": 123,
     "metadata": {},
     "output_type": "execute_result"
    }
   ],
   "source": [
    "a @ b"
   ]
  },
  {
   "cell_type": "code",
   "execution_count": null,
   "metadata": {
    "id": "vtuvt20-YKB8"
   },
   "outputs": [],
   "source": [
    "a = torch.FloatTensor([[1, 2, 3], [10, 20, 30], [100, 200, 300]])\n",
    "b = torch.FloatTensor([[-1], [-10], [100]])"
   ]
  },
  {
   "cell_type": "code",
   "execution_count": null,
   "metadata": {
    "colab": {
     "base_uri": "https://localhost:8080/"
    },
    "executionInfo": {
     "elapsed": 10,
     "status": "ok",
     "timestamp": 1634747390983,
     "user": {
      "displayName": "Александр Анатольевич Миленькин",
      "photoUrl": "https://lh3.googleusercontent.com/a-/AOh14Gh1yB_mGyNeEBrnQ_bFdA3CLdWCnTPdtAORppSkYg=s64",
      "userId": "12111341805146772458"
     },
     "user_tz": -180
    },
    "id": "fdDnu5XjYKB9",
    "outputId": "1a6c1ff2-a2e3-4f3f-8bd4-f644b9f82c97"
   },
   "outputs": [
    {
     "name": "stdout",
     "output_type": "stream",
     "text": [
      "torch.Size([3, 3]) torch.Size([3, 1])\n"
     ]
    }
   ],
   "source": [
    "print(a.shape, b.shape)"
   ]
  },
  {
   "cell_type": "code",
   "execution_count": null,
   "metadata": {
    "colab": {
     "base_uri": "https://localhost:8080/"
    },
    "executionInfo": {
     "elapsed": 325,
     "status": "ok",
     "timestamp": 1634649395601,
     "user": {
      "displayName": "Александр Анатольевич Миленькин",
      "photoUrl": "https://lh3.googleusercontent.com/a-/AOh14Gh1yB_mGyNeEBrnQ_bFdA3CLdWCnTPdtAORppSkYg=s64",
      "userId": "12111341805146772458"
     },
     "user_tz": -180
    },
    "id": "oD4N4WN8YKB_",
    "outputId": "595cf2fb-820f-4029-fbc7-e21fc140ba9f"
   },
   "outputs": [
    {
     "data": {
      "text/plain": [
       "tensor([[  279.],\n",
       "        [ 2790.],\n",
       "        [27900.]])"
      ]
     },
     "execution_count": 115,
     "metadata": {},
     "output_type": "execute_result"
    }
   ],
   "source": [
    "a @ b"
   ]
  },
  {
   "cell_type": "markdown",
   "metadata": {
    "id": "va9w-BavYKCB"
   },
   "source": [
    "Тензор `b` можно развернуть в одномерный массив с помощью функции `torch.view(-1)`, чтобы результат был вектором"
   ]
  },
  {
   "cell_type": "code",
   "execution_count": null,
   "metadata": {
    "colab": {
     "base_uri": "https://localhost:8080/"
    },
    "executionInfo": {
     "elapsed": 971,
     "status": "ok",
     "timestamp": 1634747397546,
     "user": {
      "displayName": "Александр Анатольевич Миленькин",
      "photoUrl": "https://lh3.googleusercontent.com/a-/AOh14Gh1yB_mGyNeEBrnQ_bFdA3CLdWCnTPdtAORppSkYg=s64",
      "userId": "12111341805146772458"
     },
     "user_tz": -180
    },
    "id": "V7KsdYcBYKCC",
    "outputId": "3fd989f8-2b94-4082-af61-e1030a8ca47f"
   },
   "outputs": [
    {
     "data": {
      "text/plain": [
       "tensor([[ -1.],\n",
       "        [-10.],\n",
       "        [100.]])"
      ]
     },
     "execution_count": 126,
     "metadata": {},
     "output_type": "execute_result"
    }
   ],
   "source": [
    "b"
   ]
  },
  {
   "cell_type": "code",
   "execution_count": null,
   "metadata": {
    "colab": {
     "base_uri": "https://localhost:8080/"
    },
    "executionInfo": {
     "elapsed": 5,
     "status": "ok",
     "timestamp": 1634747397972,
     "user": {
      "displayName": "Александр Анатольевич Миленькин",
      "photoUrl": "https://lh3.googleusercontent.com/a-/AOh14Gh1yB_mGyNeEBrnQ_bFdA3CLdWCnTPdtAORppSkYg=s64",
      "userId": "12111341805146772458"
     },
     "user_tz": -180
    },
    "id": "t7k6spayYKCF",
    "outputId": "d3d8ed57-ab88-4b71-a28c-2d1b22e0b7e6"
   },
   "outputs": [
    {
     "data": {
      "text/plain": [
       "tensor([ -1., -10., 100.])"
      ]
     },
     "execution_count": 127,
     "metadata": {},
     "output_type": "execute_result"
    }
   ],
   "source": [
    "b.view(-1)"
   ]
  },
  {
   "cell_type": "code",
   "execution_count": null,
   "metadata": {
    "colab": {
     "base_uri": "https://localhost:8080/"
    },
    "executionInfo": {
     "elapsed": 5,
     "status": "ok",
     "timestamp": 1634747398354,
     "user": {
      "displayName": "Александр Анатольевич Миленькин",
      "photoUrl": "https://lh3.googleusercontent.com/a-/AOh14Gh1yB_mGyNeEBrnQ_bFdA3CLdWCnTPdtAORppSkYg=s64",
      "userId": "12111341805146772458"
     },
     "user_tz": -180
    },
    "id": "8u8xQ20bYKCH",
    "outputId": "c5b424dc-6824-46d9-d356-251cf6926933"
   },
   "outputs": [
    {
     "data": {
      "text/plain": [
       "tensor([  279.,  2790., 27900.])"
      ]
     },
     "execution_count": 128,
     "metadata": {},
     "output_type": "execute_result"
    }
   ],
   "source": [
    "a @ b.view(-1)"
   ]
  },
  {
   "cell_type": "code",
   "execution_count": null,
   "metadata": {
    "colab": {
     "base_uri": "https://localhost:8080/"
    },
    "executionInfo": {
     "elapsed": 238,
     "status": "ok",
     "timestamp": 1634649407216,
     "user": {
      "displayName": "Александр Анатольевич Миленькин",
      "photoUrl": "https://lh3.googleusercontent.com/a-/AOh14Gh1yB_mGyNeEBrnQ_bFdA3CLdWCnTPdtAORppSkYg=s64",
      "userId": "12111341805146772458"
     },
     "user_tz": -180
    },
    "id": "QvCu1sJEYKCJ",
    "outputId": "7dac2139-3516-4680-c588-3391fd199703"
   },
   "outputs": [
    {
     "data": {
      "text/plain": [
       "tensor([  279.,  2790., 27900.])"
      ]
     },
     "execution_count": 119,
     "metadata": {},
     "output_type": "execute_result"
    }
   ],
   "source": [
    "a.mv(b.view(-1))"
   ]
  },
  {
   "cell_type": "code",
   "execution_count": null,
   "metadata": {
    "colab": {
     "base_uri": "https://localhost:8080/"
    },
    "executionInfo": {
     "elapsed": 21,
     "status": "ok",
     "timestamp": 1634649417553,
     "user": {
      "displayName": "Александр Анатольевич Миленькин",
      "photoUrl": "https://lh3.googleusercontent.com/a-/AOh14Gh1yB_mGyNeEBrnQ_bFdA3CLdWCnTPdtAORppSkYg=s64",
      "userId": "12111341805146772458"
     },
     "user_tz": -180
    },
    "id": "MAuGNC7EL3lq",
    "outputId": "b97080cb-21cc-4145-db12-e9e13dc00537"
   },
   "outputs": [
    {
     "data": {
      "text/plain": [
       "torch.Size([2, 3, 4, 6])"
      ]
     },
     "execution_count": 120,
     "metadata": {},
     "output_type": "execute_result"
    }
   ],
   "source": [
    "y = torch.Tensor(2, 3, 4, 5)\n",
    "z = torch.Tensor(2, 3, 5, 6)\n",
    "(y @ z).shape"
   ]
  },
  {
   "cell_type": "markdown",
   "metadata": {
    "id": "gZitrCN6YKCL"
   },
   "source": [
    "## Конвертация\n",
    "#### Конвертация из Numpy в Pytorch:"
   ]
  },
  {
   "cell_type": "code",
   "execution_count": 31,
   "metadata": {
    "ExecuteTime": {
     "end_time": "2022-09-02T07:09:59.491040Z",
     "start_time": "2022-09-02T07:09:59.475903Z"
    },
    "colab": {
     "base_uri": "https://localhost:8080/"
    },
    "executionInfo": {
     "elapsed": 491,
     "status": "ok",
     "timestamp": 1634747455908,
     "user": {
      "displayName": "Александр Анатольевич Миленькин",
      "photoUrl": "https://lh3.googleusercontent.com/a-/AOh14Gh1yB_mGyNeEBrnQ_bFdA3CLdWCnTPdtAORppSkYg=s64",
      "userId": "12111341805146772458"
     },
     "user_tz": -180
    },
    "id": "bnLS4CGXYKCL",
    "outputId": "4695cd5a-bde6-4c62-cbfe-59a72102fb51"
   },
   "outputs": [
    {
     "data": {
      "text/plain": [
       "array([[0.35568443, 0.4599882 , 0.77676166],\n",
       "       [0.21804358, 0.1394651 , 0.07367843],\n",
       "       [0.91019436, 0.01024623, 0.31577072]])"
      ]
     },
     "execution_count": 31,
     "metadata": {},
     "output_type": "execute_result"
    }
   ],
   "source": [
    "import numpy as np\n",
    "\n",
    "a = np.random.rand(3, 3)\n",
    "a"
   ]
  },
  {
   "cell_type": "code",
   "execution_count": 32,
   "metadata": {
    "ExecuteTime": {
     "end_time": "2022-09-02T07:10:06.641405Z",
     "start_time": "2022-09-02T07:10:06.632544Z"
    },
    "colab": {
     "base_uri": "https://localhost:8080/"
    },
    "executionInfo": {
     "elapsed": 457,
     "status": "ok",
     "timestamp": 1634747469152,
     "user": {
      "displayName": "Александр Анатольевич Миленькин",
      "photoUrl": "https://lh3.googleusercontent.com/a-/AOh14Gh1yB_mGyNeEBrnQ_bFdA3CLdWCnTPdtAORppSkYg=s64",
      "userId": "12111341805146772458"
     },
     "user_tz": -180
    },
    "id": "PXge57waYKCM",
    "outputId": "1602fee2-f37c-4c9a-f871-fcd6954a7263"
   },
   "outputs": [
    {
     "data": {
      "text/plain": [
       "tensor([[0.3557, 0.4600, 0.7768],\n",
       "        [0.2180, 0.1395, 0.0737],\n",
       "        [0.9102, 0.0102, 0.3158]], dtype=torch.float64)"
      ]
     },
     "execution_count": 32,
     "metadata": {},
     "output_type": "execute_result"
    }
   ],
   "source": [
    "b = torch.from_numpy(a)\n",
    "b"
   ]
  },
  {
   "cell_type": "markdown",
   "metadata": {
    "id": "Nvcr3ymPYKCN"
   },
   "source": [
    "**Внимание!** `a` и `b` хранятся в одной и той же ячейке данных. Если именить один тензор, то изменится и другой."
   ]
  },
  {
   "cell_type": "code",
   "execution_count": 33,
   "metadata": {
    "ExecuteTime": {
     "end_time": "2022-09-02T07:10:13.731468Z",
     "start_time": "2022-09-02T07:10:13.725074Z"
    },
    "colab": {
     "base_uri": "https://localhost:8080/"
    },
    "executionInfo": {
     "elapsed": 397,
     "status": "ok",
     "timestamp": 1634747507369,
     "user": {
      "displayName": "Александр Анатольевич Миленькин",
      "photoUrl": "https://lh3.googleusercontent.com/a-/AOh14Gh1yB_mGyNeEBrnQ_bFdA3CLdWCnTPdtAORppSkYg=s64",
      "userId": "12111341805146772458"
     },
     "user_tz": -180
    },
    "id": "0N_ZW6TQYKCN",
    "outputId": "1d419bf2-5353-4cea-bd85-e6ce1ea3255d"
   },
   "outputs": [
    {
     "data": {
      "text/plain": [
       "tensor([[0., 0., 0.],\n",
       "        [0., 0., 0.],\n",
       "        [0., 0., 0.]], dtype=torch.float64)"
      ]
     },
     "execution_count": 33,
     "metadata": {},
     "output_type": "execute_result"
    }
   ],
   "source": [
    "b -= b\n",
    "b"
   ]
  },
  {
   "cell_type": "code",
   "execution_count": 34,
   "metadata": {
    "ExecuteTime": {
     "end_time": "2022-09-02T07:10:19.218964Z",
     "start_time": "2022-09-02T07:10:19.213104Z"
    },
    "colab": {
     "base_uri": "https://localhost:8080/"
    },
    "executionInfo": {
     "elapsed": 424,
     "status": "ok",
     "timestamp": 1634747511323,
     "user": {
      "displayName": "Александр Анатольевич Миленькин",
      "photoUrl": "https://lh3.googleusercontent.com/a-/AOh14Gh1yB_mGyNeEBrnQ_bFdA3CLdWCnTPdtAORppSkYg=s64",
      "userId": "12111341805146772458"
     },
     "user_tz": -180
    },
    "id": "wzUnCKsiYKCP",
    "outputId": "fdefbd15-9512-4752-a16a-13a1aaf03704"
   },
   "outputs": [
    {
     "data": {
      "text/plain": [
       "array([[0., 0., 0.],\n",
       "       [0., 0., 0.],\n",
       "       [0., 0., 0.]])"
      ]
     },
     "execution_count": 34,
     "metadata": {},
     "output_type": "execute_result"
    }
   ],
   "source": [
    "a"
   ]
  },
  {
   "cell_type": "markdown",
   "metadata": {
    "id": "Al73RqKSYKCR"
   },
   "source": [
    "#### Конвертация из Torch в Numpy"
   ]
  },
  {
   "cell_type": "code",
   "execution_count": 35,
   "metadata": {
    "ExecuteTime": {
     "end_time": "2022-09-02T07:10:28.066080Z",
     "start_time": "2022-09-02T07:10:28.056543Z"
    },
    "colab": {
     "base_uri": "https://localhost:8080/"
    },
    "executionInfo": {
     "elapsed": 576,
     "status": "ok",
     "timestamp": 1634747522346,
     "user": {
      "displayName": "Александр Анатольевич Миленькин",
      "photoUrl": "https://lh3.googleusercontent.com/a-/AOh14Gh1yB_mGyNeEBrnQ_bFdA3CLdWCnTPdtAORppSkYg=s64",
      "userId": "12111341805146772458"
     },
     "user_tz": -180
    },
    "id": "u5rngw4vYKCR",
    "outputId": "8a8561d2-8199-4dbd-fb0d-c27dec81755f"
   },
   "outputs": [
    {
     "data": {
      "text/plain": [
       "tensor([[[0.0000e+00, 0.0000e+00, 0.0000e+00, 0.0000e+00],\n",
       "         [0.0000e+00, 0.0000e+00, 0.0000e+00, 0.0000e+00],\n",
       "         [3.5733e-43, 0.0000e+00, 0.0000e+00, 0.0000e+00]],\n",
       "\n",
       "        [[0.0000e+00, 0.0000e+00, 0.0000e+00, 0.0000e+00],\n",
       "         [0.0000e+00, 0.0000e+00, 0.0000e+00, 0.0000e+00],\n",
       "         [0.0000e+00, 0.0000e+00, 0.0000e+00, 0.0000e+00]]])"
      ]
     },
     "execution_count": 35,
     "metadata": {},
     "output_type": "execute_result"
    }
   ],
   "source": [
    "a = torch.FloatTensor(2, 3, 4)\n",
    "a"
   ]
  },
  {
   "cell_type": "code",
   "execution_count": 36,
   "metadata": {
    "ExecuteTime": {
     "end_time": "2022-09-02T07:10:30.214770Z",
     "start_time": "2022-09-02T07:10:30.206654Z"
    },
    "colab": {
     "base_uri": "https://localhost:8080/"
    },
    "executionInfo": {
     "elapsed": 635,
     "status": "ok",
     "timestamp": 1634747527548,
     "user": {
      "displayName": "Александр Анатольевич Миленькин",
      "photoUrl": "https://lh3.googleusercontent.com/a-/AOh14Gh1yB_mGyNeEBrnQ_bFdA3CLdWCnTPdtAORppSkYg=s64",
      "userId": "12111341805146772458"
     },
     "user_tz": -180
    },
    "id": "yjK68Kk-YKCS",
    "outputId": "8d0cd1e7-e497-44ac-c42c-6be7afd6c96b"
   },
   "outputs": [
    {
     "data": {
      "text/plain": [
       "torch.Tensor"
      ]
     },
     "execution_count": 36,
     "metadata": {},
     "output_type": "execute_result"
    }
   ],
   "source": [
    "type(a)"
   ]
  },
  {
   "cell_type": "code",
   "execution_count": 37,
   "metadata": {
    "ExecuteTime": {
     "end_time": "2022-09-02T07:10:30.766139Z",
     "start_time": "2022-09-02T07:10:30.759237Z"
    },
    "colab": {
     "base_uri": "https://localhost:8080/"
    },
    "executionInfo": {
     "elapsed": 686,
     "status": "ok",
     "timestamp": 1634747530183,
     "user": {
      "displayName": "Александр Анатольевич Миленькин",
      "photoUrl": "https://lh3.googleusercontent.com/a-/AOh14Gh1yB_mGyNeEBrnQ_bFdA3CLdWCnTPdtAORppSkYg=s64",
      "userId": "12111341805146772458"
     },
     "user_tz": -180
    },
    "id": "viLUF7gQYKCU",
    "outputId": "57c34d40-d599-4e65-ce84-1b2b23ca80ff"
   },
   "outputs": [
    {
     "data": {
      "text/plain": [
       "array([[[0.00e+00, 0.00e+00, 0.00e+00, 0.00e+00],\n",
       "        [0.00e+00, 0.00e+00, 0.00e+00, 0.00e+00],\n",
       "        [3.57e-43, 0.00e+00, 0.00e+00, 0.00e+00]],\n",
       "\n",
       "       [[0.00e+00, 0.00e+00, 0.00e+00, 0.00e+00],\n",
       "        [0.00e+00, 0.00e+00, 0.00e+00, 0.00e+00],\n",
       "        [0.00e+00, 0.00e+00, 0.00e+00, 0.00e+00]]], dtype=float32)"
      ]
     },
     "execution_count": 37,
     "metadata": {},
     "output_type": "execute_result"
    }
   ],
   "source": [
    "x = a.numpy()\n",
    "x"
   ]
  },
  {
   "cell_type": "code",
   "execution_count": null,
   "metadata": {
    "colab": {
     "base_uri": "https://localhost:8080/"
    },
    "executionInfo": {
     "elapsed": 758,
     "status": "ok",
     "timestamp": 1634747538493,
     "user": {
      "displayName": "Александр Анатольевич Миленькин",
      "photoUrl": "https://lh3.googleusercontent.com/a-/AOh14Gh1yB_mGyNeEBrnQ_bFdA3CLdWCnTPdtAORppSkYg=s64",
      "userId": "12111341805146772458"
     },
     "user_tz": -180
    },
    "id": "9HxgiLxKYKCV",
    "outputId": "24ec3459-041d-49c8-cd68-4f7d6531622e"
   },
   "outputs": [
    {
     "data": {
      "text/plain": [
       "(2, 3, 4)"
      ]
     },
     "execution_count": 137,
     "metadata": {},
     "output_type": "execute_result"
    }
   ],
   "source": [
    "x.shape"
   ]
  },
  {
   "cell_type": "code",
   "execution_count": null,
   "metadata": {
    "colab": {
     "base_uri": "https://localhost:8080/"
    },
    "executionInfo": {
     "elapsed": 614,
     "status": "ok",
     "timestamp": 1634747545252,
     "user": {
      "displayName": "Александр Анатольевич Миленькин",
      "photoUrl": "https://lh3.googleusercontent.com/a-/AOh14Gh1yB_mGyNeEBrnQ_bFdA3CLdWCnTPdtAORppSkYg=s64",
      "userId": "12111341805146772458"
     },
     "user_tz": -180
    },
    "id": "SdW5bhmeYKCX",
    "outputId": "ec9284db-ac45-411c-e93a-aa0458d08f6c"
   },
   "outputs": [
    {
     "data": {
      "text/plain": [
       "numpy.ndarray"
      ]
     },
     "execution_count": 138,
     "metadata": {},
     "output_type": "execute_result"
    }
   ],
   "source": [
    "type(x)"
   ]
  },
  {
   "cell_type": "code",
   "execution_count": null,
   "metadata": {
    "id": "GbCc-vnWDj1l"
   },
   "outputs": [],
   "source": [
    "x -= x"
   ]
  },
  {
   "cell_type": "code",
   "execution_count": null,
   "metadata": {
    "colab": {
     "base_uri": "https://localhost:8080/"
    },
    "executionInfo": {
     "elapsed": 7,
     "status": "ok",
     "timestamp": 1634747545824,
     "user": {
      "displayName": "Александр Анатольевич Миленькин",
      "photoUrl": "https://lh3.googleusercontent.com/a-/AOh14Gh1yB_mGyNeEBrnQ_bFdA3CLdWCnTPdtAORppSkYg=s64",
      "userId": "12111341805146772458"
     },
     "user_tz": -180
    },
    "id": "Ui-4DptBDlet",
    "outputId": "ec2f647c-0192-4c15-b45c-b4b853818345"
   },
   "outputs": [
    {
     "data": {
      "text/plain": [
       "tensor([[[0., 0., 0., 0.],\n",
       "         [0., 0., 0., 0.],\n",
       "         [0., 0., 0., 0.]],\n",
       "\n",
       "        [[0., 0., 0., 0.],\n",
       "         [0., 0., 0., 0.],\n",
       "         [0., 0., 0., 0.]]])"
      ]
     },
     "execution_count": 140,
     "metadata": {},
     "output_type": "execute_result"
    }
   ],
   "source": [
    "a"
   ]
  },
  {
   "cell_type": "markdown",
   "metadata": {
    "id": "7-KS81rUYKCY"
   },
   "source": [
    "#### Задание. Реализация функции forward\n",
    "Реализуйте функцию `forward_pass(X, w)` для одного нейрона нейронной сети с активацией ``sigmoid``. Используйте библиотеку PyTorch"
   ]
  },
  {
   "cell_type": "markdown",
   "metadata": {
    "id": "C8dmwhWGxzwl"
   },
   "source": [
    "<img src='https://radioprog.ru/uploads/media/articles/0001/05/267ad35a9e64a7b92c2e3b94940f686816ea6bf8.jpeg'>"
   ]
  },
  {
   "cell_type": "code",
   "execution_count": 40,
   "metadata": {
    "ExecuteTime": {
     "end_time": "2022-09-02T07:12:23.512917Z",
     "start_time": "2022-09-02T07:12:23.503582Z"
    },
    "id": "vkaIwpn6YKCY"
   },
   "outputs": [],
   "source": [
    "def forward_pass(X, w):\n",
    "    logits = X @ w\n",
    "    result  = torch.sigmoid(logits)\n",
    "    \n",
    "    return result"
   ]
  },
  {
   "cell_type": "code",
   "execution_count": 42,
   "metadata": {
    "ExecuteTime": {
     "end_time": "2022-09-02T07:12:31.864609Z",
     "start_time": "2022-09-02T07:12:31.858118Z"
    },
    "colab": {
     "base_uri": "https://localhost:8080/"
    },
    "executionInfo": {
     "elapsed": 13,
     "status": "ok",
     "timestamp": 1634747674279,
     "user": {
      "displayName": "Александр Анатольевич Миленькин",
      "photoUrl": "https://lh3.googleusercontent.com/a-/AOh14Gh1yB_mGyNeEBrnQ_bFdA3CLdWCnTPdtAORppSkYg=s64",
      "userId": "12111341805146772458"
     },
     "user_tz": -180
    },
    "id": "VyqlDItxYKCZ",
    "outputId": "025892ad-c358-4416-b62e-37035bd5e03b"
   },
   "outputs": [
    {
     "name": "stdout",
     "output_type": "stream",
     "text": [
      "torch.Size([3, 2])\n",
      "torch.Size([2, 1])\n"
     ]
    }
   ],
   "source": [
    "X = torch.FloatTensor([[-5, 5], [2, 3], [1, -1]])\n",
    "print(X.shape)\n",
    "w = torch.FloatTensor([[-0.5], [2.5]])\n",
    "print(w.shape)"
   ]
  },
  {
   "cell_type": "code",
   "execution_count": 43,
   "metadata": {
    "ExecuteTime": {
     "end_time": "2022-09-02T07:12:33.975245Z",
     "start_time": "2022-09-02T07:12:33.967886Z"
    }
   },
   "outputs": [
    {
     "name": "stdout",
     "output_type": "stream",
     "text": [
      "result: tensor([[1.0000],\n",
      "        [0.9985],\n",
      "        [0.0474]])\n"
     ]
    }
   ],
   "source": [
    "result = forward_pass(X, w)\n",
    "print('result: {}'.format(result))"
   ]
  },
  {
   "cell_type": "markdown",
   "metadata": {
    "heading_collapsed": true
   },
   "source": [
    "##  When GPU is on Intel, the below mentioned things become more difficult"
   ]
  },
  {
   "cell_type": "markdown",
   "metadata": {
    "hidden": true,
    "id": "MzLVLQ2GYKCa"
   },
   "source": [
    "### <h1 style=\"text-align: center;\"><a href=\"https://ru.wikipedia.org/wiki/CUDA\">CUDA</a></h3>\n",
    "\n",
    "CUDA --- это программно-аппаратная архитектура параллельных вычислений, которая позволяет существенно увеличить вычислительную производительность благодаря использованию графических процессоров фирмы Nvidia. Для нас CUDA --- это драйвер, который позволяет нам проводить вычисления на GPU."
   ]
  },
  {
   "cell_type": "markdown",
   "metadata": {
    "hidden": true,
    "id": "PrIicAAiYKCa"
   },
   "source": [
    "[CUDA documentation](https://docs.nvidia.com/cuda/)"
   ]
  },
  {
   "cell_type": "markdown",
   "metadata": {
    "hidden": true,
    "id": "2nDkAG6NYKCa"
   },
   "source": [
    "Для вычислений на Pytorch мы можем использовать как CPU (Central Processing Unit), так и GPU (Graphical Processing Unit). Между ними можно легко переключаться, и это очень важно!"
   ]
  },
  {
   "cell_type": "code",
   "execution_count": 51,
   "metadata": {
    "ExecuteTime": {
     "end_time": "2022-09-02T07:18:36.208046Z",
     "start_time": "2022-09-02T07:18:36.106128Z"
    },
    "colab": {
     "base_uri": "https://localhost:8080/"
    },
    "executionInfo": {
     "elapsed": 988,
     "status": "ok",
     "timestamp": 1634747770634,
     "user": {
      "displayName": "Александр Анатольевич Миленькин",
      "photoUrl": "https://lh3.googleusercontent.com/a-/AOh14Gh1yB_mGyNeEBrnQ_bFdA3CLdWCnTPdtAORppSkYg=s64",
      "userId": "12111341805146772458"
     },
     "user_tz": -180
    },
    "hidden": true,
    "id": "_0Nsl2IoYKCa",
    "outputId": "387a73a2-2cb9-443b-e0bc-09b13b4ce677"
   },
   "outputs": [
    {
     "data": {
      "text/plain": [
       "tensor([[0.8601, 0.9363, 0.0799,  ..., 0.3129, 0.4196, 0.8173],\n",
       "        [0.3019, 0.4587, 0.4154,  ..., 0.1186, 0.7046, 0.3334],\n",
       "        [0.0415, 0.9290, 0.6030,  ..., 0.3646, 0.6075, 0.0113],\n",
       "        ...,\n",
       "        [0.2760, 0.2626, 0.3048,  ..., 0.1942, 0.4938, 0.0244],\n",
       "        [0.7248, 0.6238, 0.3369,  ..., 0.4100, 0.0865, 0.4437],\n",
       "        [0.8506, 0.1021, 0.6914,  ..., 0.6109, 0.5906, 0.5728]])"
      ]
     },
     "execution_count": 51,
     "metadata": {},
     "output_type": "execute_result"
    }
   ],
   "source": [
    "x = torch.FloatTensor(1024, 10024).uniform_()\n",
    "x"
   ]
  },
  {
   "cell_type": "code",
   "execution_count": 52,
   "metadata": {
    "ExecuteTime": {
     "end_time": "2022-09-02T07:18:36.280515Z",
     "start_time": "2022-09-02T07:18:36.275217Z"
    },
    "colab": {
     "base_uri": "https://localhost:8080/"
    },
    "executionInfo": {
     "elapsed": 935,
     "status": "ok",
     "timestamp": 1634747780189,
     "user": {
      "displayName": "Александр Анатольевич Миленькин",
      "photoUrl": "https://lh3.googleusercontent.com/a-/AOh14Gh1yB_mGyNeEBrnQ_bFdA3CLdWCnTPdtAORppSkYg=s64",
      "userId": "12111341805146772458"
     },
     "user_tz": -180
    },
    "hidden": true,
    "id": "FVr5_SAdYKCb",
    "outputId": "e9ddd4ef-937f-40cb-989e-974286c6d1c6"
   },
   "outputs": [
    {
     "data": {
      "text/plain": [
       "False"
      ]
     },
     "execution_count": 52,
     "metadata": {},
     "output_type": "execute_result"
    }
   ],
   "source": [
    "x.is_cuda"
   ]
  },
  {
   "cell_type": "markdown",
   "metadata": {
    "hidden": true,
    "id": "mAy8GGXAYKCd"
   },
   "source": [
    "#### Кладём тензор на GPU"
   ]
  },
  {
   "cell_type": "code",
   "execution_count": 53,
   "metadata": {
    "ExecuteTime": {
     "end_time": "2022-09-02T07:18:37.422766Z",
     "start_time": "2022-09-02T07:18:37.293738Z"
    },
    "colab": {
     "base_uri": "https://localhost:8080/"
    },
    "executionInfo": {
     "elapsed": 1025,
     "status": "ok",
     "timestamp": 1634747800982,
     "user": {
      "displayName": "Александр Анатольевич Миленькин",
      "photoUrl": "https://lh3.googleusercontent.com/a-/AOh14Gh1yB_mGyNeEBrnQ_bFdA3CLdWCnTPdtAORppSkYg=s64",
      "userId": "12111341805146772458"
     },
     "user_tz": -180
    },
    "hidden": true,
    "id": "Pofrx0jug6QM",
    "outputId": "471b7407-a2bc-4dce-868b-5ac116722353"
   },
   "outputs": [
    {
     "name": "stdout",
     "output_type": "stream",
     "text": [
      "zsh:1: command not found: nvidia-smi\r\n"
     ]
    }
   ],
   "source": [
    "!nvidia-smi"
   ]
  },
  {
   "cell_type": "code",
   "execution_count": 54,
   "metadata": {
    "ExecuteTime": {
     "end_time": "2022-09-02T07:18:37.464402Z",
     "start_time": "2022-09-02T07:18:37.450201Z"
    },
    "collapsed": true,
    "hidden": true,
    "id": "6UGKZbfyYKCd"
   },
   "outputs": [
    {
     "ename": "AssertionError",
     "evalue": "Torch not compiled with CUDA enabled",
     "output_type": "error",
     "traceback": [
      "\u001b[0;31m---------------------------------------------------------------------------\u001b[0m",
      "\u001b[0;31mAssertionError\u001b[0m                            Traceback (most recent call last)",
      "\u001b[0;32m/var/folders/6q/6lhcsz8d367_fdnlq8mnrfg00000gn/T/ipykernel_30588/3413304046.py\u001b[0m in \u001b[0;36m<module>\u001b[0;34m\u001b[0m\n\u001b[0;32m----> 1\u001b[0;31m \u001b[0mx\u001b[0m \u001b[0;34m=\u001b[0m \u001b[0mx\u001b[0m\u001b[0;34m.\u001b[0m\u001b[0mcuda\u001b[0m\u001b[0;34m(\u001b[0m\u001b[0;34m)\u001b[0m\u001b[0;34m\u001b[0m\u001b[0;34m\u001b[0m\u001b[0m\n\u001b[0m",
      "\u001b[0;32m~/opt/anaconda3/lib/python3.9/site-packages/torch/cuda/__init__.py\u001b[0m in \u001b[0;36m_lazy_init\u001b[0;34m()\u001b[0m\n\u001b[1;32m    162\u001b[0m                 \"multiprocessing, you must use the 'spawn' start method\")\n\u001b[1;32m    163\u001b[0m         \u001b[0;32mif\u001b[0m \u001b[0;32mnot\u001b[0m \u001b[0mhasattr\u001b[0m\u001b[0;34m(\u001b[0m\u001b[0mtorch\u001b[0m\u001b[0;34m.\u001b[0m\u001b[0m_C\u001b[0m\u001b[0;34m,\u001b[0m \u001b[0;34m'_cuda_getDeviceCount'\u001b[0m\u001b[0;34m)\u001b[0m\u001b[0;34m:\u001b[0m\u001b[0;34m\u001b[0m\u001b[0;34m\u001b[0m\u001b[0m\n\u001b[0;32m--> 164\u001b[0;31m             \u001b[0;32mraise\u001b[0m \u001b[0mAssertionError\u001b[0m\u001b[0;34m(\u001b[0m\u001b[0;34m\"Torch not compiled with CUDA enabled\"\u001b[0m\u001b[0;34m)\u001b[0m\u001b[0;34m\u001b[0m\u001b[0;34m\u001b[0m\u001b[0m\n\u001b[0m\u001b[1;32m    165\u001b[0m         \u001b[0;32mif\u001b[0m \u001b[0m_cudart\u001b[0m \u001b[0;32mis\u001b[0m \u001b[0;32mNone\u001b[0m\u001b[0;34m:\u001b[0m\u001b[0;34m\u001b[0m\u001b[0;34m\u001b[0m\u001b[0m\n\u001b[1;32m    166\u001b[0m             raise AssertionError(\n",
      "\u001b[0;31mAssertionError\u001b[0m: Torch not compiled with CUDA enabled"
     ]
    }
   ],
   "source": [
    "x = x.cuda()"
   ]
  },
  {
   "cell_type": "code",
   "execution_count": 56,
   "metadata": {
    "ExecuteTime": {
     "end_time": "2022-09-02T07:18:40.071147Z",
     "start_time": "2022-09-02T07:18:40.062816Z"
    },
    "colab": {
     "base_uri": "https://localhost:8080/"
    },
    "executionInfo": {
     "elapsed": 421,
     "status": "ok",
     "timestamp": 1634747861252,
     "user": {
      "displayName": "Александр Анатольевич Миленькин",
      "photoUrl": "https://lh3.googleusercontent.com/a-/AOh14Gh1yB_mGyNeEBrnQ_bFdA3CLdWCnTPdtAORppSkYg=s64",
      "userId": "12111341805146772458"
     },
     "user_tz": -180
    },
    "hidden": true,
    "id": "hyhJsU5ib591",
    "outputId": "cac2f2c4-d926-48dc-e823-8f3c7ef12dfd"
   },
   "outputs": [
    {
     "data": {
      "text/plain": [
       "tensor([[0.8601, 0.9363, 0.0799,  ..., 0.3129, 0.4196, 0.8173],\n",
       "        [0.3019, 0.4587, 0.4154,  ..., 0.1186, 0.7046, 0.3334],\n",
       "        [0.0415, 0.9290, 0.6030,  ..., 0.3646, 0.6075, 0.0113],\n",
       "        ...,\n",
       "        [0.2760, 0.2626, 0.3048,  ..., 0.1942, 0.4938, 0.0244],\n",
       "        [0.7248, 0.6238, 0.3369,  ..., 0.4100, 0.0865, 0.4437],\n",
       "        [0.8506, 0.1021, 0.6914,  ..., 0.6109, 0.5906, 0.5728]])"
      ]
     },
     "execution_count": 56,
     "metadata": {},
     "output_type": "execute_result"
    }
   ],
   "source": [
    "x"
   ]
  },
  {
   "cell_type": "code",
   "execution_count": 57,
   "metadata": {
    "ExecuteTime": {
     "end_time": "2022-09-02T07:18:50.117998Z",
     "start_time": "2022-09-02T07:18:49.863828Z"
    },
    "colab": {
     "base_uri": "https://localhost:8080/"
    },
    "executionInfo": {
     "elapsed": 472,
     "status": "ok",
     "timestamp": 1634747886406,
     "user": {
      "displayName": "Александр Анатольевич Миленькин",
      "photoUrl": "https://lh3.googleusercontent.com/a-/AOh14Gh1yB_mGyNeEBrnQ_bFdA3CLdWCnTPdtAORppSkYg=s64",
      "userId": "12111341805146772458"
     },
     "user_tz": -180
    },
    "hidden": true,
    "id": "ue2SLd9nYKCd",
    "outputId": "14a91107-6ec6-4a96-b8d8-502534104c76"
   },
   "outputs": [
    {
     "name": "stdout",
     "output_type": "stream",
     "text": [
      "zsh:1: command not found: nvidia-smi\n",
      "zsh:1: command not found: nvidia-smi\n"
     ]
    }
   ],
   "source": [
    "x = x.cpu()\n",
    "!nvidia-smi\n",
    "\n",
    "torch.cuda.empty_cache()\n",
    "!nvidia-smi"
   ]
  },
  {
   "cell_type": "code",
   "execution_count": null,
   "metadata": {
    "colab": {
     "base_uri": "https://localhost:8080/"
    },
    "executionInfo": {
     "elapsed": 385,
     "status": "ok",
     "timestamp": 1634747980873,
     "user": {
      "displayName": "Александр Анатольевич Миленькин",
      "photoUrl": "https://lh3.googleusercontent.com/a-/AOh14Gh1yB_mGyNeEBrnQ_bFdA3CLdWCnTPdtAORppSkYg=s64",
      "userId": "12111341805146772458"
     },
     "user_tz": -180
    },
    "hidden": true,
    "id": "qVVp6BnbD7fy",
    "outputId": "e097c457-a4d5-40a7-b86b-1f17ffe0ad6d"
   },
   "outputs": [
    {
     "data": {
      "text/plain": [
       "tensor([[0.5739, 0.6793, 0.0018,  ..., 0.6116, 0.0382, 0.6505],\n",
       "        [0.7635, 0.1033, 0.9777,  ..., 0.6351, 0.8855, 0.1598],\n",
       "        [0.0572, 0.6239, 0.2988,  ..., 0.1494, 0.6649, 0.5129],\n",
       "        ...,\n",
       "        [0.4983, 0.6556, 0.8373,  ..., 0.2500, 0.8713, 0.0064],\n",
       "        [0.6449, 0.4347, 0.6070,  ..., 0.1960, 0.1610, 0.3620],\n",
       "        [0.6352, 0.7741, 0.6765,  ..., 0.1929, 0.2010, 0.5244]],\n",
       "       device='cuda:0')"
      ]
     },
     "execution_count": 152,
     "metadata": {},
     "output_type": "execute_result"
    }
   ],
   "source": [
    "device = torch.device(\"cuda:0\") if torch.cuda.is_available() else torch.device(\"cpu\")\n",
    "\n",
    "x = x.to(device)\n",
    "x"
   ]
  },
  {
   "cell_type": "markdown",
   "metadata": {
    "hidden": true,
    "id": "dI73B59PYKCg"
   },
   "source": [
    "Умножим два тензора в GPU и вернём результат обратно на CPU:"
   ]
  },
  {
   "cell_type": "code",
   "execution_count": null,
   "metadata": {
    "hidden": true,
    "id": "KS4QxJJoYKCg"
   },
   "outputs": [],
   "source": [
    "a = torch.FloatTensor(10000, 10000).uniform_()\n",
    "b = torch.FloatTensor(10000, 10000).uniform_()\n",
    "c = a.cuda().mul(b.cuda()).cpu()"
   ]
  },
  {
   "cell_type": "code",
   "execution_count": null,
   "metadata": {
    "colab": {
     "base_uri": "https://localhost:8080/"
    },
    "executionInfo": {
     "elapsed": 377,
     "status": "ok",
     "timestamp": 1634748030224,
     "user": {
      "displayName": "Александр Анатольевич Миленькин",
      "photoUrl": "https://lh3.googleusercontent.com/a-/AOh14Gh1yB_mGyNeEBrnQ_bFdA3CLdWCnTPdtAORppSkYg=s64",
      "userId": "12111341805146772458"
     },
     "user_tz": -180
    },
    "hidden": true,
    "id": "1ImlgEbwYKCg",
    "outputId": "08840d69-9844-4baf-f17d-26ae59cd171e"
   },
   "outputs": [
    {
     "data": {
      "text/plain": [
       "tensor([[0.5740, 0.1859, 0.3607,  ..., 0.3503, 0.1374, 0.6319],\n",
       "        [0.2578, 0.0244, 0.2425,  ..., 0.0104, 0.0126, 0.6307],\n",
       "        [0.0308, 0.3692, 0.1902,  ..., 0.2113, 0.0597, 0.1891],\n",
       "        ...,\n",
       "        [0.2510, 0.8038, 0.0715,  ..., 0.0231, 0.4661, 0.1080],\n",
       "        [0.3452, 0.1614, 0.0778,  ..., 0.0438, 0.0370, 0.3511],\n",
       "        [0.1482, 0.0200, 0.0092,  ..., 0.4322, 0.0965, 0.0487]])"
      ]
     },
     "execution_count": 154,
     "metadata": {},
     "output_type": "execute_result"
    }
   ],
   "source": [
    "c"
   ]
  },
  {
   "cell_type": "code",
   "execution_count": null,
   "metadata": {
    "colab": {
     "base_uri": "https://localhost:8080/"
    },
    "executionInfo": {
     "elapsed": 2126,
     "status": "ok",
     "timestamp": 1634748044158,
     "user": {
      "displayName": "Александр Анатольевич Миленькин",
      "photoUrl": "https://lh3.googleusercontent.com/a-/AOh14Gh1yB_mGyNeEBrnQ_bFdA3CLdWCnTPdtAORppSkYg=s64",
      "userId": "12111341805146772458"
     },
     "user_tz": -180
    },
    "hidden": true,
    "id": "4DAN9MhDYKCh",
    "outputId": "435e0564-edf4-4486-d26a-1bb9e305f305"
   },
   "outputs": [
    {
     "data": {
      "text/plain": [
       "tensor([[0.6927, 0.8572, 0.6225,  ..., 0.5609, 0.3497, 0.6390],\n",
       "        [0.5694, 0.0876, 0.4870,  ..., 0.5219, 0.0585, 0.6522],\n",
       "        [0.0665, 0.4480, 0.4315,  ..., 0.3370, 0.0875, 0.2520],\n",
       "        ...,\n",
       "        [0.7306, 0.8169, 0.0952,  ..., 0.1764, 0.5643, 0.1364],\n",
       "        [0.3471, 0.2138, 0.0857,  ..., 0.1470, 0.1611, 0.6421],\n",
       "        [0.3135, 0.0782, 0.0868,  ..., 0.6966, 0.0989, 0.6656]])"
      ]
     },
     "execution_count": 155,
     "metadata": {},
     "output_type": "execute_result"
    }
   ],
   "source": [
    "a"
   ]
  },
  {
   "cell_type": "markdown",
   "metadata": {
    "hidden": true,
    "id": "xWc-PiA9YKCi"
   },
   "source": [
    "Тензоры из разных областей памяти не совместимы:"
   ]
  },
  {
   "cell_type": "code",
   "execution_count": null,
   "metadata": {
    "hidden": true,
    "id": "1lwV1sgSYKCi"
   },
   "outputs": [],
   "source": [
    "a = torch.FloatTensor(10000, 10000).uniform_().cpu()\n",
    "b = torch.FloatTensor(10000, 10000).uniform_().cuda()"
   ]
  },
  {
   "cell_type": "code",
   "execution_count": null,
   "metadata": {
    "colab": {
     "base_uri": "https://localhost:8080/",
     "height": 162
    },
    "executionInfo": {
     "elapsed": 33,
     "status": "error",
     "timestamp": 1634748059774,
     "user": {
      "displayName": "Александр Анатольевич Миленькин",
      "photoUrl": "https://lh3.googleusercontent.com/a-/AOh14Gh1yB_mGyNeEBrnQ_bFdA3CLdWCnTPdtAORppSkYg=s64",
      "userId": "12111341805146772458"
     },
     "user_tz": -180
    },
    "hidden": true,
    "id": "G6tYdYtTYKCj",
    "outputId": "f92ecd9b-052a-401f-b0db-530e7bd20579"
   },
   "outputs": [
    {
     "ename": "RuntimeError",
     "evalue": "ignored",
     "output_type": "error",
     "traceback": [
      "\u001b[0;31m---------------------------------------------------------------------------\u001b[0m",
      "\u001b[0;31mRuntimeError\u001b[0m                              Traceback (most recent call last)",
      "\u001b[0;32m<ipython-input-158-bd58363a63fc>\u001b[0m in \u001b[0;36m<module>\u001b[0;34m()\u001b[0m\n\u001b[0;32m----> 1\u001b[0;31m \u001b[0ma\u001b[0m \u001b[0;34m+\u001b[0m \u001b[0mb\u001b[0m\u001b[0;34m\u001b[0m\u001b[0;34m\u001b[0m\u001b[0m\n\u001b[0m",
      "\u001b[0;31mRuntimeError\u001b[0m: Expected all tensors to be on the same device, but found at least two devices, cuda:0 and cpu!"
     ]
    }
   ],
   "source": [
    "a + b"
   ]
  },
  {
   "cell_type": "markdown",
   "metadata": {
    "hidden": true,
    "id": "QEtwaIxDYKCk"
   },
   "source": [
    "### Пример работы на GPU"
   ]
  },
  {
   "cell_type": "code",
   "execution_count": null,
   "metadata": {
    "hidden": true,
    "id": "PRmnPD5EcpcF"
   },
   "outputs": [],
   "source": [
    "device = 'cuda' if torch.cuda.is_available() else 'cpu'"
   ]
  },
  {
   "cell_type": "code",
   "execution_count": null,
   "metadata": {
    "colab": {
     "base_uri": "https://localhost:8080/"
    },
    "executionInfo": {
     "elapsed": 507,
     "status": "ok",
     "timestamp": 1634748115437,
     "user": {
      "displayName": "Александр Анатольевич Миленькин",
      "photoUrl": "https://lh3.googleusercontent.com/a-/AOh14Gh1yB_mGyNeEBrnQ_bFdA3CLdWCnTPdtAORppSkYg=s64",
      "userId": "12111341805146772458"
     },
     "user_tz": -180
    },
    "hidden": true,
    "id": "bJgVfAbUYKCk",
    "outputId": "c1fa163e-3ced-4a6b-a5e2-263af99a1eb0",
    "scrolled": true
   },
   "outputs": [
    {
     "name": "stdout",
     "output_type": "stream",
     "text": [
      "tensor([[[1.6331, 1.3288, 1.1839, 1.7275, 1.8437],\n",
      "         [1.9385, 1.6287, 1.7139, 1.9229, 1.8091],\n",
      "         [1.7274, 1.8909, 1.8804, 1.9375, 1.8201],\n",
      "         [1.1313, 1.5478, 1.9364, 1.6399, 1.5838],\n",
      "         [1.0429, 1.8648, 1.6839, 1.1559, 1.8707]],\n",
      "\n",
      "        [[1.0770, 1.2493, 1.6746, 1.2671, 1.5664],\n",
      "         [1.7523, 1.1265, 1.0052, 1.6799, 1.7473],\n",
      "         [1.5519, 1.1521, 1.4690, 1.0238, 1.6264],\n",
      "         [1.2880, 1.2806, 1.0540, 1.1196, 1.7715],\n",
      "         [1.9669, 1.6568, 1.8550, 1.9096, 1.3171]],\n",
      "\n",
      "        [[1.3508, 1.2912, 1.3152, 1.7064, 1.6070],\n",
      "         [1.8625, 1.5454, 1.4677, 1.5262, 1.9966],\n",
      "         [1.0811, 1.9871, 1.7158, 1.8193, 1.6640],\n",
      "         [1.4147, 1.8758, 1.9080, 1.6874, 1.9713],\n",
      "         [1.8327, 1.9933, 1.1717, 1.3091, 1.1312]],\n",
      "\n",
      "        [[1.0370, 1.7697, 1.1342, 1.7128, 1.5195],\n",
      "         [1.6466, 1.7975, 1.8908, 1.7163, 1.8316],\n",
      "         [1.1548, 1.6615, 1.3588, 1.6756, 1.7241],\n",
      "         [1.2085, 1.8330, 1.3255, 1.3686, 1.2094],\n",
      "         [1.3203, 1.8378, 1.8976, 1.1972, 1.3411]],\n",
      "\n",
      "        [[1.2299, 1.7466, 1.5356, 1.5039, 1.2965],\n",
      "         [1.5451, 1.7916, 1.6993, 1.9454, 1.2207],\n",
      "         [1.9885, 1.0565, 1.7924, 1.0036, 1.0092],\n",
      "         [1.1284, 1.8084, 1.5782, 1.3796, 1.4174],\n",
      "         [1.6532, 1.4883, 1.9037, 1.3542, 1.3588]]], device='cuda:0')\n",
      "tensor([[[1.6331, 1.3288, 1.1839, 1.7275, 1.8437],\n",
      "         [1.9385, 1.6287, 1.7139, 1.9229, 1.8091],\n",
      "         [1.7274, 1.8909, 1.8804, 1.9375, 1.8201],\n",
      "         [1.1313, 1.5478, 1.9364, 1.6399, 1.5838],\n",
      "         [1.0429, 1.8648, 1.6839, 1.1559, 1.8707]],\n",
      "\n",
      "        [[1.0770, 1.2493, 1.6746, 1.2671, 1.5664],\n",
      "         [1.7523, 1.1265, 1.0052, 1.6799, 1.7473],\n",
      "         [1.5519, 1.1521, 1.4690, 1.0238, 1.6264],\n",
      "         [1.2880, 1.2806, 1.0540, 1.1196, 1.7715],\n",
      "         [1.9669, 1.6568, 1.8550, 1.9096, 1.3171]],\n",
      "\n",
      "        [[1.3508, 1.2912, 1.3152, 1.7064, 1.6070],\n",
      "         [1.8625, 1.5454, 1.4677, 1.5262, 1.9966],\n",
      "         [1.0811, 1.9871, 1.7158, 1.8193, 1.6640],\n",
      "         [1.4147, 1.8758, 1.9080, 1.6874, 1.9713],\n",
      "         [1.8327, 1.9933, 1.1717, 1.3091, 1.1312]],\n",
      "\n",
      "        [[1.0370, 1.7697, 1.1342, 1.7128, 1.5195],\n",
      "         [1.6466, 1.7975, 1.8908, 1.7163, 1.8316],\n",
      "         [1.1548, 1.6615, 1.3588, 1.6756, 1.7241],\n",
      "         [1.2085, 1.8330, 1.3255, 1.3686, 1.2094],\n",
      "         [1.3203, 1.8378, 1.8976, 1.1972, 1.3411]],\n",
      "\n",
      "        [[1.2299, 1.7466, 1.5356, 1.5039, 1.2965],\n",
      "         [1.5451, 1.7916, 1.6993, 1.9454, 1.2207],\n",
      "         [1.9885, 1.0565, 1.7924, 1.0036, 1.0092],\n",
      "         [1.1284, 1.8084, 1.5782, 1.3796, 1.4174],\n",
      "         [1.6532, 1.4883, 1.9037, 1.3542, 1.3588]]], dtype=torch.float64)\n"
     ]
    }
   ],
   "source": [
    "x = torch.FloatTensor(5, 5, 5).uniform_()\n",
    "\n",
    "# проверить наличие CUDA (NVIDIA GPU)\n",
    "if torch.cuda.is_available():\n",
    "    # получить имя устройства CUDA\n",
    "    device = torch.device('cuda')          # Объект CUDA-устройства\n",
    "    y = torch.ones_like(x, device=device)  # создаем тензор на GPU\n",
    "    x = x.to(device)                       # или просто `.to(\"cuda\")`\n",
    "    z = x + y\n",
    "    print(z)\n",
    "    # вы можете установить тип во время операции `.to`\n",
    "    print(z.to(\"cpu\", torch.double))"
   ]
  },
  {
   "cell_type": "markdown",
   "metadata": {
    "id": "iFg82MJIYKCl"
   },
   "source": [
    "## AutoGrad\n",
    "\n",
    "За что мы любим PyTorch --- за то, что в нём можно автоматически дифференцировать функции! Об этом можно было бы только мечтать в Numpy. Дифференцирование функций происходит по формуле производной композиции."
   ]
  },
  {
   "cell_type": "markdown",
   "metadata": {
    "id": "63BaBsy4iuwl"
   },
   "source": [
    "**Правило производной композиции (a.k.a. backpropagation)**\n",
    "\n",
    "Пусть есть функция $f(w(\\theta))$. Вычислим её производную:\n",
    "$${\\frac  {\\partial{f}}{\\partial{\\theta}}}\n",
    "={\\frac  {\\partial{f}}{\\partial{w}}}\\cdot {\\frac  {\\partial{w}}{\\partial{\\theta}}}$$\n",
    "\n",
    "\n",
    "*Как рассказывалось на лекции, в многомерном случае можно записать аналог этой формулы:*\n",
    "$$\n",
    "D_\\theta(f\\circ w) = D_{w(\\theta)}(f)\\circ D_\\theta(w)\n",
    "$$\n",
    "\n",
    "Простой пример обратного распространения градиента:\n",
    "\n",
    "$$y = \\sin \\left(x_2^2(x_1 + x_2)\\right)$$\n",
    "\n",
    "<img src=\"https://ars.els-cdn.com/content/image/1-s2.0-S0010465515004099-gr1.jpg\" width=700></img>\n"
   ]
  },
  {
   "cell_type": "markdown",
   "metadata": {
    "id": "udpOWYK-YKCm"
   },
   "source": [
    "Autograd позволяет производить автоматическое дифференцирование для всех операций на тензорах. **Граф вычислений, в отличие от Tensorflow, строится динамически. Давайте посмотрим, как это работает.**"
   ]
  },
  {
   "cell_type": "markdown",
   "metadata": {
    "id": "AEDz971fYKCn"
   },
   "source": [
    "#### Задание. Реализуйте обучение в логистической регрессии"
   ]
  },
  {
   "cell_type": "code",
   "execution_count": 58,
   "metadata": {
    "ExecuteTime": {
     "end_time": "2022-09-02T07:28:14.208408Z",
     "start_time": "2022-09-02T07:28:14.194329Z"
    },
    "executionInfo": {
     "elapsed": 478,
     "status": "ok",
     "timestamp": 1634753594570,
     "user": {
      "displayName": "Александр Анатольевич Миленькин",
      "photoUrl": "https://lh3.googleusercontent.com/a-/AOh14Gh1yB_mGyNeEBrnQ_bFdA3CLdWCnTPdtAORppSkYg=s64",
      "userId": "12111341805146772458"
     },
     "user_tz": -180
    },
    "id": "bpie5O9zh0Ar"
   },
   "outputs": [],
   "source": [
    "# Разберем пример: применим линейную регрессию цен на жилье в Бостоне."
   ]
  },
  {
   "cell_type": "code",
   "execution_count": 59,
   "metadata": {
    "ExecuteTime": {
     "end_time": "2022-09-02T07:28:18.795230Z",
     "start_time": "2022-09-02T07:28:14.531829Z"
    },
    "colab": {
     "base_uri": "https://localhost:8080/",
     "height": 282
    },
    "collapsed": true,
    "executionInfo": {
     "elapsed": 606,
     "status": "ok",
     "timestamp": 1634753655162,
     "user": {
      "displayName": "Александр Анатольевич Миленькин",
      "photoUrl": "https://lh3.googleusercontent.com/a-/AOh14Gh1yB_mGyNeEBrnQ_bFdA3CLdWCnTPdtAORppSkYg=s64",
      "userId": "12111341805146772458"
     },
     "user_tz": -180
    },
    "id": "Z3IzUjAxh0Oy",
    "outputId": "5038bc53-6907-4e3b-bb62-7e4bae068683"
   },
   "outputs": [
    {
     "name": "stderr",
     "output_type": "stream",
     "text": [
      "/Users/antonermak/opt/anaconda3/lib/python3.9/site-packages/sklearn/utils/deprecation.py:87: FutureWarning: Function load_boston is deprecated; `load_boston` is deprecated in 1.0 and will be removed in 1.2.\n",
      "\n",
      "    The Boston housing prices dataset has an ethical problem. You can refer to\n",
      "    the documentation of this function for further details.\n",
      "\n",
      "    The scikit-learn maintainers therefore strongly discourage the use of this\n",
      "    dataset unless the purpose of the code is to study and educate about\n",
      "    ethical issues in data science and machine learning.\n",
      "\n",
      "    In this special case, you can fetch the dataset from the original\n",
      "    source::\n",
      "\n",
      "        import pandas as pd\n",
      "        import numpy as np\n",
      "\n",
      "\n",
      "        data_url = \"http://lib.stat.cmu.edu/datasets/boston\"\n",
      "        raw_df = pd.read_csv(data_url, sep=\"\\s+\", skiprows=22, header=None)\n",
      "        data = np.hstack([raw_df.values[::2, :], raw_df.values[1::2, :2]])\n",
      "        target = raw_df.values[1::2, 2]\n",
      "\n",
      "    Alternative datasets include the California housing dataset (i.e.\n",
      "    :func:`~sklearn.datasets.fetch_california_housing`) and the Ames housing\n",
      "    dataset. You can load the datasets as follows::\n",
      "\n",
      "        from sklearn.datasets import fetch_california_housing\n",
      "        housing = fetch_california_housing()\n",
      "\n",
      "    for the California housing dataset and::\n",
      "\n",
      "        from sklearn.datasets import fetch_openml\n",
      "        housing = fetch_openml(name=\"house_prices\", as_frame=True)\n",
      "\n",
      "    for the Ames housing dataset.\n",
      "    \n",
      "  warnings.warn(msg, category=FutureWarning)\n"
     ]
    },
    {
     "data": {
      "text/plain": [
       "<matplotlib.collections.PathCollection at 0x7fe7388684f0>"
      ]
     },
     "execution_count": 59,
     "metadata": {},
     "output_type": "execute_result"
    },
    {
     "data": {
      "image/png": "[encoded data removed]",
      "text/plain": [
       "<Figure size 432x288 with 1 Axes>"
      ]
     },
     "metadata": {
      "needs_background": "light"
     },
     "output_type": "display_data"
    }
   ],
   "source": [
    "import matplotlib.pyplot as plt\n",
    "import torch\n",
    "%matplotlib inline\n",
    "\n",
    "from sklearn.datasets import load_boston\n",
    "boston = load_boston()\n",
    "plt.scatter(boston.data[:, -1], boston.target)"
   ]
  },
  {
   "cell_type": "code",
   "execution_count": 61,
   "metadata": {
    "ExecuteTime": {
     "end_time": "2022-09-02T07:28:27.774649Z",
     "start_time": "2022-09-02T07:28:27.770230Z"
    },
    "executionInfo": {
     "elapsed": 985,
     "status": "ok",
     "timestamp": 1634754020656,
     "user": {
      "displayName": "Александр Анатольевич Миленькин",
      "photoUrl": "https://lh3.googleusercontent.com/a-/AOh14Gh1yB_mGyNeEBrnQ_bFdA3CLdWCnTPdtAORppSkYg=s64",
      "userId": "12111341805146772458"
     },
     "user_tz": -180
    },
    "id": "PqGRzUWDh0Sz"
   },
   "outputs": [],
   "source": [
    "w = torch.zeros(1, requires_grad=True)\n",
    "b = torch.zeros(1, requires_grad=True)\n",
    "\n",
    "x = torch.tensor(boston.data[:, -1] / 10, dtype=torch.float32)\n",
    "y = torch.tensor(boston.target, dtype=torch.float32)"
   ]
  },
  {
   "cell_type": "code",
   "execution_count": 66,
   "metadata": {
    "ExecuteTime": {
     "end_time": "2022-09-02T07:29:05.442433Z",
     "start_time": "2022-09-02T07:29:05.424042Z"
    },
    "executionInfo": {
     "elapsed": 15,
     "status": "ok",
     "timestamp": 1634754020657,
     "user": {
      "displayName": "Александр Анатольевич Миленькин",
      "photoUrl": "https://lh3.googleusercontent.com/a-/AOh14Gh1yB_mGyNeEBrnQ_bFdA3CLdWCnTPdtAORppSkYg=s64",
      "userId": "12111341805146772458"
     },
     "user_tz": -180
    },
    "id": "ZfSUm56t35Id"
   },
   "outputs": [],
   "source": [
    "y_pred = w * x + b\n",
    "loss = torch.mean((y_pred - y)**2) # mse\n",
    "\n",
    "# propagate gradients\n",
    "loss.backward()"
   ]
  },
  {
   "cell_type": "code",
   "execution_count": 67,
   "metadata": {
    "ExecuteTime": {
     "end_time": "2022-09-02T07:29:07.116294Z",
     "start_time": "2022-09-02T07:29:07.111930Z"
    },
    "colab": {
     "base_uri": "https://localhost:8080/"
    },
    "executionInfo": {
     "elapsed": 15,
     "status": "ok",
     "timestamp": 1634754020658,
     "user": {
      "displayName": "Александр Анатольевич Миленькин",
      "photoUrl": "https://lh3.googleusercontent.com/a-/AOh14Gh1yB_mGyNeEBrnQ_bFdA3CLdWCnTPdtAORppSkYg=s64",
      "userId": "12111341805146772458"
     },
     "user_tz": -180
    },
    "id": "t715-JTs3_fl",
    "outputId": "a94bbf90-80e3-40ba-dd13-5dceff5fadd3"
   },
   "outputs": [
    {
     "name": "stdout",
     "output_type": "stream",
     "text": [
      "dL/dw = \n",
      " tensor([-94.7029])\n",
      "dL/db = \n",
      " tensor([-90.1312])\n"
     ]
    }
   ],
   "source": [
    "print(\"dL/dw = \\n\", w.grad)\n",
    "print(\"dL/db = \\n\", b.grad)"
   ]
  },
  {
   "cell_type": "code",
   "execution_count": 68,
   "metadata": {
    "ExecuteTime": {
     "end_time": "2022-09-02T07:40:43.510158Z",
     "start_time": "2022-09-02T07:40:40.568065Z"
    },
    "colab": {
     "base_uri": "https://localhost:8080/",
     "height": 282
    },
    "executionInfo": {
     "elapsed": 4381,
     "status": "ok",
     "timestamp": 1634754025032,
     "user": {
      "displayName": "Александр Анатольевич Миленькин",
      "photoUrl": "https://lh3.googleusercontent.com/a-/AOh14Gh1yB_mGyNeEBrnQ_bFdA3CLdWCnTPdtAORppSkYg=s64",
      "userId": "12111341805146772458"
     },
     "user_tz": -180
    },
    "id": "oFUyNOs335d_",
    "outputId": "70c653d7-3c74-49f3-d0f9-6b418385456d"
   },
   "outputs": [
    {
     "data": {
      "image/png": "[encoded data removed]",
      "text/plain": [
       "<Figure size 432x288 with 1 Axes>"
      ]
     },
     "metadata": {
      "needs_background": "light"
     },
     "output_type": "display_data"
    },
    {
     "name": "stdout",
     "output_type": "stream",
     "text": [
      "loss =  44.376724\n"
     ]
    }
   ],
   "source": [
    "from IPython.display import clear_output\n",
    "\n",
    "for i in range(100):\n",
    "\n",
    "    y_pred = w * x + b\n",
    "\n",
    "    # Вычисляем функцию ошибок\n",
    "    loss = torch.mean((y_pred - y)**2)\n",
    "\n",
    "    # Вычисляем градиенты\n",
    "    loss.backward()\n",
    "\n",
    "\n",
    "    # Делаем шаг градиентного спуска по матрице весов\n",
    "    w.data -= 0.05*w.grad.data\n",
    "    b.data -= 0.05*b.grad.data\n",
    "\n",
    "    # обнуляем градиенты\n",
    "    w.grad.data.zero_()\n",
    "    b.grad.data.zero_()\n",
    "\n",
    "\n",
    "\n",
    "    # the rest of code is just bells and whistles\n",
    "    if (i+1) % 5 == 0:\n",
    "        clear_output(True)\n",
    "        plt.scatter(x.data.numpy(), y.data.numpy())\n",
    "        plt.scatter(x.data.numpy(), y_pred.data.numpy(),\n",
    "                    color='orange', linewidth=5)\n",
    "        plt.show()\n",
    "\n",
    "        print(\"loss = \", loss.data.numpy())\n",
    "        if loss.data.numpy() < 0.5:\n",
    "            print(\"Done!\")\n",
    "            break"
   ]
  },
  {
   "cell_type": "code",
   "execution_count": null,
   "metadata": {
    "id": "1tEfEQEs35jw"
   },
   "outputs": [],
   "source": []
  },
  {
   "cell_type": "code",
   "execution_count": null,
   "metadata": {
    "id": "4BnPqcXM35um"
   },
   "outputs": [],
   "source": []
  },
  {
   "cell_type": "markdown",
   "metadata": {
    "id": "N8QDKc1D4HHo"
   },
   "source": [
    "Посмотрим градиенты на примере двухслойной сети"
   ]
  },
  {
   "cell_type": "code",
   "execution_count": 76,
   "metadata": {
    "ExecuteTime": {
     "end_time": "2022-09-02T07:42:14.333546Z",
     "start_time": "2022-09-02T07:42:14.325340Z"
    },
    "id": "rYWqXsAjYKCn"
   },
   "outputs": [],
   "source": [
    "dtype = torch.float\n",
    "# device = torch.device(\"cuda:0\") # Раскомментируйте это, чтобы запустить на GPU\n",
    "\n",
    "# N - размер батча; D_in - входной размер;\n",
    "# H - размер скрытого слоя; D_out - размер вывода.\n",
    "N, D_in, H, D_out = 64, 3, 3, 10\n",
    "N, D_in, H, D_out = 64, 3, 3, 10\n",
    "\n",
    "# Создание случайных тензоров для хранения входных и выходных данных.\n",
    "# Настройка requires_grad = False указывает, что нам не нужно вычислять градиенты\n",
    "# по отношению к этим тензорам во время обратного прохода.\n",
    "x = torch.randn(N, D_in, dtype=dtype)\n",
    "y = torch.randn(N, D_out, dtype=dtype)\n",
    "\n",
    "# Создаем тензоры случайных весов.\n",
    "# Настройка requires_grad = True указывает, что мы хотим вычислять градиенты с\n",
    "# уважение к этим тензорам во время обратного прохода.\n",
    "\n",
    "# Create random Tensors for weights.\n",
    "# Установка requires_grad = True указывает, что мы хотим вычислить градиенты \n",
    "# относительно этих тензоров во время обратного прохода.\n",
    "w1 = torch.randn(D_in, H, dtype=dtype, requires_grad=True)\n",
    "w2 = torch.randn(H, D_out, dtype=dtype, requires_grad=True)"
   ]
  },
  {
   "cell_type": "code",
   "execution_count": 77,
   "metadata": {
    "ExecuteTime": {
     "end_time": "2022-09-02T07:42:15.359915Z",
     "start_time": "2022-09-02T07:42:15.354812Z"
    },
    "id": "cpDU8Q-LifdW"
   },
   "outputs": [],
   "source": [
    "y_pred = (x @ w1).clamp(min=0).matmul(w2)\n",
    "loss = (y_pred - y).pow(2).sum()\n",
    "\n",
    "# вычисляем градиенты\n",
    "loss.backward()"
   ]
  },
  {
   "cell_type": "code",
   "execution_count": 78,
   "metadata": {
    "ExecuteTime": {
     "end_time": "2022-09-02T07:42:16.707168Z",
     "start_time": "2022-09-02T07:42:16.697322Z"
    },
    "colab": {
     "base_uri": "https://localhost:8080/"
    },
    "executionInfo": {
     "elapsed": 9,
     "status": "ok",
     "timestamp": 1634748274213,
     "user": {
      "displayName": "Александр Анатольевич Миленькин",
      "photoUrl": "https://lh3.googleusercontent.com/a-/AOh14Gh1yB_mGyNeEBrnQ_bFdA3CLdWCnTPdtAORppSkYg=s64",
      "userId": "12111341805146772458"
     },
     "user_tz": -180
    },
    "id": "T3vfuF-wXS8O",
    "outputId": "ade0853f-d9b0-4c67-e531-c9a6df259452"
   },
   "outputs": [
    {
     "name": "stdout",
     "output_type": "stream",
     "text": [
      "tensor(4206.9819, grad_fn=<SumBackward0>)\n"
     ]
    }
   ],
   "source": [
    "print((y_pred - y).pow(2).sum())"
   ]
  },
  {
   "cell_type": "code",
   "execution_count": 79,
   "metadata": {
    "ExecuteTime": {
     "end_time": "2022-09-02T07:42:17.419671Z",
     "start_time": "2022-09-02T07:42:17.412015Z"
    },
    "colab": {
     "base_uri": "https://localhost:8080/"
    },
    "executionInfo": {
     "elapsed": 23,
     "status": "ok",
     "timestamp": 1634748277070,
     "user": {
      "displayName": "Александр Анатольевич Миленькин",
      "photoUrl": "https://lh3.googleusercontent.com/a-/AOh14Gh1yB_mGyNeEBrnQ_bFdA3CLdWCnTPdtAORppSkYg=s64",
      "userId": "12111341805146772458"
     },
     "user_tz": -180
    },
    "id": "qLkn5C7JYKCp",
    "outputId": "baa352b9-850c-4a2b-8c4c-cc2c33e0c57d"
   },
   "outputs": [
    {
     "data": {
      "text/plain": [
       "(tensor([[-1265.4829,  -579.1887,   395.4865],\n",
       "         [ 1124.7198,  -312.7536,   133.0512],\n",
       "         [ -953.9496,   322.7176,   602.9830]]),\n",
       " tensor([[-536.7089,  692.0019,  606.4340,  271.0099, -675.1647,  341.4728,\n",
       "          -499.2898,  534.1570,  224.8742, -414.0666],\n",
       "         [-149.8595,  248.7481,   60.0046,  114.2942, -243.5532,  -15.8406,\n",
       "          -217.8272,  178.9087, -158.5311,  147.1855],\n",
       "         [-185.8386,   58.5034,   99.8669,   94.9878,  -20.2095,  115.9348,\n",
       "          -117.3194,  -35.5491, -288.3541,   90.5859]]))"
      ]
     },
     "execution_count": 79,
     "metadata": {},
     "output_type": "execute_result"
    }
   ],
   "source": [
    "w1.grad, w2.grad"
   ]
  },
  {
   "cell_type": "code",
   "execution_count": 80,
   "metadata": {
    "ExecuteTime": {
     "end_time": "2022-09-02T07:42:19.357405Z",
     "start_time": "2022-09-02T07:42:19.348522Z"
    },
    "colab": {
     "base_uri": "https://localhost:8080/"
    },
    "executionInfo": {
     "elapsed": 378,
     "status": "ok",
     "timestamp": 1634748289045,
     "user": {
      "displayName": "Александр Анатольевич Миленькин",
      "photoUrl": "https://lh3.googleusercontent.com/a-/AOh14Gh1yB_mGyNeEBrnQ_bFdA3CLdWCnTPdtAORppSkYg=s64",
      "userId": "12111341805146772458"
     },
     "user_tz": -180
    },
    "id": "jr19Gh3ZU2Ws",
    "outputId": "e26a89e1-3f37-4705-a7da-3b21231cd693"
   },
   "outputs": [
    {
     "name": "stderr",
     "output_type": "stream",
     "text": [
      "/var/folders/6q/6lhcsz8d367_fdnlq8mnrfg00000gn/T/ipykernel_30588/694883974.py:1: UserWarning: The .grad attribute of a Tensor that is not a leaf Tensor is being accessed. Its .grad attribute won't be populated during autograd.backward(). If you indeed want the gradient for a non-leaf Tensor, use .retain_grad() on the non-leaf Tensor. If you access the non-leaf Tensor by mistake, make sure you access the leaf Tensor instead. See github.com/pytorch/pytorch/pull/30531 for more informations.\n",
      "  loss.grad # нет доступа к нелистовым градиентам в дереве AD\n"
     ]
    }
   ],
   "source": [
    "loss.grad # нет доступа к нелистовым градиентам в дереве AD"
   ]
  },
  {
   "cell_type": "code",
   "execution_count": 81,
   "metadata": {
    "ExecuteTime": {
     "end_time": "2022-09-02T07:42:20.137677Z",
     "start_time": "2022-09-02T07:42:20.131269Z"
    },
    "id": "9U4CN8EQSrrr"
   },
   "outputs": [],
   "source": [
    "# заставляем переменную запоминать градиенты фнукции потерь\n",
    "y_pred = (x @ w1).clamp(min=0).matmul(w2)\n",
    "y_pred.retain_grad()\n",
    "\n",
    "loss = (y_pred - y).pow(2).sum()\n",
    "loss.retain_grad()\n",
    "\n",
    "loss.backward()"
   ]
  },
  {
   "cell_type": "code",
   "execution_count": 82,
   "metadata": {
    "ExecuteTime": {
     "end_time": "2022-09-02T07:42:21.311063Z",
     "start_time": "2022-09-02T07:42:21.246770Z"
    },
    "colab": {
     "base_uri": "https://localhost:8080/"
    },
    "executionInfo": {
     "elapsed": 512,
     "status": "ok",
     "timestamp": 1634748322532,
     "user": {
      "displayName": "Александр Анатольевич Миленькин",
      "photoUrl": "https://lh3.googleusercontent.com/a-/AOh14Gh1yB_mGyNeEBrnQ_bFdA3CLdWCnTPdtAORppSkYg=s64",
      "userId": "12111341805146772458"
     },
     "user_tz": -180
    },
    "id": "IKj2jd0LSwI_",
    "outputId": "8c8a60fa-bd20-4025-a502-bd38c4392fdc"
   },
   "outputs": [
    {
     "data": {
      "text/plain": [
       "tensor(1.)"
      ]
     },
     "execution_count": 82,
     "metadata": {},
     "output_type": "execute_result"
    }
   ],
   "source": [
    "loss.grad"
   ]
  },
  {
   "cell_type": "code",
   "execution_count": 83,
   "metadata": {
    "ExecuteTime": {
     "end_time": "2022-09-02T07:42:21.814311Z",
     "start_time": "2022-09-02T07:42:21.808660Z"
    },
    "id": "CYkrFbD5YKCq"
   },
   "outputs": [],
   "source": [
    "x.grad # не требует градиента"
   ]
  },
  {
   "cell_type": "code",
   "execution_count": 84,
   "metadata": {
    "ExecuteTime": {
     "end_time": "2022-09-02T07:42:22.255094Z",
     "start_time": "2022-09-02T07:42:22.247281Z"
    },
    "id": "ouMNnbtXYKCr"
   },
   "outputs": [],
   "source": [
    "y.grad # не требует градиента"
   ]
  },
  {
   "cell_type": "markdown",
   "metadata": {
    "id": "DIsqxWIvYKCs"
   },
   "source": [
    "**Замечание:** Градиенты помещаются в поле `.grad` тензоров, на которых они вычисляются."
   ]
  },
  {
   "cell_type": "code",
   "execution_count": 85,
   "metadata": {
    "ExecuteTime": {
     "end_time": "2022-09-02T07:42:29.107964Z",
     "start_time": "2022-09-02T07:42:29.101800Z"
    },
    "colab": {
     "base_uri": "https://localhost:8080/"
    },
    "executionInfo": {
     "elapsed": 419,
     "status": "ok",
     "timestamp": 1634748344564,
     "user": {
      "displayName": "Александр Анатольевич Миленькин",
      "photoUrl": "https://lh3.googleusercontent.com/a-/AOh14Gh1yB_mGyNeEBrnQ_bFdA3CLdWCnTPdtAORppSkYg=s64",
      "userId": "12111341805146772458"
     },
     "user_tz": -180
    },
    "id": "5wU_TFedYKCt",
    "outputId": "976ca4fb-6247-4452-9322-da022fe43fcc"
   },
   "outputs": [
    {
     "data": {
      "text/plain": [
       "tensor([[-1.3377, -1.1760,  0.3174],\n",
       "        [ 1.9493, -0.3262,  0.6954],\n",
       "        [-0.9066,  1.1248,  1.4363]], requires_grad=True)"
      ]
     },
     "execution_count": 85,
     "metadata": {},
     "output_type": "execute_result"
    }
   ],
   "source": [
    "w1"
   ]
  },
  {
   "cell_type": "code",
   "execution_count": 86,
   "metadata": {
    "ExecuteTime": {
     "end_time": "2022-09-02T07:42:29.702613Z",
     "start_time": "2022-09-02T07:42:29.696396Z"
    },
    "id": "UhhUL-mwTKaZ"
   },
   "outputs": [],
   "source": [
    "with torch.no_grad(): # говорим торчу не вычислять градиенты (когда валидируем модель - forward propogation)\n",
    "  \n",
    "    pass"
   ]
  },
  {
   "cell_type": "markdown",
   "metadata": {
    "id": "J094WEHQYKCv"
   },
   "source": [
    "## Дополнительные материалы"
   ]
  },
  {
   "cell_type": "markdown",
   "metadata": {
    "id": "ftVUTfvUYKCv"
   },
   "source": [
    "*1). Official PyTorch tutorials: https://pytorch.org/tutorials/beginner/blitz/tensor_tutorial.html#sphx-glr-beginner-blitz-tensor-tutorial-py*"
   ]
  },
  {
   "cell_type": "markdown",
   "metadata": {
    "id": "ovymy5F6YKCw"
   },
   "source": [
    "*2). arXiv article about the deep learning frameworks comparison: https://arxiv.org/pdf/1511.06435.pdf*"
   ]
  },
  {
   "cell_type": "markdown",
   "metadata": {
    "id": "VXEEowQAYKCx"
   },
   "source": [
    "*3). Useful repo with different tutorials: https://github.com/yunjey/pytorch-tutorial*"
   ]
  },
  {
   "cell_type": "markdown",
   "metadata": {
    "id": "9cROZcrYYKC0"
   },
   "source": [
    "*4). Facebook AI Research (main contributor of PyTorch) website: https://facebook.ai/developers/tools*"
   ]
  },
  {
   "cell_type": "code",
   "execution_count": null,
   "metadata": {
    "id": "cZSzhGn1l2xi"
   },
   "outputs": [],
   "source": []
  }
 ],
 "metadata": {
  "accelerator": "GPU",
  "colab": {
   "collapsed_sections": [],
   "name": "[seminar]pytorch_basics.ipynb",
   "provenance": [
    {
     "file_id": "1Aq2WDr8ocV0DFHAxLu7wPOai06a3HyV_",
     "timestamp": 1602968047490
    },
    {
     "file_id": "1YHD8xFT3QC5H6MZwnmv89Q93k1k0MfCV",
     "timestamp": 1602951080295
    },
    {
     "file_id": "1xBkndRb9dYUgCtS98x2bCF170VFMMubl",
     "timestamp": 1572021903909
    }
   ]
  },
  "kernelspec": {
   "display_name": "Python 3 (ipykernel)",
   "language": "python",
   "name": "python3"
  },
  "language_info": {
   "codemirror_mode": {
    "name": "ipython",
    "version": 3
   },
   "file_extension": ".py",
   "mimetype": "text/x-python",
   "name": "python",
   "nbconvert_exporter": "python",
   "pygments_lexer": "ipython3",
   "version": "3.9.7"
  }
 },
 "nbformat": 4,
 "nbformat_minor": 1
}
